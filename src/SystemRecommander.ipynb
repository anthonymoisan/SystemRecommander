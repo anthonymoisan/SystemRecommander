{
 "cells": [
  {
   "cell_type": "markdown",
   "metadata": {},
   "source": [
    "# Description du projet et des jeux de données"
   ]
  },
  {
   "cell_type": "markdown",
   "metadata": {},
   "source": [
    "L'objectif du projet est de mettre en place un système de recommandation. \n",
    "\n",
    "Dans le cas présent, nous allons utiliser un dataset sur des livres avec trois tables : [dataset](http://www2.informatik.uni-freiburg.de/~cziegler/BX/).\n",
    "\n",
    "**BX-Users**\n",
    "Contains the users. Note that user IDs (`User-ID`) have been anonymized and map to integers. Demographic data is provided (`Location`, `Age`) if available. Otherwise, these fields contain NULL-values.\n",
    "\n",
    "**BX-Books**\n",
    "Books are identified by their respective ISBN. Invalid ISBNs have already been removed from the dataset. Moreover, some content-based information is given (`Book-Title`, `Book-Author`, `Year-Of-Publication`, `Publisher`), obtained from Amazon Web Services. Note that in case of several authors, only the first is provided. URLs linking to cover images are also given, appearing in three different flavours (`Image-URL-S`, `Image-URL-M`, `Image-URL-L`), i.e., small, medium, large. These URLs point to the Amazon web site. \n",
    "\n",
    "**BX-Book-Ratings**\n",
    "Contains the book rating information. Ratings (`Book-Rating`) are either explicit, expressed on a scale from 1-10 (higher values denoting higher appreciation), or implicit, expressed by 0."
   ]
  },
  {
   "cell_type": "markdown",
   "metadata": {},
   "source": [
    "# Librairies"
   ]
  },
  {
   "cell_type": "code",
   "execution_count": 1,
   "metadata": {},
   "outputs": [],
   "source": [
    "import pandas as pd\n",
    "import numpy as np\n",
    "import matplotlib.pyplot as plt\n",
    "import seaborn as sns\n",
    "%matplotlib inline"
   ]
  },
  {
   "cell_type": "markdown",
   "metadata": {},
   "source": [
    "# Chargement des fichiers et quelques statistiques"
   ]
  },
  {
   "cell_type": "markdown",
   "metadata": {},
   "source": [
    "## Lecture des fichiers"
   ]
  },
  {
   "cell_type": "code",
   "execution_count": 2,
   "metadata": {},
   "outputs": [
    {
     "name": "stdout",
     "output_type": "stream",
     "text": [
      "taille du jeu de donnees Users : (278858, 3)\n"
     ]
    },
    {
     "data": {
      "text/html": [
       "<div>\n",
       "<style scoped>\n",
       "    .dataframe tbody tr th:only-of-type {\n",
       "        vertical-align: middle;\n",
       "    }\n",
       "\n",
       "    .dataframe tbody tr th {\n",
       "        vertical-align: top;\n",
       "    }\n",
       "\n",
       "    .dataframe thead th {\n",
       "        text-align: right;\n",
       "    }\n",
       "</style>\n",
       "<table border=\"1\" class=\"dataframe\">\n",
       "  <thead>\n",
       "    <tr style=\"text-align: right;\">\n",
       "      <th></th>\n",
       "      <th>User-ID</th>\n",
       "      <th>Location</th>\n",
       "      <th>Age</th>\n",
       "    </tr>\n",
       "  </thead>\n",
       "  <tbody>\n",
       "    <tr>\n",
       "      <td>0</td>\n",
       "      <td>1</td>\n",
       "      <td>nyc, new york, usa</td>\n",
       "      <td>NaN</td>\n",
       "    </tr>\n",
       "    <tr>\n",
       "      <td>1</td>\n",
       "      <td>2</td>\n",
       "      <td>stockton, california, usa</td>\n",
       "      <td>18.0</td>\n",
       "    </tr>\n",
       "    <tr>\n",
       "      <td>2</td>\n",
       "      <td>3</td>\n",
       "      <td>moscow, yukon territory, russia</td>\n",
       "      <td>NaN</td>\n",
       "    </tr>\n",
       "    <tr>\n",
       "      <td>3</td>\n",
       "      <td>4</td>\n",
       "      <td>porto, v.n.gaia, portugal</td>\n",
       "      <td>17.0</td>\n",
       "    </tr>\n",
       "    <tr>\n",
       "      <td>4</td>\n",
       "      <td>5</td>\n",
       "      <td>farnborough, hants, united kingdom</td>\n",
       "      <td>NaN</td>\n",
       "    </tr>\n",
       "    <tr>\n",
       "      <td>5</td>\n",
       "      <td>6</td>\n",
       "      <td>santa monica, california, usa</td>\n",
       "      <td>61.0</td>\n",
       "    </tr>\n",
       "    <tr>\n",
       "      <td>6</td>\n",
       "      <td>7</td>\n",
       "      <td>washington, dc, usa</td>\n",
       "      <td>NaN</td>\n",
       "    </tr>\n",
       "    <tr>\n",
       "      <td>7</td>\n",
       "      <td>8</td>\n",
       "      <td>timmins, ontario, canada</td>\n",
       "      <td>NaN</td>\n",
       "    </tr>\n",
       "    <tr>\n",
       "      <td>8</td>\n",
       "      <td>9</td>\n",
       "      <td>germantown, tennessee, usa</td>\n",
       "      <td>NaN</td>\n",
       "    </tr>\n",
       "    <tr>\n",
       "      <td>9</td>\n",
       "      <td>10</td>\n",
       "      <td>albacete, wisconsin, spain</td>\n",
       "      <td>26.0</td>\n",
       "    </tr>\n",
       "  </tbody>\n",
       "</table>\n",
       "</div>"
      ],
      "text/plain": [
       "   User-ID                            Location   Age\n",
       "0        1                  nyc, new york, usa   NaN\n",
       "1        2           stockton, california, usa  18.0\n",
       "2        3     moscow, yukon territory, russia   NaN\n",
       "3        4           porto, v.n.gaia, portugal  17.0\n",
       "4        5  farnborough, hants, united kingdom   NaN\n",
       "5        6       santa monica, california, usa  61.0\n",
       "6        7                 washington, dc, usa   NaN\n",
       "7        8            timmins, ontario, canada   NaN\n",
       "8        9          germantown, tennessee, usa   NaN\n",
       "9       10          albacete, wisconsin, spain  26.0"
      ]
     },
     "execution_count": 2,
     "metadata": {},
     "output_type": "execute_result"
    }
   ],
   "source": [
    "df_users = pd.read_csv(\"../input/BX-Users.csv\", sep=\";\",delimiter=\";\", header=0, encoding='ansi')\n",
    "print(\"taille du jeu de donnees Users :\", df_users.shape)\n",
    "df_users.head(10)"
   ]
  },
  {
   "cell_type": "code",
   "execution_count": 3,
   "metadata": {},
   "outputs": [
    {
     "name": "stderr",
     "output_type": "stream",
     "text": [
      "b'Skipping line 6452: expected 8 fields, saw 9\\nSkipping line 43667: expected 8 fields, saw 10\\nSkipping line 51751: expected 8 fields, saw 9\\n'\n",
      "b'Skipping line 92038: expected 8 fields, saw 9\\nSkipping line 104319: expected 8 fields, saw 9\\nSkipping line 121768: expected 8 fields, saw 9\\n'\n",
      "b'Skipping line 144058: expected 8 fields, saw 9\\nSkipping line 150789: expected 8 fields, saw 9\\nSkipping line 157128: expected 8 fields, saw 9\\nSkipping line 180189: expected 8 fields, saw 9\\nSkipping line 185738: expected 8 fields, saw 9\\n'\n",
      "b'Skipping line 209388: expected 8 fields, saw 9\\nSkipping line 220626: expected 8 fields, saw 9\\nSkipping line 227933: expected 8 fields, saw 11\\nSkipping line 228957: expected 8 fields, saw 10\\nSkipping line 245933: expected 8 fields, saw 9\\nSkipping line 251296: expected 8 fields, saw 9\\nSkipping line 259941: expected 8 fields, saw 9\\nSkipping line 261529: expected 8 fields, saw 9\\n'\n"
     ]
    },
    {
     "name": "stdout",
     "output_type": "stream",
     "text": [
      "taille du jeu de donnees Books : (271360, 8)\n"
     ]
    },
    {
     "name": "stderr",
     "output_type": "stream",
     "text": [
      "C:\\Users\\bigdata\\Anaconda3\\lib\\site-packages\\IPython\\core\\interactiveshell.py:3058: DtypeWarning: Columns (3) have mixed types. Specify dtype option on import or set low_memory=False.\n",
      "  interactivity=interactivity, compiler=compiler, result=result)\n"
     ]
    },
    {
     "data": {
      "text/html": [
       "<div>\n",
       "<style scoped>\n",
       "    .dataframe tbody tr th:only-of-type {\n",
       "        vertical-align: middle;\n",
       "    }\n",
       "\n",
       "    .dataframe tbody tr th {\n",
       "        vertical-align: top;\n",
       "    }\n",
       "\n",
       "    .dataframe thead th {\n",
       "        text-align: right;\n",
       "    }\n",
       "</style>\n",
       "<table border=\"1\" class=\"dataframe\">\n",
       "  <thead>\n",
       "    <tr style=\"text-align: right;\">\n",
       "      <th></th>\n",
       "      <th>ISBN</th>\n",
       "      <th>Book-Title</th>\n",
       "      <th>Book-Author</th>\n",
       "      <th>Year-Of-Publication</th>\n",
       "      <th>Publisher</th>\n",
       "      <th>Image-URL-S</th>\n",
       "      <th>Image-URL-M</th>\n",
       "      <th>Image-URL-L</th>\n",
       "    </tr>\n",
       "  </thead>\n",
       "  <tbody>\n",
       "    <tr>\n",
       "      <td>0</td>\n",
       "      <td>0195153448</td>\n",
       "      <td>Classical Mythology</td>\n",
       "      <td>Mark P. O. Morford</td>\n",
       "      <td>2002</td>\n",
       "      <td>Oxford University Press</td>\n",
       "      <td>http://images.amazon.com/images/P/0195153448.0...</td>\n",
       "      <td>http://images.amazon.com/images/P/0195153448.0...</td>\n",
       "      <td>http://images.amazon.com/images/P/0195153448.0...</td>\n",
       "    </tr>\n",
       "    <tr>\n",
       "      <td>1</td>\n",
       "      <td>0002005018</td>\n",
       "      <td>Clara Callan</td>\n",
       "      <td>Richard Bruce Wright</td>\n",
       "      <td>2001</td>\n",
       "      <td>HarperFlamingo Canada</td>\n",
       "      <td>http://images.amazon.com/images/P/0002005018.0...</td>\n",
       "      <td>http://images.amazon.com/images/P/0002005018.0...</td>\n",
       "      <td>http://images.amazon.com/images/P/0002005018.0...</td>\n",
       "    </tr>\n",
       "    <tr>\n",
       "      <td>2</td>\n",
       "      <td>0060973129</td>\n",
       "      <td>Decision in Normandy</td>\n",
       "      <td>Carlo D'Este</td>\n",
       "      <td>1991</td>\n",
       "      <td>HarperPerennial</td>\n",
       "      <td>http://images.amazon.com/images/P/0060973129.0...</td>\n",
       "      <td>http://images.amazon.com/images/P/0060973129.0...</td>\n",
       "      <td>http://images.amazon.com/images/P/0060973129.0...</td>\n",
       "    </tr>\n",
       "    <tr>\n",
       "      <td>3</td>\n",
       "      <td>0374157065</td>\n",
       "      <td>Flu: The Story of the Great Influenza Pandemic...</td>\n",
       "      <td>Gina Bari Kolata</td>\n",
       "      <td>1999</td>\n",
       "      <td>Farrar Straus Giroux</td>\n",
       "      <td>http://images.amazon.com/images/P/0374157065.0...</td>\n",
       "      <td>http://images.amazon.com/images/P/0374157065.0...</td>\n",
       "      <td>http://images.amazon.com/images/P/0374157065.0...</td>\n",
       "    </tr>\n",
       "    <tr>\n",
       "      <td>4</td>\n",
       "      <td>0393045218</td>\n",
       "      <td>The Mummies of Urumchi</td>\n",
       "      <td>E. J. W. Barber</td>\n",
       "      <td>1999</td>\n",
       "      <td>W. W. Norton &amp;amp; Company</td>\n",
       "      <td>http://images.amazon.com/images/P/0393045218.0...</td>\n",
       "      <td>http://images.amazon.com/images/P/0393045218.0...</td>\n",
       "      <td>http://images.amazon.com/images/P/0393045218.0...</td>\n",
       "    </tr>\n",
       "    <tr>\n",
       "      <td>5</td>\n",
       "      <td>0399135782</td>\n",
       "      <td>The Kitchen God's Wife</td>\n",
       "      <td>Amy Tan</td>\n",
       "      <td>1991</td>\n",
       "      <td>Putnam Pub Group</td>\n",
       "      <td>http://images.amazon.com/images/P/0399135782.0...</td>\n",
       "      <td>http://images.amazon.com/images/P/0399135782.0...</td>\n",
       "      <td>http://images.amazon.com/images/P/0399135782.0...</td>\n",
       "    </tr>\n",
       "    <tr>\n",
       "      <td>6</td>\n",
       "      <td>0425176428</td>\n",
       "      <td>What If?: The World's Foremost Military Histor...</td>\n",
       "      <td>Robert Cowley</td>\n",
       "      <td>2000</td>\n",
       "      <td>Berkley Publishing Group</td>\n",
       "      <td>http://images.amazon.com/images/P/0425176428.0...</td>\n",
       "      <td>http://images.amazon.com/images/P/0425176428.0...</td>\n",
       "      <td>http://images.amazon.com/images/P/0425176428.0...</td>\n",
       "    </tr>\n",
       "    <tr>\n",
       "      <td>7</td>\n",
       "      <td>0671870432</td>\n",
       "      <td>PLEADING GUILTY</td>\n",
       "      <td>Scott Turow</td>\n",
       "      <td>1993</td>\n",
       "      <td>Audioworks</td>\n",
       "      <td>http://images.amazon.com/images/P/0671870432.0...</td>\n",
       "      <td>http://images.amazon.com/images/P/0671870432.0...</td>\n",
       "      <td>http://images.amazon.com/images/P/0671870432.0...</td>\n",
       "    </tr>\n",
       "    <tr>\n",
       "      <td>8</td>\n",
       "      <td>0679425608</td>\n",
       "      <td>Under the Black Flag: The Romance and the Real...</td>\n",
       "      <td>David Cordingly</td>\n",
       "      <td>1996</td>\n",
       "      <td>Random House</td>\n",
       "      <td>http://images.amazon.com/images/P/0679425608.0...</td>\n",
       "      <td>http://images.amazon.com/images/P/0679425608.0...</td>\n",
       "      <td>http://images.amazon.com/images/P/0679425608.0...</td>\n",
       "    </tr>\n",
       "    <tr>\n",
       "      <td>9</td>\n",
       "      <td>074322678X</td>\n",
       "      <td>Where You'll Find Me: And Other Stories</td>\n",
       "      <td>Ann Beattie</td>\n",
       "      <td>2002</td>\n",
       "      <td>Scribner</td>\n",
       "      <td>http://images.amazon.com/images/P/074322678X.0...</td>\n",
       "      <td>http://images.amazon.com/images/P/074322678X.0...</td>\n",
       "      <td>http://images.amazon.com/images/P/074322678X.0...</td>\n",
       "    </tr>\n",
       "  </tbody>\n",
       "</table>\n",
       "</div>"
      ],
      "text/plain": [
       "         ISBN                                         Book-Title  \\\n",
       "0  0195153448                                Classical Mythology   \n",
       "1  0002005018                                       Clara Callan   \n",
       "2  0060973129                               Decision in Normandy   \n",
       "3  0374157065  Flu: The Story of the Great Influenza Pandemic...   \n",
       "4  0393045218                             The Mummies of Urumchi   \n",
       "5  0399135782                             The Kitchen God's Wife   \n",
       "6  0425176428  What If?: The World's Foremost Military Histor...   \n",
       "7  0671870432                                    PLEADING GUILTY   \n",
       "8  0679425608  Under the Black Flag: The Romance and the Real...   \n",
       "9  074322678X            Where You'll Find Me: And Other Stories   \n",
       "\n",
       "            Book-Author Year-Of-Publication                   Publisher  \\\n",
       "0    Mark P. O. Morford                2002     Oxford University Press   \n",
       "1  Richard Bruce Wright                2001       HarperFlamingo Canada   \n",
       "2          Carlo D'Este                1991             HarperPerennial   \n",
       "3      Gina Bari Kolata                1999        Farrar Straus Giroux   \n",
       "4       E. J. W. Barber                1999  W. W. Norton &amp; Company   \n",
       "5               Amy Tan                1991            Putnam Pub Group   \n",
       "6         Robert Cowley                2000    Berkley Publishing Group   \n",
       "7           Scott Turow                1993                  Audioworks   \n",
       "8       David Cordingly                1996                Random House   \n",
       "9           Ann Beattie                2002                    Scribner   \n",
       "\n",
       "                                         Image-URL-S  \\\n",
       "0  http://images.amazon.com/images/P/0195153448.0...   \n",
       "1  http://images.amazon.com/images/P/0002005018.0...   \n",
       "2  http://images.amazon.com/images/P/0060973129.0...   \n",
       "3  http://images.amazon.com/images/P/0374157065.0...   \n",
       "4  http://images.amazon.com/images/P/0393045218.0...   \n",
       "5  http://images.amazon.com/images/P/0399135782.0...   \n",
       "6  http://images.amazon.com/images/P/0425176428.0...   \n",
       "7  http://images.amazon.com/images/P/0671870432.0...   \n",
       "8  http://images.amazon.com/images/P/0679425608.0...   \n",
       "9  http://images.amazon.com/images/P/074322678X.0...   \n",
       "\n",
       "                                         Image-URL-M  \\\n",
       "0  http://images.amazon.com/images/P/0195153448.0...   \n",
       "1  http://images.amazon.com/images/P/0002005018.0...   \n",
       "2  http://images.amazon.com/images/P/0060973129.0...   \n",
       "3  http://images.amazon.com/images/P/0374157065.0...   \n",
       "4  http://images.amazon.com/images/P/0393045218.0...   \n",
       "5  http://images.amazon.com/images/P/0399135782.0...   \n",
       "6  http://images.amazon.com/images/P/0425176428.0...   \n",
       "7  http://images.amazon.com/images/P/0671870432.0...   \n",
       "8  http://images.amazon.com/images/P/0679425608.0...   \n",
       "9  http://images.amazon.com/images/P/074322678X.0...   \n",
       "\n",
       "                                         Image-URL-L  \n",
       "0  http://images.amazon.com/images/P/0195153448.0...  \n",
       "1  http://images.amazon.com/images/P/0002005018.0...  \n",
       "2  http://images.amazon.com/images/P/0060973129.0...  \n",
       "3  http://images.amazon.com/images/P/0374157065.0...  \n",
       "4  http://images.amazon.com/images/P/0393045218.0...  \n",
       "5  http://images.amazon.com/images/P/0399135782.0...  \n",
       "6  http://images.amazon.com/images/P/0425176428.0...  \n",
       "7  http://images.amazon.com/images/P/0671870432.0...  \n",
       "8  http://images.amazon.com/images/P/0679425608.0...  \n",
       "9  http://images.amazon.com/images/P/074322678X.0...  "
      ]
     },
     "execution_count": 3,
     "metadata": {},
     "output_type": "execute_result"
    }
   ],
   "source": [
    "#certaines données sont mal formées avec des \"\" dans les champs. Utilisation d'error_bad_lines\n",
    "df_books = pd.read_csv(\"../input/BX-Books.csv\", sep=\";\",delimiter=\";\", header=0, encoding='ansi', error_bad_lines=False)\n",
    "print(\"taille du jeu de donnees Books :\", df_books.shape)\n",
    "df_books.head(10)"
   ]
  },
  {
   "cell_type": "code",
   "execution_count": 4,
   "metadata": {},
   "outputs": [
    {
     "name": "stdout",
     "output_type": "stream",
     "text": [
      "taille du jeu de donnees Book Ratings : (1149780, 3)\n"
     ]
    },
    {
     "data": {
      "text/html": [
       "<div>\n",
       "<style scoped>\n",
       "    .dataframe tbody tr th:only-of-type {\n",
       "        vertical-align: middle;\n",
       "    }\n",
       "\n",
       "    .dataframe tbody tr th {\n",
       "        vertical-align: top;\n",
       "    }\n",
       "\n",
       "    .dataframe thead th {\n",
       "        text-align: right;\n",
       "    }\n",
       "</style>\n",
       "<table border=\"1\" class=\"dataframe\">\n",
       "  <thead>\n",
       "    <tr style=\"text-align: right;\">\n",
       "      <th></th>\n",
       "      <th>User-ID</th>\n",
       "      <th>ISBN</th>\n",
       "      <th>Book-Rating</th>\n",
       "    </tr>\n",
       "  </thead>\n",
       "  <tbody>\n",
       "    <tr>\n",
       "      <td>0</td>\n",
       "      <td>276725</td>\n",
       "      <td>034545104X</td>\n",
       "      <td>0</td>\n",
       "    </tr>\n",
       "    <tr>\n",
       "      <td>1</td>\n",
       "      <td>276726</td>\n",
       "      <td>0155061224</td>\n",
       "      <td>5</td>\n",
       "    </tr>\n",
       "    <tr>\n",
       "      <td>2</td>\n",
       "      <td>276727</td>\n",
       "      <td>0446520802</td>\n",
       "      <td>0</td>\n",
       "    </tr>\n",
       "    <tr>\n",
       "      <td>3</td>\n",
       "      <td>276729</td>\n",
       "      <td>052165615X</td>\n",
       "      <td>3</td>\n",
       "    </tr>\n",
       "    <tr>\n",
       "      <td>4</td>\n",
       "      <td>276729</td>\n",
       "      <td>0521795028</td>\n",
       "      <td>6</td>\n",
       "    </tr>\n",
       "    <tr>\n",
       "      <td>5</td>\n",
       "      <td>276733</td>\n",
       "      <td>2080674722</td>\n",
       "      <td>0</td>\n",
       "    </tr>\n",
       "    <tr>\n",
       "      <td>6</td>\n",
       "      <td>276736</td>\n",
       "      <td>3257224281</td>\n",
       "      <td>8</td>\n",
       "    </tr>\n",
       "    <tr>\n",
       "      <td>7</td>\n",
       "      <td>276737</td>\n",
       "      <td>0600570967</td>\n",
       "      <td>6</td>\n",
       "    </tr>\n",
       "    <tr>\n",
       "      <td>8</td>\n",
       "      <td>276744</td>\n",
       "      <td>038550120X</td>\n",
       "      <td>7</td>\n",
       "    </tr>\n",
       "    <tr>\n",
       "      <td>9</td>\n",
       "      <td>276745</td>\n",
       "      <td>342310538</td>\n",
       "      <td>10</td>\n",
       "    </tr>\n",
       "  </tbody>\n",
       "</table>\n",
       "</div>"
      ],
      "text/plain": [
       "   User-ID        ISBN  Book-Rating\n",
       "0   276725  034545104X            0\n",
       "1   276726  0155061224            5\n",
       "2   276727  0446520802            0\n",
       "3   276729  052165615X            3\n",
       "4   276729  0521795028            6\n",
       "5   276733  2080674722            0\n",
       "6   276736  3257224281            8\n",
       "7   276737  0600570967            6\n",
       "8   276744  038550120X            7\n",
       "9   276745   342310538           10"
      ]
     },
     "execution_count": 4,
     "metadata": {},
     "output_type": "execute_result"
    }
   ],
   "source": [
    "df_ratings = pd.read_csv(\"../input/BX-Book-Ratings.csv\", sep=\";\",delimiter=\";\", header=0, encoding='ansi')\n",
    "print(\"taille du jeu de donnees Book Ratings :\", df_ratings.shape)\n",
    "df_ratings.head(10)"
   ]
  },
  {
   "cell_type": "markdown",
   "metadata": {},
   "source": [
    "## Quelques statistiques descriptives"
   ]
  },
  {
   "cell_type": "markdown",
   "metadata": {},
   "source": [
    "__Statistiques sur les Users__"
   ]
  },
  {
   "cell_type": "code",
   "execution_count": 5,
   "metadata": {},
   "outputs": [
    {
     "name": "stdout",
     "output_type": "stream",
     "text": [
      "# Nb Lines File Users :  278858\n"
     ]
    }
   ],
   "source": [
    "nb_LinesUsers = df_users.shape[0]\n",
    "print(\"# Nb Lines File Users : \", nb_LinesUsers)"
   ]
  },
  {
   "cell_type": "code",
   "execution_count": 6,
   "metadata": {},
   "outputs": [
    {
     "name": "stdout",
     "output_type": "stream",
     "text": [
      "# Users :  278858\n"
     ]
    }
   ],
   "source": [
    "nb_Users = len(df_users['User-ID'].unique())\n",
    "print(\"# Users : \", nb_Users)"
   ]
  },
  {
   "cell_type": "markdown",
   "metadata": {},
   "source": [
    "Tous les users sont uniques."
   ]
  },
  {
   "cell_type": "markdown",
   "metadata": {},
   "source": [
    "__Statistiques sur les Livres__"
   ]
  },
  {
   "cell_type": "code",
   "execution_count": 7,
   "metadata": {},
   "outputs": [
    {
     "name": "stdout",
     "output_type": "stream",
     "text": [
      "# Nb Lines File Books :  271360\n"
     ]
    }
   ],
   "source": [
    "nb_LinesBooks = df_books.shape[0]\n",
    "print(\"# Nb Lines File Books : \", nb_LinesBooks)"
   ]
  },
  {
   "cell_type": "code",
   "execution_count": 8,
   "metadata": {},
   "outputs": [
    {
     "name": "stdout",
     "output_type": "stream",
     "text": [
      "# Books :  271360\n"
     ]
    }
   ],
   "source": [
    "nb_Books = len(df_books['ISBN'].unique())\n",
    "print(\"# Books : \", nb_Books)"
   ]
  },
  {
   "cell_type": "markdown",
   "metadata": {},
   "source": [
    "Tous les livres sont uniques."
   ]
  },
  {
   "cell_type": "markdown",
   "metadata": {},
   "source": [
    "__Statistiques sur les Rating__"
   ]
  },
  {
   "cell_type": "code",
   "execution_count": 9,
   "metadata": {},
   "outputs": [
    {
     "name": "stdout",
     "output_type": "stream",
     "text": [
      "# Nb Lines File Ratings :  1149780\n"
     ]
    }
   ],
   "source": [
    "nb_LinesRatings = df_ratings.shape[0]\n",
    "print(\"# Nb Lines File Ratings : \", nb_LinesRatings)"
   ]
  },
  {
   "cell_type": "code",
   "execution_count": 10,
   "metadata": {},
   "outputs": [
    {
     "data": {
      "text/plain": [
       "[0, 1, 2, 3, 4, 5, 6, 7, 8, 9, 10]"
      ]
     },
     "execution_count": 10,
     "metadata": {},
     "output_type": "execute_result"
    }
   ],
   "source": [
    "set_scores = list(set(df_ratings[\"Book-Rating\"]))\n",
    "set_scores"
   ]
  },
  {
   "cell_type": "code",
   "execution_count": 11,
   "metadata": {},
   "outputs": [
    {
     "name": "stdout",
     "output_type": "stream",
     "text": [
      "Probleme de duplication dans ratings : False\n"
     ]
    }
   ],
   "source": [
    "# Checking if the user has rated the same book twice, in that case we just take max of them\n",
    "df_validationRatings = df_ratings.groupby(['User-ID','ISBN']).aggregate(np.max)\n",
    "print(\"Probleme de duplication dans ratings :\", len(df_validationRatings) != nb_LinesRatings)"
   ]
  },
  {
   "cell_type": "markdown",
   "metadata": {},
   "source": [
    "Plus d'un million de notations sur des livres compris entre 0 et 10 par des utilisateurs et il n'y a pas de duplication avec un utilisateur ayant noté deux fois le même livre."
   ]
  },
  {
   "cell_type": "code",
   "execution_count": 12,
   "metadata": {},
   "outputs": [
    {
     "name": "stdout",
     "output_type": "stream",
     "text": [
      "Sparsity :  0.99998\n"
     ]
    }
   ],
   "source": [
    "sparsity = round(1.0 - nb_LinesRatings/(1.0*(nb_Books*nb_Users)),5)\n",
    "print(\"Sparsity : \", sparsity)"
   ]
  },
  {
   "cell_type": "code",
   "execution_count": 13,
   "metadata": {},
   "outputs": [
    {
     "data": {
      "text/plain": [
       "<seaborn.axisgrid.FacetGrid at 0x25e0d19c3c8>"
      ]
     },
     "execution_count": 13,
     "metadata": {},
     "output_type": "execute_result"
    },
    {
     "data": {
      "image/png": "[encoded data removed]",
      "text/plain": [
       "<Figure size 360x360 with 1 Axes>"
      ]
     },
     "metadata": {
      "needs_background": "light"
     },
     "output_type": "display_data"
    }
   ],
   "source": [
    "count_ratings = df_ratings.groupby('Book-Rating').count()\n",
    "count_ratings['Book-Rating'] = count_ratings.index\n",
    "count_ratings['Perc_total']=round(count_ratings['User-ID']*100/count_ratings['User-ID'].sum(),1)\n",
    "sns.catplot(x= \"Book-Rating\", y=\"Perc_total\",data=count_ratings,kind='bar')"
   ]
  },
  {
   "cell_type": "markdown",
   "metadata": {},
   "source": [
    "Nous avons pu voir simplement :\n",
    "* Le nombre d'utilisateurs, le nombre de livres, la sparsité de la matrice users par livre \n",
    "* La distribution des notes sur les livres : la modalité 0 est la plus représentée mais est une note implicite."
   ]
  },
  {
   "cell_type": "markdown",
   "metadata": {},
   "source": [
    "# Construction du Dataset"
   ]
  },
  {
   "cell_type": "markdown",
   "metadata": {},
   "source": [
    "1. Ne comprenant pas la note 0, on va se passer de l'ensemble des notes implicites ce qui va réduire considérablement le dataset initial de ratings"
   ]
  },
  {
   "cell_type": "code",
   "execution_count": 14,
   "metadata": {},
   "outputs": [
    {
     "data": {
      "text/plain": [
       "433671"
      ]
     },
     "execution_count": 14,
     "metadata": {},
     "output_type": "execute_result"
    }
   ],
   "source": [
    "df_ratingsRed = df_ratings[df_ratings[\"Book-Rating\"]>0]\n",
    "len(df_ratingsRed)"
   ]
  },
  {
   "cell_type": "markdown",
   "metadata": {},
   "source": [
    "2. Faisons le merge avec les users présents dans la table User"
   ]
  },
  {
   "cell_type": "code",
   "execution_count": 15,
   "metadata": {},
   "outputs": [
    {
     "data": {
      "text/html": [
       "<div>\n",
       "<style scoped>\n",
       "    .dataframe tbody tr th:only-of-type {\n",
       "        vertical-align: middle;\n",
       "    }\n",
       "\n",
       "    .dataframe tbody tr th {\n",
       "        vertical-align: top;\n",
       "    }\n",
       "\n",
       "    .dataframe thead th {\n",
       "        text-align: right;\n",
       "    }\n",
       "</style>\n",
       "<table border=\"1\" class=\"dataframe\">\n",
       "  <thead>\n",
       "    <tr style=\"text-align: right;\">\n",
       "      <th></th>\n",
       "      <th>User-ID</th>\n",
       "      <th>ISBN</th>\n",
       "      <th>Book-Rating</th>\n",
       "      <th>Location</th>\n",
       "      <th>Age</th>\n",
       "    </tr>\n",
       "  </thead>\n",
       "  <tbody>\n",
       "    <tr>\n",
       "      <td>0</td>\n",
       "      <td>276726</td>\n",
       "      <td>0155061224</td>\n",
       "      <td>5</td>\n",
       "      <td>seattle, washington, usa</td>\n",
       "      <td>NaN</td>\n",
       "    </tr>\n",
       "    <tr>\n",
       "      <td>1</td>\n",
       "      <td>276729</td>\n",
       "      <td>052165615X</td>\n",
       "      <td>3</td>\n",
       "      <td>rijeka, n/a, croatia</td>\n",
       "      <td>16.0</td>\n",
       "    </tr>\n",
       "    <tr>\n",
       "      <td>2</td>\n",
       "      <td>276729</td>\n",
       "      <td>0521795028</td>\n",
       "      <td>6</td>\n",
       "      <td>rijeka, n/a, croatia</td>\n",
       "      <td>16.0</td>\n",
       "    </tr>\n",
       "    <tr>\n",
       "      <td>3</td>\n",
       "      <td>276736</td>\n",
       "      <td>3257224281</td>\n",
       "      <td>8</td>\n",
       "      <td>salzburg, salzburg, austria</td>\n",
       "      <td>NaN</td>\n",
       "    </tr>\n",
       "    <tr>\n",
       "      <td>4</td>\n",
       "      <td>276737</td>\n",
       "      <td>0600570967</td>\n",
       "      <td>6</td>\n",
       "      <td>sydney, new south wales, australia</td>\n",
       "      <td>14.0</td>\n",
       "    </tr>\n",
       "  </tbody>\n",
       "</table>\n",
       "</div>"
      ],
      "text/plain": [
       "   User-ID        ISBN  Book-Rating                            Location   Age\n",
       "0   276726  0155061224            5            seattle, washington, usa   NaN\n",
       "1   276729  052165615X            3                rijeka, n/a, croatia  16.0\n",
       "2   276729  0521795028            6                rijeka, n/a, croatia  16.0\n",
       "3   276736  3257224281            8         salzburg, salzburg, austria   NaN\n",
       "4   276737  0600570967            6  sydney, new south wales, australia  14.0"
      ]
     },
     "execution_count": 15,
     "metadata": {},
     "output_type": "execute_result"
    }
   ],
   "source": [
    "rating_user = pd.merge(df_ratingsRed,df_users,on='User-ID')\n",
    "rating_user.head(5)"
   ]
  },
  {
   "cell_type": "code",
   "execution_count": 16,
   "metadata": {},
   "outputs": [
    {
     "data": {
      "text/plain": [
       "433671"
      ]
     },
     "execution_count": 16,
     "metadata": {},
     "output_type": "execute_result"
    }
   ],
   "source": [
    "len(rating_user)"
   ]
  },
  {
   "cell_type": "markdown",
   "metadata": {},
   "source": [
    "Pas de perte, on retrouve tous les users."
   ]
  },
  {
   "cell_type": "code",
   "execution_count": 17,
   "metadata": {},
   "outputs": [],
   "source": [
    "df = pd.merge(rating_user, df_books, on=\"ISBN\")"
   ]
  },
  {
   "cell_type": "code",
   "execution_count": 18,
   "metadata": {},
   "outputs": [
    {
     "data": {
      "text/plain": [
       "383842"
      ]
     },
     "execution_count": 18,
     "metadata": {},
     "output_type": "execute_result"
    }
   ],
   "source": [
    "len(df)"
   ]
  },
  {
   "cell_type": "markdown",
   "metadata": {},
   "source": [
    "Il y a des livres qui ne sont pas présents dans les deux tables."
   ]
  },
  {
   "cell_type": "code",
   "execution_count": 19,
   "metadata": {},
   "outputs": [
    {
     "data": {
      "text/html": [
       "<div>\n",
       "<style scoped>\n",
       "    .dataframe tbody tr th:only-of-type {\n",
       "        vertical-align: middle;\n",
       "    }\n",
       "\n",
       "    .dataframe tbody tr th {\n",
       "        vertical-align: top;\n",
       "    }\n",
       "\n",
       "    .dataframe thead th {\n",
       "        text-align: right;\n",
       "    }\n",
       "</style>\n",
       "<table border=\"1\" class=\"dataframe\">\n",
       "  <thead>\n",
       "    <tr style=\"text-align: right;\">\n",
       "      <th></th>\n",
       "      <th>User-ID</th>\n",
       "      <th>ISBN</th>\n",
       "      <th>Book-Rating</th>\n",
       "      <th>Location</th>\n",
       "      <th>Age</th>\n",
       "      <th>Book-Title</th>\n",
       "      <th>Book-Author</th>\n",
       "      <th>Year-Of-Publication</th>\n",
       "      <th>Publisher</th>\n",
       "      <th>Image-URL-S</th>\n",
       "      <th>Image-URL-M</th>\n",
       "      <th>Image-URL-L</th>\n",
       "    </tr>\n",
       "  </thead>\n",
       "  <tbody>\n",
       "    <tr>\n",
       "      <td>0</td>\n",
       "      <td>276726</td>\n",
       "      <td>0155061224</td>\n",
       "      <td>5</td>\n",
       "      <td>seattle, washington, usa</td>\n",
       "      <td>NaN</td>\n",
       "      <td>Rites of Passage</td>\n",
       "      <td>Judith Rae</td>\n",
       "      <td>2001</td>\n",
       "      <td>Heinle</td>\n",
       "      <td>http://images.amazon.com/images/P/0155061224.0...</td>\n",
       "      <td>http://images.amazon.com/images/P/0155061224.0...</td>\n",
       "      <td>http://images.amazon.com/images/P/0155061224.0...</td>\n",
       "    </tr>\n",
       "    <tr>\n",
       "      <td>1</td>\n",
       "      <td>276729</td>\n",
       "      <td>052165615X</td>\n",
       "      <td>3</td>\n",
       "      <td>rijeka, n/a, croatia</td>\n",
       "      <td>16.0</td>\n",
       "      <td>Help!: Level 1</td>\n",
       "      <td>Philip Prowse</td>\n",
       "      <td>1999</td>\n",
       "      <td>Cambridge University Press</td>\n",
       "      <td>http://images.amazon.com/images/P/052165615X.0...</td>\n",
       "      <td>http://images.amazon.com/images/P/052165615X.0...</td>\n",
       "      <td>http://images.amazon.com/images/P/052165615X.0...</td>\n",
       "    </tr>\n",
       "    <tr>\n",
       "      <td>2</td>\n",
       "      <td>276729</td>\n",
       "      <td>0521795028</td>\n",
       "      <td>6</td>\n",
       "      <td>rijeka, n/a, croatia</td>\n",
       "      <td>16.0</td>\n",
       "      <td>The Amsterdam Connection : Level 4 (Cambridge ...</td>\n",
       "      <td>Sue Leather</td>\n",
       "      <td>2001</td>\n",
       "      <td>Cambridge University Press</td>\n",
       "      <td>http://images.amazon.com/images/P/0521795028.0...</td>\n",
       "      <td>http://images.amazon.com/images/P/0521795028.0...</td>\n",
       "      <td>http://images.amazon.com/images/P/0521795028.0...</td>\n",
       "    </tr>\n",
       "    <tr>\n",
       "      <td>3</td>\n",
       "      <td>276744</td>\n",
       "      <td>038550120X</td>\n",
       "      <td>7</td>\n",
       "      <td>torrance, california, usa</td>\n",
       "      <td>NaN</td>\n",
       "      <td>A Painted House</td>\n",
       "      <td>JOHN GRISHAM</td>\n",
       "      <td>2001</td>\n",
       "      <td>Doubleday</td>\n",
       "      <td>http://images.amazon.com/images/P/038550120X.0...</td>\n",
       "      <td>http://images.amazon.com/images/P/038550120X.0...</td>\n",
       "      <td>http://images.amazon.com/images/P/038550120X.0...</td>\n",
       "    </tr>\n",
       "    <tr>\n",
       "      <td>4</td>\n",
       "      <td>11676</td>\n",
       "      <td>038550120X</td>\n",
       "      <td>10</td>\n",
       "      <td>n/a, n/a, n/a</td>\n",
       "      <td>NaN</td>\n",
       "      <td>A Painted House</td>\n",
       "      <td>JOHN GRISHAM</td>\n",
       "      <td>2001</td>\n",
       "      <td>Doubleday</td>\n",
       "      <td>http://images.amazon.com/images/P/038550120X.0...</td>\n",
       "      <td>http://images.amazon.com/images/P/038550120X.0...</td>\n",
       "      <td>http://images.amazon.com/images/P/038550120X.0...</td>\n",
       "    </tr>\n",
       "  </tbody>\n",
       "</table>\n",
       "</div>"
      ],
      "text/plain": [
       "   User-ID        ISBN  Book-Rating                   Location   Age  \\\n",
       "0   276726  0155061224            5   seattle, washington, usa   NaN   \n",
       "1   276729  052165615X            3       rijeka, n/a, croatia  16.0   \n",
       "2   276729  0521795028            6       rijeka, n/a, croatia  16.0   \n",
       "3   276744  038550120X            7  torrance, california, usa   NaN   \n",
       "4    11676  038550120X           10              n/a, n/a, n/a   NaN   \n",
       "\n",
       "                                          Book-Title    Book-Author  \\\n",
       "0                                   Rites of Passage     Judith Rae   \n",
       "1                                     Help!: Level 1  Philip Prowse   \n",
       "2  The Amsterdam Connection : Level 4 (Cambridge ...    Sue Leather   \n",
       "3                                    A Painted House   JOHN GRISHAM   \n",
       "4                                    A Painted House   JOHN GRISHAM   \n",
       "\n",
       "  Year-Of-Publication                   Publisher  \\\n",
       "0                2001                      Heinle   \n",
       "1                1999  Cambridge University Press   \n",
       "2                2001  Cambridge University Press   \n",
       "3                2001                   Doubleday   \n",
       "4                2001                   Doubleday   \n",
       "\n",
       "                                         Image-URL-S  \\\n",
       "0  http://images.amazon.com/images/P/0155061224.0...   \n",
       "1  http://images.amazon.com/images/P/052165615X.0...   \n",
       "2  http://images.amazon.com/images/P/0521795028.0...   \n",
       "3  http://images.amazon.com/images/P/038550120X.0...   \n",
       "4  http://images.amazon.com/images/P/038550120X.0...   \n",
       "\n",
       "                                         Image-URL-M  \\\n",
       "0  http://images.amazon.com/images/P/0155061224.0...   \n",
       "1  http://images.amazon.com/images/P/052165615X.0...   \n",
       "2  http://images.amazon.com/images/P/0521795028.0...   \n",
       "3  http://images.amazon.com/images/P/038550120X.0...   \n",
       "4  http://images.amazon.com/images/P/038550120X.0...   \n",
       "\n",
       "                                         Image-URL-L  \n",
       "0  http://images.amazon.com/images/P/0155061224.0...  \n",
       "1  http://images.amazon.com/images/P/052165615X.0...  \n",
       "2  http://images.amazon.com/images/P/0521795028.0...  \n",
       "3  http://images.amazon.com/images/P/038550120X.0...  \n",
       "4  http://images.amazon.com/images/P/038550120X.0...  "
      ]
     },
     "execution_count": 19,
     "metadata": {},
     "output_type": "execute_result"
    }
   ],
   "source": [
    "df.head(5)"
   ]
  },
  {
   "cell_type": "markdown",
   "metadata": {},
   "source": [
    "On va recalculer les statistiques sur base des données présentes sur le nombre d'Users, de books, sparsite"
   ]
  },
  {
   "cell_type": "code",
   "execution_count": 20,
   "metadata": {},
   "outputs": [
    {
     "name": "stdout",
     "output_type": "stream",
     "text": [
      "# Users :  68091\n"
     ]
    }
   ],
   "source": [
    "nb_Users = len(df['User-ID'].unique())\n",
    "print(\"# Users : \", nb_Users)"
   ]
  },
  {
   "cell_type": "code",
   "execution_count": 21,
   "metadata": {},
   "outputs": [
    {
     "name": "stdout",
     "output_type": "stream",
     "text": [
      "# Books :  149836\n"
     ]
    }
   ],
   "source": [
    "nb_Books = len(df['ISBN'].unique())\n",
    "print(\"# Books : \", nb_Books)"
   ]
  },
  {
   "cell_type": "code",
   "execution_count": 22,
   "metadata": {},
   "outputs": [
    {
     "name": "stdout",
     "output_type": "stream",
     "text": [
      "# Nb Ratings :  383842\n"
     ]
    }
   ],
   "source": [
    "nb_Ratings = df.shape[0]\n",
    "print(\"# Nb Ratings : \", nb_Ratings)"
   ]
  },
  {
   "cell_type": "code",
   "execution_count": 23,
   "metadata": {},
   "outputs": [
    {
     "name": "stdout",
     "output_type": "stream",
     "text": [
      "Sparsity :  0.99996\n"
     ]
    }
   ],
   "source": [
    "sparsity = round(1.0 - nb_Ratings/(1.0*(nb_Books*nb_Users)),5)\n",
    "print(\"Sparsity : \", sparsity)"
   ]
  },
  {
   "cell_type": "code",
   "execution_count": 24,
   "metadata": {},
   "outputs": [
    {
     "data": {
      "text/plain": [
       "<seaborn.axisgrid.FacetGrid at 0x25e1414de48>"
      ]
     },
     "execution_count": 24,
     "metadata": {},
     "output_type": "execute_result"
    },
    {
     "data": {
      "image/png": "[encoded data removed]",
      "text/plain": [
       "<Figure size 360x360 with 1 Axes>"
      ]
     },
     "metadata": {
      "needs_background": "light"
     },
     "output_type": "display_data"
    }
   ],
   "source": [
    "count_ratings = df.groupby('Book-Rating').count()\n",
    "count_ratings['Book-Rating'] = count_ratings.index\n",
    "count_ratings['Perc_total']=round(count_ratings['User-ID']*100/count_ratings['User-ID'].sum(),1)\n",
    "sns.catplot(x= \"Book-Rating\", y=\"Perc_total\",data=count_ratings,kind='bar')"
   ]
  },
  {
   "cell_type": "markdown",
   "metadata": {},
   "source": [
    "Sans surprise, on retrouve la forme de la distribution en enlevant la notation implicite."
   ]
  },
  {
   "cell_type": "markdown",
   "metadata": {},
   "source": [
    "# Recommandations"
   ]
  },
  {
   "cell_type": "markdown",
   "metadata": {},
   "source": [
    "## Recommandations non personnelles basées sur l'indicateur IMDB"
   ]
  },
  {
   "cell_type": "markdown",
   "metadata": {},
   "source": [
    "Visualisation du top 10 des livres les plus commentées avec calcul de la moyenne des scores des utilisateurs."
   ]
  },
  {
   "cell_type": "code",
   "execution_count": 25,
   "metadata": {},
   "outputs": [
    {
     "data": {
      "text/html": [
       "<div>\n",
       "<style scoped>\n",
       "    .dataframe tbody tr th:only-of-type {\n",
       "        vertical-align: middle;\n",
       "    }\n",
       "\n",
       "    .dataframe tbody tr th {\n",
       "        vertical-align: top;\n",
       "    }\n",
       "\n",
       "    .dataframe thead th {\n",
       "        text-align: right;\n",
       "    }\n",
       "</style>\n",
       "<table border=\"1\" class=\"dataframe\">\n",
       "  <thead>\n",
       "    <tr style=\"text-align: right;\">\n",
       "      <th></th>\n",
       "      <th>mean</th>\n",
       "      <th>count</th>\n",
       "    </tr>\n",
       "    <tr>\n",
       "      <th>ISBN</th>\n",
       "      <th></th>\n",
       "      <th></th>\n",
       "    </tr>\n",
       "  </thead>\n",
       "  <tbody>\n",
       "    <tr>\n",
       "      <td>0316666343</td>\n",
       "      <td>8.185290</td>\n",
       "      <td>707</td>\n",
       "    </tr>\n",
       "    <tr>\n",
       "      <td>0971880107</td>\n",
       "      <td>4.390706</td>\n",
       "      <td>581</td>\n",
       "    </tr>\n",
       "    <tr>\n",
       "      <td>0385504209</td>\n",
       "      <td>8.435318</td>\n",
       "      <td>487</td>\n",
       "    </tr>\n",
       "    <tr>\n",
       "      <td>0312195516</td>\n",
       "      <td>8.182768</td>\n",
       "      <td>383</td>\n",
       "    </tr>\n",
       "    <tr>\n",
       "      <td>0060928336</td>\n",
       "      <td>7.887500</td>\n",
       "      <td>320</td>\n",
       "    </tr>\n",
       "    <tr>\n",
       "      <td>059035342X</td>\n",
       "      <td>8.939297</td>\n",
       "      <td>313</td>\n",
       "    </tr>\n",
       "    <tr>\n",
       "      <td>0142001740</td>\n",
       "      <td>8.452769</td>\n",
       "      <td>307</td>\n",
       "    </tr>\n",
       "    <tr>\n",
       "      <td>0446672211</td>\n",
       "      <td>8.142373</td>\n",
       "      <td>295</td>\n",
       "    </tr>\n",
       "    <tr>\n",
       "      <td>044023722X</td>\n",
       "      <td>7.338078</td>\n",
       "      <td>281</td>\n",
       "    </tr>\n",
       "    <tr>\n",
       "      <td>0452282152</td>\n",
       "      <td>7.982014</td>\n",
       "      <td>278</td>\n",
       "    </tr>\n",
       "  </tbody>\n",
       "</table>\n",
       "</div>"
      ],
      "text/plain": [
       "                mean  count\n",
       "ISBN                       \n",
       "0316666343  8.185290    707\n",
       "0971880107  4.390706    581\n",
       "0385504209  8.435318    487\n",
       "0312195516  8.182768    383\n",
       "0060928336  7.887500    320\n",
       "059035342X  8.939297    313\n",
       "0142001740  8.452769    307\n",
       "0446672211  8.142373    295\n",
       "044023722X  7.338078    281\n",
       "0452282152  7.982014    278"
      ]
     },
     "execution_count": 25,
     "metadata": {},
     "output_type": "execute_result"
    }
   ],
   "source": [
    "# Finding the average rating for book and the number of ratings for each book\n",
    "avg_book_rating = pd.DataFrame(df.groupby('ISBN')['Book-Rating'].agg(['mean','count']))\n",
    "avg_book_rating.sort_values(['count'],ascending=False)[:10]"
   ]
  },
  {
   "cell_type": "code",
   "execution_count": 26,
   "metadata": {},
   "outputs": [
    {
     "name": "stdout",
     "output_type": "stream",
     "text": [
      "La moyenne des notes sur l'ensemble des livres  7.626700569505161\n"
     ]
    }
   ],
   "source": [
    "avg_rating_all = df['Book-Rating'].mean()\n",
    "print(\"La moyenne des notes sur l'ensemble des livres \", avg_rating_all)"
   ]
  },
  {
   "cell_type": "code",
   "execution_count": 27,
   "metadata": {},
   "outputs": [
    {
     "name": "stdout",
     "output_type": "stream",
     "text": [
      "Min reviews pour 70% percentile des livres  2.0\n"
     ]
    }
   ],
   "source": [
    "#calculate the percentile count. It gives the no of ratings at least 70% of the books have\n",
    "min_reviews = np.percentile(avg_book_rating['count'],70)\n",
    "print(\"Min reviews pour 70% percentile des livres \", min_reviews)"
   ]
  },
  {
   "cell_type": "markdown",
   "metadata": {},
   "source": [
    "Dans notre DataSet, il y a beaucoup de livres qui ont très peu de notations. "
   ]
  },
  {
   "cell_type": "code",
   "execution_count": 28,
   "metadata": {},
   "outputs": [],
   "source": [
    "#Pondération entre le rating du book et le rating de tous les books et je tire vers C (la moyenne des scores) si pas assez de notations et sinon vers R (la moyenne des scores des utilisateurs pour ce livre) \n",
    "def weighted_rating(x, m=min_reviews, C=avg_rating_all):\n",
    "    v = x['count']\n",
    "    R = x['mean']\n",
    "    # Calculation based on the IMDB formula\n",
    "    return (v/(v+m) * R) + (m/(m+v) * C)"
   ]
  },
  {
   "cell_type": "code",
   "execution_count": 29,
   "metadata": {},
   "outputs": [
    {
     "name": "stderr",
     "output_type": "stream",
     "text": [
      "C:\\Users\\bigdata\\Anaconda3\\lib\\site-packages\\ipykernel_launcher.py:4: SettingWithCopyWarning: \n",
      "A value is trying to be set on a copy of a slice from a DataFrame.\n",
      "Try using .loc[row_indexer,col_indexer] = value instead\n",
      "\n",
      "See the caveats in the documentation: http://pandas.pydata.org/pandas-docs/stable/user_guide/indexing.html#returning-a-view-versus-a-copy\n",
      "  after removing the cwd from sys.path.\n"
     ]
    },
    {
     "data": {
      "text/html": [
       "<div>\n",
       "<style scoped>\n",
       "    .dataframe tbody tr th:only-of-type {\n",
       "        vertical-align: middle;\n",
       "    }\n",
       "\n",
       "    .dataframe tbody tr th {\n",
       "        vertical-align: top;\n",
       "    }\n",
       "\n",
       "    .dataframe thead th {\n",
       "        text-align: right;\n",
       "    }\n",
       "</style>\n",
       "<table border=\"1\" class=\"dataframe\">\n",
       "  <thead>\n",
       "    <tr style=\"text-align: right;\">\n",
       "      <th></th>\n",
       "      <th>mean</th>\n",
       "      <th>count</th>\n",
       "      <th>Score IMDB</th>\n",
       "    </tr>\n",
       "    <tr>\n",
       "      <th>ISBN</th>\n",
       "      <th></th>\n",
       "      <th></th>\n",
       "      <th></th>\n",
       "    </tr>\n",
       "  </thead>\n",
       "  <tbody>\n",
       "    <tr>\n",
       "      <td>0002005018</td>\n",
       "      <td>7.666667</td>\n",
       "      <td>9</td>\n",
       "      <td>7.659400</td>\n",
       "    </tr>\n",
       "    <tr>\n",
       "      <td>0002116286</td>\n",
       "      <td>7.250000</td>\n",
       "      <td>4</td>\n",
       "      <td>7.375567</td>\n",
       "    </tr>\n",
       "    <tr>\n",
       "      <td>0002239183</td>\n",
       "      <td>7.333333</td>\n",
       "      <td>3</td>\n",
       "      <td>7.450680</td>\n",
       "    </tr>\n",
       "    <tr>\n",
       "      <td>0002240114</td>\n",
       "      <td>6.750000</td>\n",
       "      <td>4</td>\n",
       "      <td>7.042234</td>\n",
       "    </tr>\n",
       "    <tr>\n",
       "      <td>0002243962</td>\n",
       "      <td>5.750000</td>\n",
       "      <td>4</td>\n",
       "      <td>6.375567</td>\n",
       "    </tr>\n",
       "  </tbody>\n",
       "</table>\n",
       "</div>"
      ],
      "text/plain": [
       "                mean  count  Score IMDB\n",
       "ISBN                                   \n",
       "0002005018  7.666667      9    7.659400\n",
       "0002116286  7.250000      4    7.375567\n",
       "0002239183  7.333333      3    7.450680\n",
       "0002240114  6.750000      4    7.042234\n",
       "0002243962  5.750000      4    6.375567"
      ]
     },
     "execution_count": 29,
     "metadata": {},
     "output_type": "execute_result"
    }
   ],
   "source": [
    "#On réduit le dataset initial par rapport au nombre minimum de reviews correspondant au quantile 70 dans le cas présent\n",
    "book_score = avg_book_rating[avg_book_rating['count']>min_reviews]\n",
    "#On applique le score IMDB\n",
    "book_score['Score IMDB'] = book_score.apply(weighted_rating, axis=1) \n",
    "book_score.head()"
   ]
  },
  {
   "cell_type": "code",
   "execution_count": 30,
   "metadata": {},
   "outputs": [
    {
     "name": "stderr",
     "output_type": "stream",
     "text": [
      "C:\\Users\\bigdata\\Anaconda3\\lib\\site-packages\\ipykernel_launcher.py:2: SettingWithCopyWarning: \n",
      "A value is trying to be set on a copy of a slice from a DataFrame.\n",
      "Try using .loc[row_indexer,col_indexer] = value instead\n",
      "\n",
      "See the caveats in the documentation: http://pandas.pydata.org/pandas-docs/stable/user_guide/indexing.html#returning-a-view-versus-a-copy\n",
      "  \n"
     ]
    },
    {
     "data": {
      "text/html": [
       "<div>\n",
       "<style scoped>\n",
       "    .dataframe tbody tr th:only-of-type {\n",
       "        vertical-align: middle;\n",
       "    }\n",
       "\n",
       "    .dataframe tbody tr th {\n",
       "        vertical-align: top;\n",
       "    }\n",
       "\n",
       "    .dataframe thead th {\n",
       "        text-align: right;\n",
       "    }\n",
       "</style>\n",
       "<table border=\"1\" class=\"dataframe\">\n",
       "  <thead>\n",
       "    <tr style=\"text-align: right;\">\n",
       "      <th></th>\n",
       "      <th>mean</th>\n",
       "      <th>count</th>\n",
       "      <th>Score IMDB</th>\n",
       "      <th>ISBN</th>\n",
       "      <th>Book-Title</th>\n",
       "      <th>Year-Of-Publication</th>\n",
       "    </tr>\n",
       "  </thead>\n",
       "  <tbody>\n",
       "    <tr>\n",
       "      <td>0</td>\n",
       "      <td>7.666667</td>\n",
       "      <td>9</td>\n",
       "      <td>7.659400</td>\n",
       "      <td>0002005018</td>\n",
       "      <td>Clara Callan</td>\n",
       "      <td>2001</td>\n",
       "    </tr>\n",
       "    <tr>\n",
       "      <td>1</td>\n",
       "      <td>7.250000</td>\n",
       "      <td>4</td>\n",
       "      <td>7.375567</td>\n",
       "      <td>0002116286</td>\n",
       "      <td>There's A Seal in my Sleeping Bag</td>\n",
       "      <td>1992</td>\n",
       "    </tr>\n",
       "    <tr>\n",
       "      <td>2</td>\n",
       "      <td>7.333333</td>\n",
       "      <td>3</td>\n",
       "      <td>7.450680</td>\n",
       "      <td>0002239183</td>\n",
       "      <td>Affliction</td>\n",
       "      <td>0</td>\n",
       "    </tr>\n",
       "    <tr>\n",
       "      <td>3</td>\n",
       "      <td>6.750000</td>\n",
       "      <td>4</td>\n",
       "      <td>7.042234</td>\n",
       "      <td>0002240114</td>\n",
       "      <td>The Dixon Cornbelt League and other baseball s...</td>\n",
       "      <td>1993</td>\n",
       "    </tr>\n",
       "    <tr>\n",
       "      <td>4</td>\n",
       "      <td>5.750000</td>\n",
       "      <td>4</td>\n",
       "      <td>6.375567</td>\n",
       "      <td>0002243962</td>\n",
       "      <td>Girlfriend In a Coma</td>\n",
       "      <td>0</td>\n",
       "    </tr>\n",
       "  </tbody>\n",
       "</table>\n",
       "</div>"
      ],
      "text/plain": [
       "       mean  count  Score IMDB        ISBN  \\\n",
       "0  7.666667      9    7.659400  0002005018   \n",
       "1  7.250000      4    7.375567  0002116286   \n",
       "2  7.333333      3    7.450680  0002239183   \n",
       "3  6.750000      4    7.042234  0002240114   \n",
       "4  5.750000      4    6.375567  0002243962   \n",
       "\n",
       "                                          Book-Title Year-Of-Publication  \n",
       "0                                       Clara Callan                2001  \n",
       "1                  There's A Seal in my Sleeping Bag                1992  \n",
       "2                                         Affliction                   0  \n",
       "3  The Dixon Cornbelt League and other baseball s...                1993  \n",
       "4                               Girlfriend In a Coma                   0  "
      ]
     },
     "execution_count": 30,
     "metadata": {},
     "output_type": "execute_result"
    }
   ],
   "source": [
    "#Petite bidouille pour la jointure\n",
    "book_score[\"ISBN\"] = book_score.index\n",
    "book_score.index.name = None\n",
    "#On garde uniquement les champs qui nous intéressent\n",
    "df_books_util = df_books.drop(['Book-Author', 'Publisher', 'Image-URL-S', 'Image-URL-M', 'Image-URL-L'],axis=1)\n",
    "book_score = pd.merge(book_score,df_books_util,on='ISBN')\n",
    "book_score.head(5)"
   ]
  },
  {
   "cell_type": "code",
   "execution_count": 31,
   "metadata": {},
   "outputs": [],
   "source": [
    "# Gives the best books according to year based on weighted score which is calculated using IMDB formula\n",
    "def best_books_by_year(year,top_n):\n",
    "    return pd.DataFrame(book_score.loc[(book_score[\"Year-Of-Publication\"]==year)].sort_values(['Score IMDB'],ascending=False)[['Book-Title','count','mean','Score IMDB']][:top_n])"
   ]
  },
  {
   "cell_type": "code",
   "execution_count": 32,
   "metadata": {},
   "outputs": [
    {
     "data": {
      "text/html": [
       "<div>\n",
       "<style scoped>\n",
       "    .dataframe tbody tr th:only-of-type {\n",
       "        vertical-align: middle;\n",
       "    }\n",
       "\n",
       "    .dataframe tbody tr th {\n",
       "        vertical-align: top;\n",
       "    }\n",
       "\n",
       "    .dataframe thead th {\n",
       "        text-align: right;\n",
       "    }\n",
       "</style>\n",
       "<table border=\"1\" class=\"dataframe\">\n",
       "  <thead>\n",
       "    <tr style=\"text-align: right;\">\n",
       "      <th></th>\n",
       "      <th>Book-Title</th>\n",
       "      <th>count</th>\n",
       "      <th>mean</th>\n",
       "      <th>Score IMDB</th>\n",
       "    </tr>\n",
       "  </thead>\n",
       "  <tbody>\n",
       "    <tr>\n",
       "      <td>8746</td>\n",
       "      <td>The Annotated Alice: The Definitive Edition</td>\n",
       "      <td>4</td>\n",
       "      <td>10.000000</td>\n",
       "      <td>9.20890</td>\n",
       "    </tr>\n",
       "    <tr>\n",
       "      <td>25010</td>\n",
       "      <td>Buffy the Vampire Slayer: Remaining Sunlight</td>\n",
       "      <td>3</td>\n",
       "      <td>9.333333</td>\n",
       "      <td>8.65068</td>\n",
       "    </tr>\n",
       "    <tr>\n",
       "      <td>25842</td>\n",
       "      <td>Farmhouse Christmas</td>\n",
       "      <td>3</td>\n",
       "      <td>9.000000</td>\n",
       "      <td>8.45068</td>\n",
       "    </tr>\n",
       "    <tr>\n",
       "      <td>27259</td>\n",
       "      <td>Die 13 1/2 Leben des KÃ¤pt'n BlaubÃ¤r: Die hal...</td>\n",
       "      <td>3</td>\n",
       "      <td>8.666667</td>\n",
       "      <td>8.25068</td>\n",
       "    </tr>\n",
       "    <tr>\n",
       "      <td>20096</td>\n",
       "      <td>Mutts Sundays</td>\n",
       "      <td>3</td>\n",
       "      <td>8.666667</td>\n",
       "      <td>8.25068</td>\n",
       "    </tr>\n",
       "    <tr>\n",
       "      <td>23253</td>\n",
       "      <td>Working from Home: Everything You Need to Know...</td>\n",
       "      <td>3</td>\n",
       "      <td>8.666667</td>\n",
       "      <td>8.25068</td>\n",
       "    </tr>\n",
       "    <tr>\n",
       "      <td>18831</td>\n",
       "      <td>Running to the Mountain: A Journey of Faith an...</td>\n",
       "      <td>3</td>\n",
       "      <td>8.666667</td>\n",
       "      <td>8.25068</td>\n",
       "    </tr>\n",
       "    <tr>\n",
       "      <td>9978</td>\n",
       "      <td>Lindbergh</td>\n",
       "      <td>3</td>\n",
       "      <td>8.333333</td>\n",
       "      <td>8.05068</td>\n",
       "    </tr>\n",
       "    <tr>\n",
       "      <td>8098</td>\n",
       "      <td>A Woman Like That: Lesbian and Bisexual Writer...</td>\n",
       "      <td>3</td>\n",
       "      <td>8.000000</td>\n",
       "      <td>7.85068</td>\n",
       "    </tr>\n",
       "    <tr>\n",
       "      <td>23436</td>\n",
       "      <td>Always Believe in Yourself and Your Dreams: A ...</td>\n",
       "      <td>3</td>\n",
       "      <td>8.000000</td>\n",
       "      <td>7.85068</td>\n",
       "    </tr>\n",
       "  </tbody>\n",
       "</table>\n",
       "</div>"
      ],
      "text/plain": [
       "                                              Book-Title  count       mean  \\\n",
       "8746         The Annotated Alice: The Definitive Edition      4  10.000000   \n",
       "25010       Buffy the Vampire Slayer: Remaining Sunlight      3   9.333333   \n",
       "25842                                Farmhouse Christmas      3   9.000000   \n",
       "27259  Die 13 1/2 Leben des KÃ¤pt'n BlaubÃ¤r: Die hal...      3   8.666667   \n",
       "20096                                      Mutts Sundays      3   8.666667   \n",
       "23253  Working from Home: Everything You Need to Know...      3   8.666667   \n",
       "18831  Running to the Mountain: A Journey of Faith an...      3   8.666667   \n",
       "9978                                           Lindbergh      3   8.333333   \n",
       "8098   A Woman Like That: Lesbian and Bisexual Writer...      3   8.000000   \n",
       "23436  Always Believe in Yourself and Your Dreams: A ...      3   8.000000   \n",
       "\n",
       "       Score IMDB  \n",
       "8746      9.20890  \n",
       "25010     8.65068  \n",
       "25842     8.45068  \n",
       "27259     8.25068  \n",
       "20096     8.25068  \n",
       "23253     8.25068  \n",
       "18831     8.25068  \n",
       "9978      8.05068  \n",
       "8098      7.85068  \n",
       "23436     7.85068  "
      ]
     },
     "execution_count": 32,
     "metadata": {},
     "output_type": "execute_result"
    }
   ],
   "source": [
    "best_books_by_year(\"1999\",10)"
   ]
  },
  {
   "cell_type": "markdown",
   "metadata": {},
   "source": [
    "Dans le cas présent, il aurait été plus intéressant d'avoir des caractéristiques associés au type de livre mais nous n'avons pas d'informations dans la description des livres. Le filtre a été établi sur la date de publication l'ouvrage qui n'est pas spécialement un élément pertinent dans un système de recommandation."
   ]
  },
  {
   "cell_type": "markdown",
   "metadata": {},
   "source": [
    "## Similarités basées sur le rating des livres"
   ]
  },
  {
   "cell_type": "code",
   "execution_count": 33,
   "metadata": {},
   "outputs": [
    {
     "name": "stdout",
     "output_type": "stream",
     "text": [
      "Nombre de livres ayant plus de 15 ratings : 3151\n"
     ]
    }
   ],
   "source": [
    "#only include books with more than 15 ratings\n",
    "books_plus_15_ratings = avg_book_rating.loc[avg_book_rating['count']>=15]\n",
    "print(\"Nombre de livres ayant plus de 15 ratings :\", len(books_plus_15_ratings))"
   ]
  },
  {
   "cell_type": "code",
   "execution_count": 34,
   "metadata": {},
   "outputs": [
    {
     "data": {
      "text/html": [
       "<div>\n",
       "<style scoped>\n",
       "    .dataframe tbody tr th:only-of-type {\n",
       "        vertical-align: middle;\n",
       "    }\n",
       "\n",
       "    .dataframe tbody tr th {\n",
       "        vertical-align: top;\n",
       "    }\n",
       "\n",
       "    .dataframe thead th {\n",
       "        text-align: right;\n",
       "    }\n",
       "</style>\n",
       "<table border=\"1\" class=\"dataframe\">\n",
       "  <thead>\n",
       "    <tr style=\"text-align: right;\">\n",
       "      <th></th>\n",
       "      <th>mean</th>\n",
       "      <th>count</th>\n",
       "    </tr>\n",
       "    <tr>\n",
       "      <th>ISBN</th>\n",
       "      <th></th>\n",
       "      <th></th>\n",
       "    </tr>\n",
       "  </thead>\n",
       "  <tbody>\n",
       "    <tr>\n",
       "      <td>000649840X</td>\n",
       "      <td>7.756098</td>\n",
       "      <td>41</td>\n",
       "    </tr>\n",
       "    <tr>\n",
       "      <td>0006547834</td>\n",
       "      <td>8.066667</td>\n",
       "      <td>15</td>\n",
       "    </tr>\n",
       "    <tr>\n",
       "      <td>0006550576</td>\n",
       "      <td>7.266667</td>\n",
       "      <td>15</td>\n",
       "    </tr>\n",
       "    <tr>\n",
       "      <td>0007110928</td>\n",
       "      <td>7.703704</td>\n",
       "      <td>27</td>\n",
       "    </tr>\n",
       "    <tr>\n",
       "      <td>0020198817</td>\n",
       "      <td>7.933333</td>\n",
       "      <td>15</td>\n",
       "    </tr>\n",
       "  </tbody>\n",
       "</table>\n",
       "</div>"
      ],
      "text/plain": [
       "                mean  count\n",
       "ISBN                       \n",
       "000649840X  7.756098     41\n",
       "0006547834  8.066667     15\n",
       "0006550576  7.266667     15\n",
       "0007110928  7.703704     27\n",
       "0020198817  7.933333     15"
      ]
     },
     "execution_count": 34,
     "metadata": {},
     "output_type": "execute_result"
    }
   ],
   "source": [
    "books_plus_15_ratings.head(5)"
   ]
  },
  {
   "cell_type": "code",
   "execution_count": 35,
   "metadata": {},
   "outputs": [
    {
     "name": "stderr",
     "output_type": "stream",
     "text": [
      "C:\\Users\\bigdata\\Anaconda3\\lib\\site-packages\\ipykernel_launcher.py:1: SettingWithCopyWarning: \n",
      "A value is trying to be set on a copy of a slice from a DataFrame.\n",
      "Try using .loc[row_indexer,col_indexer] = value instead\n",
      "\n",
      "See the caveats in the documentation: http://pandas.pydata.org/pandas-docs/stable/user_guide/indexing.html#returning-a-view-versus-a-copy\n",
      "  \"\"\"Entry point for launching an IPython kernel.\n"
     ]
    },
    {
     "name": "stdout",
     "output_type": "stream",
     "text": [
      "Nombre d'enregistrements avec uniquement les livres ayant plus de 15 commentaires : 112631\n"
     ]
    }
   ],
   "source": [
    "books_plus_15_ratings[\"ISBN\"] = books_plus_15_ratings.index\n",
    "books_plus_15_ratings.index.name=None\n",
    "filtered_ratings = pd.merge(books_plus_15_ratings, df, on=\"ISBN\")\n",
    "print(\"Nombre d'enregistrements avec uniquement les livres ayant plus de 15 commentaires :\", len(filtered_ratings))"
   ]
  },
  {
   "cell_type": "code",
   "execution_count": 36,
   "metadata": {},
   "outputs": [
    {
     "data": {
      "text/html": [
       "<div>\n",
       "<style scoped>\n",
       "    .dataframe tbody tr th:only-of-type {\n",
       "        vertical-align: middle;\n",
       "    }\n",
       "\n",
       "    .dataframe tbody tr th {\n",
       "        vertical-align: top;\n",
       "    }\n",
       "\n",
       "    .dataframe thead th {\n",
       "        text-align: right;\n",
       "    }\n",
       "</style>\n",
       "<table border=\"1\" class=\"dataframe\">\n",
       "  <thead>\n",
       "    <tr style=\"text-align: right;\">\n",
       "      <th></th>\n",
       "      <th>mean</th>\n",
       "      <th>count</th>\n",
       "      <th>ISBN</th>\n",
       "      <th>User-ID</th>\n",
       "      <th>Book-Rating</th>\n",
       "      <th>Location</th>\n",
       "      <th>Age</th>\n",
       "      <th>Book-Title</th>\n",
       "      <th>Book-Author</th>\n",
       "      <th>Year-Of-Publication</th>\n",
       "      <th>Publisher</th>\n",
       "      <th>Image-URL-S</th>\n",
       "      <th>Image-URL-M</th>\n",
       "      <th>Image-URL-L</th>\n",
       "    </tr>\n",
       "  </thead>\n",
       "  <tbody>\n",
       "    <tr>\n",
       "      <td>0</td>\n",
       "      <td>7.756098</td>\n",
       "      <td>41</td>\n",
       "      <td>000649840X</td>\n",
       "      <td>901</td>\n",
       "      <td>9</td>\n",
       "      <td>worcester, worcestershire, united kingdom</td>\n",
       "      <td>21.0</td>\n",
       "      <td>Angelas Ashes</td>\n",
       "      <td>Frank Mccourt</td>\n",
       "      <td>0</td>\n",
       "      <td>Harpercollins Uk</td>\n",
       "      <td>http://images.amazon.com/images/P/000649840X.0...</td>\n",
       "      <td>http://images.amazon.com/images/P/000649840X.0...</td>\n",
       "      <td>http://images.amazon.com/images/P/000649840X.0...</td>\n",
       "    </tr>\n",
       "    <tr>\n",
       "      <td>1</td>\n",
       "      <td>7.756098</td>\n",
       "      <td>41</td>\n",
       "      <td>000649840X</td>\n",
       "      <td>11676</td>\n",
       "      <td>8</td>\n",
       "      <td>n/a, n/a, n/a</td>\n",
       "      <td>NaN</td>\n",
       "      <td>Angelas Ashes</td>\n",
       "      <td>Frank Mccourt</td>\n",
       "      <td>0</td>\n",
       "      <td>Harpercollins Uk</td>\n",
       "      <td>http://images.amazon.com/images/P/000649840X.0...</td>\n",
       "      <td>http://images.amazon.com/images/P/000649840X.0...</td>\n",
       "      <td>http://images.amazon.com/images/P/000649840X.0...</td>\n",
       "    </tr>\n",
       "    <tr>\n",
       "      <td>2</td>\n",
       "      <td>7.756098</td>\n",
       "      <td>41</td>\n",
       "      <td>000649840X</td>\n",
       "      <td>16383</td>\n",
       "      <td>10</td>\n",
       "      <td>sheffield, england, united kingdom</td>\n",
       "      <td>24.0</td>\n",
       "      <td>Angelas Ashes</td>\n",
       "      <td>Frank Mccourt</td>\n",
       "      <td>0</td>\n",
       "      <td>Harpercollins Uk</td>\n",
       "      <td>http://images.amazon.com/images/P/000649840X.0...</td>\n",
       "      <td>http://images.amazon.com/images/P/000649840X.0...</td>\n",
       "      <td>http://images.amazon.com/images/P/000649840X.0...</td>\n",
       "    </tr>\n",
       "    <tr>\n",
       "      <td>3</td>\n",
       "      <td>7.756098</td>\n",
       "      <td>41</td>\n",
       "      <td>000649840X</td>\n",
       "      <td>24922</td>\n",
       "      <td>9</td>\n",
       "      <td>wolverhampton, england, united kingdom</td>\n",
       "      <td>45.0</td>\n",
       "      <td>Angelas Ashes</td>\n",
       "      <td>Frank Mccourt</td>\n",
       "      <td>0</td>\n",
       "      <td>Harpercollins Uk</td>\n",
       "      <td>http://images.amazon.com/images/P/000649840X.0...</td>\n",
       "      <td>http://images.amazon.com/images/P/000649840X.0...</td>\n",
       "      <td>http://images.amazon.com/images/P/000649840X.0...</td>\n",
       "    </tr>\n",
       "    <tr>\n",
       "      <td>4</td>\n",
       "      <td>7.756098</td>\n",
       "      <td>41</td>\n",
       "      <td>000649840X</td>\n",
       "      <td>32440</td>\n",
       "      <td>8</td>\n",
       "      <td>dunedin, otago, new zealand</td>\n",
       "      <td>NaN</td>\n",
       "      <td>Angelas Ashes</td>\n",
       "      <td>Frank Mccourt</td>\n",
       "      <td>0</td>\n",
       "      <td>Harpercollins Uk</td>\n",
       "      <td>http://images.amazon.com/images/P/000649840X.0...</td>\n",
       "      <td>http://images.amazon.com/images/P/000649840X.0...</td>\n",
       "      <td>http://images.amazon.com/images/P/000649840X.0...</td>\n",
       "    </tr>\n",
       "  </tbody>\n",
       "</table>\n",
       "</div>"
      ],
      "text/plain": [
       "       mean  count        ISBN  User-ID  Book-Rating  \\\n",
       "0  7.756098     41  000649840X      901            9   \n",
       "1  7.756098     41  000649840X    11676            8   \n",
       "2  7.756098     41  000649840X    16383           10   \n",
       "3  7.756098     41  000649840X    24922            9   \n",
       "4  7.756098     41  000649840X    32440            8   \n",
       "\n",
       "                                    Location   Age     Book-Title  \\\n",
       "0  worcester, worcestershire, united kingdom  21.0  Angelas Ashes   \n",
       "1                              n/a, n/a, n/a   NaN  Angelas Ashes   \n",
       "2         sheffield, england, united kingdom  24.0  Angelas Ashes   \n",
       "3     wolverhampton, england, united kingdom  45.0  Angelas Ashes   \n",
       "4                dunedin, otago, new zealand   NaN  Angelas Ashes   \n",
       "\n",
       "     Book-Author Year-Of-Publication         Publisher  \\\n",
       "0  Frank Mccourt                   0  Harpercollins Uk   \n",
       "1  Frank Mccourt                   0  Harpercollins Uk   \n",
       "2  Frank Mccourt                   0  Harpercollins Uk   \n",
       "3  Frank Mccourt                   0  Harpercollins Uk   \n",
       "4  Frank Mccourt                   0  Harpercollins Uk   \n",
       "\n",
       "                                         Image-URL-S  \\\n",
       "0  http://images.amazon.com/images/P/000649840X.0...   \n",
       "1  http://images.amazon.com/images/P/000649840X.0...   \n",
       "2  http://images.amazon.com/images/P/000649840X.0...   \n",
       "3  http://images.amazon.com/images/P/000649840X.0...   \n",
       "4  http://images.amazon.com/images/P/000649840X.0...   \n",
       "\n",
       "                                         Image-URL-M  \\\n",
       "0  http://images.amazon.com/images/P/000649840X.0...   \n",
       "1  http://images.amazon.com/images/P/000649840X.0...   \n",
       "2  http://images.amazon.com/images/P/000649840X.0...   \n",
       "3  http://images.amazon.com/images/P/000649840X.0...   \n",
       "4  http://images.amazon.com/images/P/000649840X.0...   \n",
       "\n",
       "                                         Image-URL-L  \n",
       "0  http://images.amazon.com/images/P/000649840X.0...  \n",
       "1  http://images.amazon.com/images/P/000649840X.0...  \n",
       "2  http://images.amazon.com/images/P/000649840X.0...  \n",
       "3  http://images.amazon.com/images/P/000649840X.0...  \n",
       "4  http://images.amazon.com/images/P/000649840X.0...  "
      ]
     },
     "execution_count": 36,
     "metadata": {},
     "output_type": "execute_result"
    }
   ],
   "source": [
    "filtered_ratings.head()"
   ]
  },
  {
   "cell_type": "code",
   "execution_count": 37,
   "metadata": {},
   "outputs": [
    {
     "name": "stdout",
     "output_type": "stream",
     "text": [
      "# Users : 34573\n"
     ]
    }
   ],
   "source": [
    "print(\"# Users :\", len(filtered_ratings[\"User-ID\"].unique()))"
   ]
  },
  {
   "cell_type": "code",
   "execution_count": 38,
   "metadata": {},
   "outputs": [
    {
     "name": "stdout",
     "output_type": "stream",
     "text": [
      "# Books : 3151\n"
     ]
    }
   ],
   "source": [
    "print(\"# Books :\", len(filtered_ratings[\"ISBN\"].unique()))"
   ]
  },
  {
   "cell_type": "code",
   "execution_count": 39,
   "metadata": {},
   "outputs": [
    {
     "data": {
      "text/html": [
       "<div>\n",
       "<style scoped>\n",
       "    .dataframe tbody tr th:only-of-type {\n",
       "        vertical-align: middle;\n",
       "    }\n",
       "\n",
       "    .dataframe tbody tr th {\n",
       "        vertical-align: top;\n",
       "    }\n",
       "\n",
       "    .dataframe thead th {\n",
       "        text-align: right;\n",
       "    }\n",
       "</style>\n",
       "<table border=\"1\" class=\"dataframe\">\n",
       "  <thead>\n",
       "    <tr style=\"text-align: right;\">\n",
       "      <th>User-ID</th>\n",
       "      <th>9</th>\n",
       "      <th>16</th>\n",
       "      <th>17</th>\n",
       "      <th>26</th>\n",
       "      <th>32</th>\n",
       "      <th>39</th>\n",
       "      <th>42</th>\n",
       "      <th>44</th>\n",
       "      <th>51</th>\n",
       "      <th>56</th>\n",
       "      <th>...</th>\n",
       "      <th>278800</th>\n",
       "      <th>278807</th>\n",
       "      <th>278828</th>\n",
       "      <th>278832</th>\n",
       "      <th>278836</th>\n",
       "      <th>278843</th>\n",
       "      <th>278844</th>\n",
       "      <th>278846</th>\n",
       "      <th>278851</th>\n",
       "      <th>278854</th>\n",
       "    </tr>\n",
       "    <tr>\n",
       "      <th>ISBN</th>\n",
       "      <th></th>\n",
       "      <th></th>\n",
       "      <th></th>\n",
       "      <th></th>\n",
       "      <th></th>\n",
       "      <th></th>\n",
       "      <th></th>\n",
       "      <th></th>\n",
       "      <th></th>\n",
       "      <th></th>\n",
       "      <th></th>\n",
       "      <th></th>\n",
       "      <th></th>\n",
       "      <th></th>\n",
       "      <th></th>\n",
       "      <th></th>\n",
       "      <th></th>\n",
       "      <th></th>\n",
       "      <th></th>\n",
       "      <th></th>\n",
       "      <th></th>\n",
       "    </tr>\n",
       "  </thead>\n",
       "  <tbody>\n",
       "    <tr>\n",
       "      <td>000649840X</td>\n",
       "      <td>0.0</td>\n",
       "      <td>0.0</td>\n",
       "      <td>0.0</td>\n",
       "      <td>0.0</td>\n",
       "      <td>0.0</td>\n",
       "      <td>0.0</td>\n",
       "      <td>0.0</td>\n",
       "      <td>0.0</td>\n",
       "      <td>0.0</td>\n",
       "      <td>0.0</td>\n",
       "      <td>...</td>\n",
       "      <td>0.0</td>\n",
       "      <td>0.0</td>\n",
       "      <td>0.0</td>\n",
       "      <td>0.0</td>\n",
       "      <td>0.0</td>\n",
       "      <td>0.0</td>\n",
       "      <td>0.0</td>\n",
       "      <td>0.0</td>\n",
       "      <td>0.0</td>\n",
       "      <td>0.0</td>\n",
       "    </tr>\n",
       "    <tr>\n",
       "      <td>0006547834</td>\n",
       "      <td>0.0</td>\n",
       "      <td>0.0</td>\n",
       "      <td>0.0</td>\n",
       "      <td>0.0</td>\n",
       "      <td>0.0</td>\n",
       "      <td>0.0</td>\n",
       "      <td>0.0</td>\n",
       "      <td>0.0</td>\n",
       "      <td>0.0</td>\n",
       "      <td>0.0</td>\n",
       "      <td>...</td>\n",
       "      <td>0.0</td>\n",
       "      <td>0.0</td>\n",
       "      <td>0.0</td>\n",
       "      <td>0.0</td>\n",
       "      <td>0.0</td>\n",
       "      <td>0.0</td>\n",
       "      <td>0.0</td>\n",
       "      <td>0.0</td>\n",
       "      <td>0.0</td>\n",
       "      <td>0.0</td>\n",
       "    </tr>\n",
       "    <tr>\n",
       "      <td>0006550576</td>\n",
       "      <td>0.0</td>\n",
       "      <td>0.0</td>\n",
       "      <td>0.0</td>\n",
       "      <td>0.0</td>\n",
       "      <td>0.0</td>\n",
       "      <td>0.0</td>\n",
       "      <td>0.0</td>\n",
       "      <td>0.0</td>\n",
       "      <td>0.0</td>\n",
       "      <td>0.0</td>\n",
       "      <td>...</td>\n",
       "      <td>0.0</td>\n",
       "      <td>0.0</td>\n",
       "      <td>0.0</td>\n",
       "      <td>0.0</td>\n",
       "      <td>0.0</td>\n",
       "      <td>0.0</td>\n",
       "      <td>0.0</td>\n",
       "      <td>0.0</td>\n",
       "      <td>0.0</td>\n",
       "      <td>0.0</td>\n",
       "    </tr>\n",
       "    <tr>\n",
       "      <td>0007110928</td>\n",
       "      <td>0.0</td>\n",
       "      <td>0.0</td>\n",
       "      <td>0.0</td>\n",
       "      <td>0.0</td>\n",
       "      <td>0.0</td>\n",
       "      <td>0.0</td>\n",
       "      <td>0.0</td>\n",
       "      <td>0.0</td>\n",
       "      <td>0.0</td>\n",
       "      <td>0.0</td>\n",
       "      <td>...</td>\n",
       "      <td>0.0</td>\n",
       "      <td>0.0</td>\n",
       "      <td>0.0</td>\n",
       "      <td>0.0</td>\n",
       "      <td>0.0</td>\n",
       "      <td>0.0</td>\n",
       "      <td>0.0</td>\n",
       "      <td>0.0</td>\n",
       "      <td>0.0</td>\n",
       "      <td>0.0</td>\n",
       "    </tr>\n",
       "    <tr>\n",
       "      <td>0020198817</td>\n",
       "      <td>0.0</td>\n",
       "      <td>0.0</td>\n",
       "      <td>0.0</td>\n",
       "      <td>0.0</td>\n",
       "      <td>0.0</td>\n",
       "      <td>0.0</td>\n",
       "      <td>0.0</td>\n",
       "      <td>0.0</td>\n",
       "      <td>0.0</td>\n",
       "      <td>0.0</td>\n",
       "      <td>...</td>\n",
       "      <td>0.0</td>\n",
       "      <td>0.0</td>\n",
       "      <td>0.0</td>\n",
       "      <td>0.0</td>\n",
       "      <td>0.0</td>\n",
       "      <td>0.0</td>\n",
       "      <td>0.0</td>\n",
       "      <td>0.0</td>\n",
       "      <td>0.0</td>\n",
       "      <td>0.0</td>\n",
       "    </tr>\n",
       "  </tbody>\n",
       "</table>\n",
       "<p>5 rows × 34573 columns</p>\n",
       "</div>"
      ],
      "text/plain": [
       "User-ID     9       16      17      26      32      39      42      44      \\\n",
       "ISBN                                                                         \n",
       "000649840X     0.0     0.0     0.0     0.0     0.0     0.0     0.0     0.0   \n",
       "0006547834     0.0     0.0     0.0     0.0     0.0     0.0     0.0     0.0   \n",
       "0006550576     0.0     0.0     0.0     0.0     0.0     0.0     0.0     0.0   \n",
       "0007110928     0.0     0.0     0.0     0.0     0.0     0.0     0.0     0.0   \n",
       "0020198817     0.0     0.0     0.0     0.0     0.0     0.0     0.0     0.0   \n",
       "\n",
       "User-ID     51      56      ...  278800  278807  278828  278832  278836  \\\n",
       "ISBN                        ...                                           \n",
       "000649840X     0.0     0.0  ...     0.0     0.0     0.0     0.0     0.0   \n",
       "0006547834     0.0     0.0  ...     0.0     0.0     0.0     0.0     0.0   \n",
       "0006550576     0.0     0.0  ...     0.0     0.0     0.0     0.0     0.0   \n",
       "0007110928     0.0     0.0  ...     0.0     0.0     0.0     0.0     0.0   \n",
       "0020198817     0.0     0.0  ...     0.0     0.0     0.0     0.0     0.0   \n",
       "\n",
       "User-ID     278843  278844  278846  278851  278854  \n",
       "ISBN                                                \n",
       "000649840X     0.0     0.0     0.0     0.0     0.0  \n",
       "0006547834     0.0     0.0     0.0     0.0     0.0  \n",
       "0006550576     0.0     0.0     0.0     0.0     0.0  \n",
       "0007110928     0.0     0.0     0.0     0.0     0.0  \n",
       "0020198817     0.0     0.0     0.0     0.0     0.0  \n",
       "\n",
       "[5 rows x 34573 columns]"
      ]
     },
     "execution_count": 39,
     "metadata": {},
     "output_type": "execute_result"
    }
   ],
   "source": [
    "#create a matrix table with ISBN on the rows and User-ID in the columns.\n",
    "#replace NAN values with 0\n",
    "matrix_books_user = filtered_ratings.pivot(index = 'ISBN', columns = 'User-ID', values = 'Book-Rating').fillna(0)\n",
    "matrix_books_user.head()"
   ]
  },
  {
   "cell_type": "code",
   "execution_count": 40,
   "metadata": {},
   "outputs": [
    {
     "data": {
      "text/plain": [
       "NearestNeighbors(algorithm='brute', leaf_size=30, metric='cosine',\n",
       "                 metric_params=None, n_jobs=None, n_neighbors=5, p=2,\n",
       "                 radius=1.0)"
      ]
     },
     "execution_count": 40,
     "metadata": {},
     "output_type": "execute_result"
    }
   ],
   "source": [
    "from sklearn.neighbors import NearestNeighbors\n",
    "#specify model parameters\n",
    "model_knn = NearestNeighbors(metric='cosine',algorithm='brute')\n",
    "#fit model to the data set\n",
    "model_knn.fit(matrix_books_user)\n"
   ]
  },
  {
   "cell_type": "code",
   "execution_count": 43,
   "metadata": {},
   "outputs": [],
   "source": [
    "#Gets the top 10 nearest neighbours got the book\n",
    "def print_similar_books(query_index) :\n",
    "    #get the list of user ratings for a specific userId\n",
    "    query_index_books_ratings = matrix_books_user.loc[query_index,:].values.reshape(1,-1)\n",
    "    #get the closest 10 books and their distances from the book specified\n",
    "    distances,indices = model_knn.kneighbors(query_index_books_ratings,n_neighbors = 11) \n",
    "    #write a lopp that prints the similar books for a specified book.\n",
    "    for i in range(0,len(distances.flatten())):\n",
    "        #get the title of the random book that was chosen\n",
    "        get_book = df_books.loc[df_books['ISBN']==query_index]['Book-Title']\n",
    "        #for the first movie in the list i.e closest print the title\n",
    "        if i==0:\n",
    "            print('Recommendations for {0}:\\n'.format(get_book))\n",
    "        else :\n",
    "            #get the indiciees for the closest movies\n",
    "            indices_flat = indices.flatten()[i]\n",
    "            #get the title of the movie\n",
    "            get_book = df_books.loc[df_books['ISBN']==matrix_books_user.iloc[indices_flat,:].name]['Book-Title']\n",
    "            #print the movie\n",
    "            print('{0}: {1}, with distance of {2}:'.format(i,get_book,distances.flatten()[i]))"
   ]
  },
  {
   "cell_type": "markdown",
   "metadata": {},
   "source": [
    "On va chercher les livres similaires par rapport au livre le plus noté"
   ]
  },
  {
   "cell_type": "code",
   "execution_count": 42,
   "metadata": {},
   "outputs": [
    {
     "name": "stdout",
     "output_type": "stream",
     "text": [
      "Recommendations for 408    The Lovely Bones: A Novel\n",
      "Name: Book-Title, dtype: object:\n",
      "\n",
      "1: 3939    Lucky : A Memoir\n",
      "Name: Book-Title, dtype: object, with distance of 0.8907765344442606:\n",
      "2: 706    Where the Heart Is (Oprah's Book Club (Paperba...\n",
      "Name: Book-Title, dtype: object, with distance of 0.9095981950904724:\n",
      "3: 748    The Da Vinci Code\n",
      "Name: Book-Title, dtype: object, with distance of 0.9170468045457768:\n",
      "4: 3511    Lucky\n",
      "Name: Book-Title, dtype: object, with distance of 0.9185733092426993:\n",
      "5: 776    Nights in Rodanthe\n",
      "Name: Book-Title, dtype: object, with distance of 0.922072755930089:\n",
      "6: 1496    Good in Bed\n",
      "Name: Book-Title, dtype: object, with distance of 0.9227391845889488:\n",
      "7: 12920    The Pact: A Love Story\n",
      "Name: Book-Title, dtype: object, with distance of 0.9244091289737372:\n",
      "8: 6038    The Lake House\n",
      "Name: Book-Title, dtype: object, with distance of 0.9253117176778205:\n",
      "9: 2536    The Book of Ruth (Oprah's Book Club (Paperback))\n",
      "Name: Book-Title, dtype: object, with distance of 0.9286916905396203:\n",
      "10: 4824    The Pilot's Wife : A Novel\n",
      "Name: Book-Title, dtype: object, with distance of 0.9323735033791939:\n"
     ]
    }
   ],
   "source": [
    "print_similar_books(\"0316666343\")"
   ]
  },
  {
   "cell_type": "code",
   "execution_count": null,
   "metadata": {},
   "outputs": [],
   "source": []
  }
 ],
 "metadata": {
  "kernelspec": {
   "display_name": "Python 3.7.4 64-bit ('base': conda)",
   "language": "python",
   "name": "python37464bitbasecondab33b3c11f7f94797a74086d609a4ed06"
  },
  "language_info": {
   "codemirror_mode": {
    "name": "ipython",
    "version": 3
   },
   "file_extension": ".py",
   "mimetype": "text/x-python",
   "name": "python",
   "nbconvert_exporter": "python",
   "pygments_lexer": "ipython3",
   "version": "3.7.4"
  }
 },
 "nbformat": 4,
 "nbformat_minor": 2
}
