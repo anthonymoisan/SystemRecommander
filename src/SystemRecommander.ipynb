{
 "cells": [
  {
   "cell_type": "markdown",
   "metadata": {},
   "source": [
    "# Description du projet et des jeux de données"
   ]
  },
  {
   "cell_type": "markdown",
   "metadata": {},
   "source": [
    "L'objectif du projet est de mettre en place un système de recommandation. \n",
    "\n",
    "Dans le cas présent, nous allons utiliser un dataset sur des livres avec trois tables : [dataset](http://www2.informatik.uni-freiburg.de/~cziegler/BX/).\n",
    "\n",
    "**BX-Users**\n",
    "Contains the users. Note that user IDs (`User-ID`) have been anonymized and map to integers. Demographic data is provided (`Location`, `Age`) if available. Otherwise, these fields contain NULL-values.\n",
    "\n",
    "**BX-Books**\n",
    "Books are identified by their respective ISBN. Invalid ISBNs have already been removed from the dataset. Moreover, some content-based information is given (`Book-Title`, `Book-Author`, `Year-Of-Publication`, `Publisher`), obtained from Amazon Web Services. Note that in case of several authors, only the first is provided. URLs linking to cover images are also given, appearing in three different flavours (`Image-URL-S`, `Image-URL-M`, `Image-URL-L`), i.e., small, medium, large. These URLs point to the Amazon web site. \n",
    "\n",
    "**BX-Book-Ratings**\n",
    "Contains the book rating information. Ratings (`Book-Rating`) are either explicit, expressed on a scale from 1-10 (higher values denoting higher appreciation), or implicit, expressed by 0."
   ]
  },
  {
   "cell_type": "markdown",
   "metadata": {},
   "source": [
    "# Chargement des fichiers et quelques statistiques"
   ]
  },
  {
   "cell_type": "markdown",
   "metadata": {},
   "source": [
    "## Lecture des fichiers"
   ]
  },
  {
   "cell_type": "code",
   "execution_count": 1,
   "metadata": {},
   "outputs": [],
   "source": [
    "import pandas as pd\n",
    "import numpy as np\n",
    "import matplotlib.pyplot as plt\n",
    "import seaborn as sns\n",
    "%matplotlib inline"
   ]
  },
  {
   "cell_type": "code",
   "execution_count": 2,
   "metadata": {},
   "outputs": [
    {
     "name": "stdout",
     "output_type": "stream",
     "text": [
      "taille du jeu de donnees Users : (278858, 3)\n"
     ]
    },
    {
     "data": {
      "text/html": [
       "<div>\n",
       "<style scoped>\n",
       "    .dataframe tbody tr th:only-of-type {\n",
       "        vertical-align: middle;\n",
       "    }\n",
       "\n",
       "    .dataframe tbody tr th {\n",
       "        vertical-align: top;\n",
       "    }\n",
       "\n",
       "    .dataframe thead th {\n",
       "        text-align: right;\n",
       "    }\n",
       "</style>\n",
       "<table border=\"1\" class=\"dataframe\">\n",
       "  <thead>\n",
       "    <tr style=\"text-align: right;\">\n",
       "      <th></th>\n",
       "      <th>User-ID</th>\n",
       "      <th>Location</th>\n",
       "      <th>Age</th>\n",
       "    </tr>\n",
       "  </thead>\n",
       "  <tbody>\n",
       "    <tr>\n",
       "      <td>0</td>\n",
       "      <td>1</td>\n",
       "      <td>nyc, new york, usa</td>\n",
       "      <td>NaN</td>\n",
       "    </tr>\n",
       "    <tr>\n",
       "      <td>1</td>\n",
       "      <td>2</td>\n",
       "      <td>stockton, california, usa</td>\n",
       "      <td>18.0</td>\n",
       "    </tr>\n",
       "    <tr>\n",
       "      <td>2</td>\n",
       "      <td>3</td>\n",
       "      <td>moscow, yukon territory, russia</td>\n",
       "      <td>NaN</td>\n",
       "    </tr>\n",
       "    <tr>\n",
       "      <td>3</td>\n",
       "      <td>4</td>\n",
       "      <td>porto, v.n.gaia, portugal</td>\n",
       "      <td>17.0</td>\n",
       "    </tr>\n",
       "    <tr>\n",
       "      <td>4</td>\n",
       "      <td>5</td>\n",
       "      <td>farnborough, hants, united kingdom</td>\n",
       "      <td>NaN</td>\n",
       "    </tr>\n",
       "    <tr>\n",
       "      <td>5</td>\n",
       "      <td>6</td>\n",
       "      <td>santa monica, california, usa</td>\n",
       "      <td>61.0</td>\n",
       "    </tr>\n",
       "    <tr>\n",
       "      <td>6</td>\n",
       "      <td>7</td>\n",
       "      <td>washington, dc, usa</td>\n",
       "      <td>NaN</td>\n",
       "    </tr>\n",
       "    <tr>\n",
       "      <td>7</td>\n",
       "      <td>8</td>\n",
       "      <td>timmins, ontario, canada</td>\n",
       "      <td>NaN</td>\n",
       "    </tr>\n",
       "    <tr>\n",
       "      <td>8</td>\n",
       "      <td>9</td>\n",
       "      <td>germantown, tennessee, usa</td>\n",
       "      <td>NaN</td>\n",
       "    </tr>\n",
       "    <tr>\n",
       "      <td>9</td>\n",
       "      <td>10</td>\n",
       "      <td>albacete, wisconsin, spain</td>\n",
       "      <td>26.0</td>\n",
       "    </tr>\n",
       "  </tbody>\n",
       "</table>\n",
       "</div>"
      ],
      "text/plain": [
       "   User-ID                            Location   Age\n",
       "0        1                  nyc, new york, usa   NaN\n",
       "1        2           stockton, california, usa  18.0\n",
       "2        3     moscow, yukon territory, russia   NaN\n",
       "3        4           porto, v.n.gaia, portugal  17.0\n",
       "4        5  farnborough, hants, united kingdom   NaN\n",
       "5        6       santa monica, california, usa  61.0\n",
       "6        7                 washington, dc, usa   NaN\n",
       "7        8            timmins, ontario, canada   NaN\n",
       "8        9          germantown, tennessee, usa   NaN\n",
       "9       10          albacete, wisconsin, spain  26.0"
      ]
     },
     "execution_count": 2,
     "metadata": {},
     "output_type": "execute_result"
    }
   ],
   "source": [
    "df_users = pd.read_csv(\"../input/BX-Users.csv\", sep=\";\",delimiter=\";\", header=0, encoding='ansi')\n",
    "print(\"taille du jeu de donnees Users :\", df_users.shape)\n",
    "df_users.head(10)"
   ]
  },
  {
   "cell_type": "code",
   "execution_count": 3,
   "metadata": {},
   "outputs": [
    {
     "name": "stderr",
     "output_type": "stream",
     "text": [
      "b'Skipping line 6452: expected 8 fields, saw 9\\nSkipping line 43667: expected 8 fields, saw 10\\nSkipping line 51751: expected 8 fields, saw 9\\n'\n",
      "b'Skipping line 92038: expected 8 fields, saw 9\\nSkipping line 104319: expected 8 fields, saw 9\\nSkipping line 121768: expected 8 fields, saw 9\\n'\n",
      "b'Skipping line 144058: expected 8 fields, saw 9\\nSkipping line 150789: expected 8 fields, saw 9\\nSkipping line 157128: expected 8 fields, saw 9\\nSkipping line 180189: expected 8 fields, saw 9\\nSkipping line 185738: expected 8 fields, saw 9\\n'\n",
      "b'Skipping line 209388: expected 8 fields, saw 9\\nSkipping line 220626: expected 8 fields, saw 9\\nSkipping line 227933: expected 8 fields, saw 11\\nSkipping line 228957: expected 8 fields, saw 10\\nSkipping line 245933: expected 8 fields, saw 9\\nSkipping line 251296: expected 8 fields, saw 9\\nSkipping line 259941: expected 8 fields, saw 9\\nSkipping line 261529: expected 8 fields, saw 9\\n'\n"
     ]
    },
    {
     "name": "stdout",
     "output_type": "stream",
     "text": [
      "taille du jeu de donnees Books : (271360, 8)\n"
     ]
    },
    {
     "name": "stderr",
     "output_type": "stream",
     "text": [
      "C:\\Users\\bigdata\\Anaconda3\\lib\\site-packages\\IPython\\core\\interactiveshell.py:3058: DtypeWarning: Columns (3) have mixed types. Specify dtype option on import or set low_memory=False.\n",
      "  interactivity=interactivity, compiler=compiler, result=result)\n"
     ]
    },
    {
     "data": {
      "text/html": [
       "<div>\n",
       "<style scoped>\n",
       "    .dataframe tbody tr th:only-of-type {\n",
       "        vertical-align: middle;\n",
       "    }\n",
       "\n",
       "    .dataframe tbody tr th {\n",
       "        vertical-align: top;\n",
       "    }\n",
       "\n",
       "    .dataframe thead th {\n",
       "        text-align: right;\n",
       "    }\n",
       "</style>\n",
       "<table border=\"1\" class=\"dataframe\">\n",
       "  <thead>\n",
       "    <tr style=\"text-align: right;\">\n",
       "      <th></th>\n",
       "      <th>ISBN</th>\n",
       "      <th>Book-Title</th>\n",
       "      <th>Book-Author</th>\n",
       "      <th>Year-Of-Publication</th>\n",
       "      <th>Publisher</th>\n",
       "      <th>Image-URL-S</th>\n",
       "      <th>Image-URL-M</th>\n",
       "      <th>Image-URL-L</th>\n",
       "    </tr>\n",
       "  </thead>\n",
       "  <tbody>\n",
       "    <tr>\n",
       "      <td>0</td>\n",
       "      <td>0195153448</td>\n",
       "      <td>Classical Mythology</td>\n",
       "      <td>Mark P. O. Morford</td>\n",
       "      <td>2002</td>\n",
       "      <td>Oxford University Press</td>\n",
       "      <td>http://images.amazon.com/images/P/0195153448.0...</td>\n",
       "      <td>http://images.amazon.com/images/P/0195153448.0...</td>\n",
       "      <td>http://images.amazon.com/images/P/0195153448.0...</td>\n",
       "    </tr>\n",
       "    <tr>\n",
       "      <td>1</td>\n",
       "      <td>0002005018</td>\n",
       "      <td>Clara Callan</td>\n",
       "      <td>Richard Bruce Wright</td>\n",
       "      <td>2001</td>\n",
       "      <td>HarperFlamingo Canada</td>\n",
       "      <td>http://images.amazon.com/images/P/0002005018.0...</td>\n",
       "      <td>http://images.amazon.com/images/P/0002005018.0...</td>\n",
       "      <td>http://images.amazon.com/images/P/0002005018.0...</td>\n",
       "    </tr>\n",
       "    <tr>\n",
       "      <td>2</td>\n",
       "      <td>0060973129</td>\n",
       "      <td>Decision in Normandy</td>\n",
       "      <td>Carlo D'Este</td>\n",
       "      <td>1991</td>\n",
       "      <td>HarperPerennial</td>\n",
       "      <td>http://images.amazon.com/images/P/0060973129.0...</td>\n",
       "      <td>http://images.amazon.com/images/P/0060973129.0...</td>\n",
       "      <td>http://images.amazon.com/images/P/0060973129.0...</td>\n",
       "    </tr>\n",
       "    <tr>\n",
       "      <td>3</td>\n",
       "      <td>0374157065</td>\n",
       "      <td>Flu: The Story of the Great Influenza Pandemic...</td>\n",
       "      <td>Gina Bari Kolata</td>\n",
       "      <td>1999</td>\n",
       "      <td>Farrar Straus Giroux</td>\n",
       "      <td>http://images.amazon.com/images/P/0374157065.0...</td>\n",
       "      <td>http://images.amazon.com/images/P/0374157065.0...</td>\n",
       "      <td>http://images.amazon.com/images/P/0374157065.0...</td>\n",
       "    </tr>\n",
       "    <tr>\n",
       "      <td>4</td>\n",
       "      <td>0393045218</td>\n",
       "      <td>The Mummies of Urumchi</td>\n",
       "      <td>E. J. W. Barber</td>\n",
       "      <td>1999</td>\n",
       "      <td>W. W. Norton &amp;amp; Company</td>\n",
       "      <td>http://images.amazon.com/images/P/0393045218.0...</td>\n",
       "      <td>http://images.amazon.com/images/P/0393045218.0...</td>\n",
       "      <td>http://images.amazon.com/images/P/0393045218.0...</td>\n",
       "    </tr>\n",
       "    <tr>\n",
       "      <td>5</td>\n",
       "      <td>0399135782</td>\n",
       "      <td>The Kitchen God's Wife</td>\n",
       "      <td>Amy Tan</td>\n",
       "      <td>1991</td>\n",
       "      <td>Putnam Pub Group</td>\n",
       "      <td>http://images.amazon.com/images/P/0399135782.0...</td>\n",
       "      <td>http://images.amazon.com/images/P/0399135782.0...</td>\n",
       "      <td>http://images.amazon.com/images/P/0399135782.0...</td>\n",
       "    </tr>\n",
       "    <tr>\n",
       "      <td>6</td>\n",
       "      <td>0425176428</td>\n",
       "      <td>What If?: The World's Foremost Military Histor...</td>\n",
       "      <td>Robert Cowley</td>\n",
       "      <td>2000</td>\n",
       "      <td>Berkley Publishing Group</td>\n",
       "      <td>http://images.amazon.com/images/P/0425176428.0...</td>\n",
       "      <td>http://images.amazon.com/images/P/0425176428.0...</td>\n",
       "      <td>http://images.amazon.com/images/P/0425176428.0...</td>\n",
       "    </tr>\n",
       "    <tr>\n",
       "      <td>7</td>\n",
       "      <td>0671870432</td>\n",
       "      <td>PLEADING GUILTY</td>\n",
       "      <td>Scott Turow</td>\n",
       "      <td>1993</td>\n",
       "      <td>Audioworks</td>\n",
       "      <td>http://images.amazon.com/images/P/0671870432.0...</td>\n",
       "      <td>http://images.amazon.com/images/P/0671870432.0...</td>\n",
       "      <td>http://images.amazon.com/images/P/0671870432.0...</td>\n",
       "    </tr>\n",
       "    <tr>\n",
       "      <td>8</td>\n",
       "      <td>0679425608</td>\n",
       "      <td>Under the Black Flag: The Romance and the Real...</td>\n",
       "      <td>David Cordingly</td>\n",
       "      <td>1996</td>\n",
       "      <td>Random House</td>\n",
       "      <td>http://images.amazon.com/images/P/0679425608.0...</td>\n",
       "      <td>http://images.amazon.com/images/P/0679425608.0...</td>\n",
       "      <td>http://images.amazon.com/images/P/0679425608.0...</td>\n",
       "    </tr>\n",
       "    <tr>\n",
       "      <td>9</td>\n",
       "      <td>074322678X</td>\n",
       "      <td>Where You'll Find Me: And Other Stories</td>\n",
       "      <td>Ann Beattie</td>\n",
       "      <td>2002</td>\n",
       "      <td>Scribner</td>\n",
       "      <td>http://images.amazon.com/images/P/074322678X.0...</td>\n",
       "      <td>http://images.amazon.com/images/P/074322678X.0...</td>\n",
       "      <td>http://images.amazon.com/images/P/074322678X.0...</td>\n",
       "    </tr>\n",
       "  </tbody>\n",
       "</table>\n",
       "</div>"
      ],
      "text/plain": [
       "         ISBN                                         Book-Title  \\\n",
       "0  0195153448                                Classical Mythology   \n",
       "1  0002005018                                       Clara Callan   \n",
       "2  0060973129                               Decision in Normandy   \n",
       "3  0374157065  Flu: The Story of the Great Influenza Pandemic...   \n",
       "4  0393045218                             The Mummies of Urumchi   \n",
       "5  0399135782                             The Kitchen God's Wife   \n",
       "6  0425176428  What If?: The World's Foremost Military Histor...   \n",
       "7  0671870432                                    PLEADING GUILTY   \n",
       "8  0679425608  Under the Black Flag: The Romance and the Real...   \n",
       "9  074322678X            Where You'll Find Me: And Other Stories   \n",
       "\n",
       "            Book-Author Year-Of-Publication                   Publisher  \\\n",
       "0    Mark P. O. Morford                2002     Oxford University Press   \n",
       "1  Richard Bruce Wright                2001       HarperFlamingo Canada   \n",
       "2          Carlo D'Este                1991             HarperPerennial   \n",
       "3      Gina Bari Kolata                1999        Farrar Straus Giroux   \n",
       "4       E. J. W. Barber                1999  W. W. Norton &amp; Company   \n",
       "5               Amy Tan                1991            Putnam Pub Group   \n",
       "6         Robert Cowley                2000    Berkley Publishing Group   \n",
       "7           Scott Turow                1993                  Audioworks   \n",
       "8       David Cordingly                1996                Random House   \n",
       "9           Ann Beattie                2002                    Scribner   \n",
       "\n",
       "                                         Image-URL-S  \\\n",
       "0  http://images.amazon.com/images/P/0195153448.0...   \n",
       "1  http://images.amazon.com/images/P/0002005018.0...   \n",
       "2  http://images.amazon.com/images/P/0060973129.0...   \n",
       "3  http://images.amazon.com/images/P/0374157065.0...   \n",
       "4  http://images.amazon.com/images/P/0393045218.0...   \n",
       "5  http://images.amazon.com/images/P/0399135782.0...   \n",
       "6  http://images.amazon.com/images/P/0425176428.0...   \n",
       "7  http://images.amazon.com/images/P/0671870432.0...   \n",
       "8  http://images.amazon.com/images/P/0679425608.0...   \n",
       "9  http://images.amazon.com/images/P/074322678X.0...   \n",
       "\n",
       "                                         Image-URL-M  \\\n",
       "0  http://images.amazon.com/images/P/0195153448.0...   \n",
       "1  http://images.amazon.com/images/P/0002005018.0...   \n",
       "2  http://images.amazon.com/images/P/0060973129.0...   \n",
       "3  http://images.amazon.com/images/P/0374157065.0...   \n",
       "4  http://images.amazon.com/images/P/0393045218.0...   \n",
       "5  http://images.amazon.com/images/P/0399135782.0...   \n",
       "6  http://images.amazon.com/images/P/0425176428.0...   \n",
       "7  http://images.amazon.com/images/P/0671870432.0...   \n",
       "8  http://images.amazon.com/images/P/0679425608.0...   \n",
       "9  http://images.amazon.com/images/P/074322678X.0...   \n",
       "\n",
       "                                         Image-URL-L  \n",
       "0  http://images.amazon.com/images/P/0195153448.0...  \n",
       "1  http://images.amazon.com/images/P/0002005018.0...  \n",
       "2  http://images.amazon.com/images/P/0060973129.0...  \n",
       "3  http://images.amazon.com/images/P/0374157065.0...  \n",
       "4  http://images.amazon.com/images/P/0393045218.0...  \n",
       "5  http://images.amazon.com/images/P/0399135782.0...  \n",
       "6  http://images.amazon.com/images/P/0425176428.0...  \n",
       "7  http://images.amazon.com/images/P/0671870432.0...  \n",
       "8  http://images.amazon.com/images/P/0679425608.0...  \n",
       "9  http://images.amazon.com/images/P/074322678X.0...  "
      ]
     },
     "execution_count": 3,
     "metadata": {},
     "output_type": "execute_result"
    }
   ],
   "source": [
    "#certaines données sont mal formées avec des \"\" dans les champs. Utilisation d'error_bad_lines\n",
    "df_books = pd.read_csv(\"../input/BX-Books.csv\", sep=\";\",delimiter=\";\", header=0, encoding='ansi', error_bad_lines=False)\n",
    "print(\"taille du jeu de donnees Books :\", df_books.shape)\n",
    "df_books.head(10)"
   ]
  },
  {
   "cell_type": "code",
   "execution_count": 4,
   "metadata": {},
   "outputs": [
    {
     "name": "stdout",
     "output_type": "stream",
     "text": [
      "taille du jeu de donnees Book Ratings : (1149780, 3)\n"
     ]
    },
    {
     "data": {
      "text/html": [
       "<div>\n",
       "<style scoped>\n",
       "    .dataframe tbody tr th:only-of-type {\n",
       "        vertical-align: middle;\n",
       "    }\n",
       "\n",
       "    .dataframe tbody tr th {\n",
       "        vertical-align: top;\n",
       "    }\n",
       "\n",
       "    .dataframe thead th {\n",
       "        text-align: right;\n",
       "    }\n",
       "</style>\n",
       "<table border=\"1\" class=\"dataframe\">\n",
       "  <thead>\n",
       "    <tr style=\"text-align: right;\">\n",
       "      <th></th>\n",
       "      <th>User-ID</th>\n",
       "      <th>ISBN</th>\n",
       "      <th>Book-Rating</th>\n",
       "    </tr>\n",
       "  </thead>\n",
       "  <tbody>\n",
       "    <tr>\n",
       "      <td>0</td>\n",
       "      <td>276725</td>\n",
       "      <td>034545104X</td>\n",
       "      <td>0</td>\n",
       "    </tr>\n",
       "    <tr>\n",
       "      <td>1</td>\n",
       "      <td>276726</td>\n",
       "      <td>0155061224</td>\n",
       "      <td>5</td>\n",
       "    </tr>\n",
       "    <tr>\n",
       "      <td>2</td>\n",
       "      <td>276727</td>\n",
       "      <td>0446520802</td>\n",
       "      <td>0</td>\n",
       "    </tr>\n",
       "    <tr>\n",
       "      <td>3</td>\n",
       "      <td>276729</td>\n",
       "      <td>052165615X</td>\n",
       "      <td>3</td>\n",
       "    </tr>\n",
       "    <tr>\n",
       "      <td>4</td>\n",
       "      <td>276729</td>\n",
       "      <td>0521795028</td>\n",
       "      <td>6</td>\n",
       "    </tr>\n",
       "    <tr>\n",
       "      <td>5</td>\n",
       "      <td>276733</td>\n",
       "      <td>2080674722</td>\n",
       "      <td>0</td>\n",
       "    </tr>\n",
       "    <tr>\n",
       "      <td>6</td>\n",
       "      <td>276736</td>\n",
       "      <td>3257224281</td>\n",
       "      <td>8</td>\n",
       "    </tr>\n",
       "    <tr>\n",
       "      <td>7</td>\n",
       "      <td>276737</td>\n",
       "      <td>0600570967</td>\n",
       "      <td>6</td>\n",
       "    </tr>\n",
       "    <tr>\n",
       "      <td>8</td>\n",
       "      <td>276744</td>\n",
       "      <td>038550120X</td>\n",
       "      <td>7</td>\n",
       "    </tr>\n",
       "    <tr>\n",
       "      <td>9</td>\n",
       "      <td>276745</td>\n",
       "      <td>342310538</td>\n",
       "      <td>10</td>\n",
       "    </tr>\n",
       "  </tbody>\n",
       "</table>\n",
       "</div>"
      ],
      "text/plain": [
       "   User-ID        ISBN  Book-Rating\n",
       "0   276725  034545104X            0\n",
       "1   276726  0155061224            5\n",
       "2   276727  0446520802            0\n",
       "3   276729  052165615X            3\n",
       "4   276729  0521795028            6\n",
       "5   276733  2080674722            0\n",
       "6   276736  3257224281            8\n",
       "7   276737  0600570967            6\n",
       "8   276744  038550120X            7\n",
       "9   276745   342310538           10"
      ]
     },
     "execution_count": 4,
     "metadata": {},
     "output_type": "execute_result"
    }
   ],
   "source": [
    "df_ratings = pd.read_csv(\"../input/BX-Book-Ratings.csv\", sep=\";\",delimiter=\";\", header=0, encoding='ansi')\n",
    "print(\"taille du jeu de donnees Book Ratings :\", df_ratings.shape)\n",
    "df_ratings.head(10)"
   ]
  },
  {
   "cell_type": "markdown",
   "metadata": {},
   "source": [
    "## Quelques statistiques descriptives"
   ]
  },
  {
   "cell_type": "markdown",
   "metadata": {},
   "source": [
    "__Statistiques sur les Users__"
   ]
  },
  {
   "cell_type": "code",
   "execution_count": 5,
   "metadata": {},
   "outputs": [
    {
     "name": "stdout",
     "output_type": "stream",
     "text": [
      "# Nb Lines File Users :  278858\n"
     ]
    }
   ],
   "source": [
    "nb_LinesUsers = df_users.shape[0]\n",
    "print(\"# Nb Lines File Users : \", nb_LinesUsers)"
   ]
  },
  {
   "cell_type": "code",
   "execution_count": 6,
   "metadata": {},
   "outputs": [
    {
     "name": "stdout",
     "output_type": "stream",
     "text": [
      "# Users :  278858\n"
     ]
    }
   ],
   "source": [
    "nb_Users = len(df_users['User-ID'].unique())\n",
    "print(\"# Users : \", nb_Users)"
   ]
  },
  {
   "cell_type": "markdown",
   "metadata": {},
   "source": [
    "Tous les users sont uniques."
   ]
  },
  {
   "cell_type": "markdown",
   "metadata": {},
   "source": [
    "__Statistiques sur les Livres__"
   ]
  },
  {
   "cell_type": "code",
   "execution_count": 7,
   "metadata": {},
   "outputs": [
    {
     "name": "stdout",
     "output_type": "stream",
     "text": [
      "# Nb Lines File Books :  271360\n"
     ]
    }
   ],
   "source": [
    "nb_LinesBooks = df_books.shape[0]\n",
    "print(\"# Nb Lines File Books : \", nb_LinesBooks)"
   ]
  },
  {
   "cell_type": "code",
   "execution_count": 8,
   "metadata": {},
   "outputs": [
    {
     "name": "stdout",
     "output_type": "stream",
     "text": [
      "# Books :  271360\n"
     ]
    }
   ],
   "source": [
    "nb_Books = len(df_books['ISBN'].unique())\n",
    "print(\"# Books : \", nb_Books)"
   ]
  },
  {
   "cell_type": "markdown",
   "metadata": {},
   "source": [
    "Tous les livres sont uniques."
   ]
  },
  {
   "cell_type": "markdown",
   "metadata": {},
   "source": [
    "__Statistiques sur les Rating__"
   ]
  },
  {
   "cell_type": "code",
   "execution_count": 9,
   "metadata": {},
   "outputs": [
    {
     "name": "stdout",
     "output_type": "stream",
     "text": [
      "# Nb Lines File Ratings :  1149780\n"
     ]
    }
   ],
   "source": [
    "nb_LinesRatings = df_ratings.shape[0]\n",
    "print(\"# Nb Lines File Ratings : \", nb_LinesRatings)"
   ]
  },
  {
   "cell_type": "code",
   "execution_count": 10,
   "metadata": {},
   "outputs": [
    {
     "data": {
      "text/plain": [
       "[0, 1, 2, 3, 4, 5, 6, 7, 8, 9, 10]"
      ]
     },
     "execution_count": 10,
     "metadata": {},
     "output_type": "execute_result"
    }
   ],
   "source": [
    "set_scores = list(set(df_ratings[\"Book-Rating\"]))\n",
    "set_scores"
   ]
  },
  {
   "cell_type": "code",
   "execution_count": 11,
   "metadata": {},
   "outputs": [
    {
     "name": "stdout",
     "output_type": "stream",
     "text": [
      "Probleme de duplication dans ratings : False\n"
     ]
    }
   ],
   "source": [
    "# Checking if the user has rated the same book twice, in that case we just take max of them\n",
    "df_validationRatings = df_ratings.groupby(['User-ID','ISBN']).aggregate(np.max)\n",
    "print(\"Probleme de duplication dans ratings :\", len(df_validationRatings) != nb_LinesRatings)"
   ]
  },
  {
   "cell_type": "markdown",
   "metadata": {},
   "source": [
    "Plus d'un million de notations sur des livres compris entre 0 et 10 par des utilisateurs et il n'y a pas de duplication avec un utilisateur ayant noté deux fois le même livre."
   ]
  },
  {
   "cell_type": "code",
   "execution_count": 12,
   "metadata": {},
   "outputs": [
    {
     "name": "stdout",
     "output_type": "stream",
     "text": [
      "Sparsity :  0.99998\n"
     ]
    }
   ],
   "source": [
    "sparsity = round(1.0 - nb_LinesRatings/(1.0*(nb_Books*nb_Users)),5)\n",
    "print(\"Sparsity : \", sparsity)"
   ]
  },
  {
   "cell_type": "code",
   "execution_count": 13,
   "metadata": {},
   "outputs": [
    {
     "data": {
      "text/plain": [
       "<seaborn.axisgrid.FacetGrid at 0x1bcf70a43c8>"
      ]
     },
     "execution_count": 13,
     "metadata": {},
     "output_type": "execute_result"
    },
    {
     "data": {
      "image/png": "[encoded data removed]",
      "text/plain": [
       "<Figure size 360x360 with 1 Axes>"
      ]
     },
     "metadata": {
      "needs_background": "light"
     },
     "output_type": "display_data"
    }
   ],
   "source": [
    "count_ratings = df_ratings.groupby('Book-Rating').count()\n",
    "count_ratings['Book-Rating'] = count_ratings.index\n",
    "count_ratings['Perc_total']=round(count_ratings['User-ID']*100/count_ratings['User-ID'].sum(),1)\n",
    "sns.catplot(x= \"Book-Rating\", y=\"Perc_total\",data=count_ratings,kind='bar')"
   ]
  },
  {
   "cell_type": "markdown",
   "metadata": {},
   "source": [
    "Nous avons pu voir simplement :\n",
    "* Le nombre d'utilisateurs, le nombre de livres, la sparsité de la matrice users par livre \n",
    "* La distribution des notes sur les livres : la modalité 0 est la plus représentée mais correspond à une note implicite."
   ]
  },
  {
   "cell_type": "markdown",
   "metadata": {},
   "source": [
    "# Construction du Dataset"
   ]
  },
  {
   "cell_type": "markdown",
   "metadata": {},
   "source": [
    "1. Ne comprenant pas la note 0, on va se passer de l'ensemble des notes implicites ce qui va réduire considérablement le dataset initial de ratings"
   ]
  },
  {
   "cell_type": "code",
   "execution_count": 14,
   "metadata": {},
   "outputs": [
    {
     "data": {
      "text/plain": [
       "433671"
      ]
     },
     "execution_count": 14,
     "metadata": {},
     "output_type": "execute_result"
    }
   ],
   "source": [
    "df_ratingsRed = df_ratings[df_ratings[\"Book-Rating\"]>0]\n",
    "len(df_ratingsRed)"
   ]
  },
  {
   "cell_type": "markdown",
   "metadata": {},
   "source": [
    "2. Faisons le merge avec les users présents dans la table User"
   ]
  },
  {
   "cell_type": "code",
   "execution_count": 15,
   "metadata": {},
   "outputs": [
    {
     "data": {
      "text/html": [
       "<div>\n",
       "<style scoped>\n",
       "    .dataframe tbody tr th:only-of-type {\n",
       "        vertical-align: middle;\n",
       "    }\n",
       "\n",
       "    .dataframe tbody tr th {\n",
       "        vertical-align: top;\n",
       "    }\n",
       "\n",
       "    .dataframe thead th {\n",
       "        text-align: right;\n",
       "    }\n",
       "</style>\n",
       "<table border=\"1\" class=\"dataframe\">\n",
       "  <thead>\n",
       "    <tr style=\"text-align: right;\">\n",
       "      <th></th>\n",
       "      <th>User-ID</th>\n",
       "      <th>ISBN</th>\n",
       "      <th>Book-Rating</th>\n",
       "      <th>Location</th>\n",
       "      <th>Age</th>\n",
       "    </tr>\n",
       "  </thead>\n",
       "  <tbody>\n",
       "    <tr>\n",
       "      <td>0</td>\n",
       "      <td>276726</td>\n",
       "      <td>0155061224</td>\n",
       "      <td>5</td>\n",
       "      <td>seattle, washington, usa</td>\n",
       "      <td>NaN</td>\n",
       "    </tr>\n",
       "    <tr>\n",
       "      <td>1</td>\n",
       "      <td>276729</td>\n",
       "      <td>052165615X</td>\n",
       "      <td>3</td>\n",
       "      <td>rijeka, n/a, croatia</td>\n",
       "      <td>16.0</td>\n",
       "    </tr>\n",
       "    <tr>\n",
       "      <td>2</td>\n",
       "      <td>276729</td>\n",
       "      <td>0521795028</td>\n",
       "      <td>6</td>\n",
       "      <td>rijeka, n/a, croatia</td>\n",
       "      <td>16.0</td>\n",
       "    </tr>\n",
       "    <tr>\n",
       "      <td>3</td>\n",
       "      <td>276736</td>\n",
       "      <td>3257224281</td>\n",
       "      <td>8</td>\n",
       "      <td>salzburg, salzburg, austria</td>\n",
       "      <td>NaN</td>\n",
       "    </tr>\n",
       "    <tr>\n",
       "      <td>4</td>\n",
       "      <td>276737</td>\n",
       "      <td>0600570967</td>\n",
       "      <td>6</td>\n",
       "      <td>sydney, new south wales, australia</td>\n",
       "      <td>14.0</td>\n",
       "    </tr>\n",
       "  </tbody>\n",
       "</table>\n",
       "</div>"
      ],
      "text/plain": [
       "   User-ID        ISBN  Book-Rating                            Location   Age\n",
       "0   276726  0155061224            5            seattle, washington, usa   NaN\n",
       "1   276729  052165615X            3                rijeka, n/a, croatia  16.0\n",
       "2   276729  0521795028            6                rijeka, n/a, croatia  16.0\n",
       "3   276736  3257224281            8         salzburg, salzburg, austria   NaN\n",
       "4   276737  0600570967            6  sydney, new south wales, australia  14.0"
      ]
     },
     "execution_count": 15,
     "metadata": {},
     "output_type": "execute_result"
    }
   ],
   "source": [
    "rating_user = pd.merge(df_ratingsRed,df_users,on='User-ID')\n",
    "rating_user.head(5)"
   ]
  },
  {
   "cell_type": "code",
   "execution_count": 16,
   "metadata": {},
   "outputs": [
    {
     "data": {
      "text/plain": [
       "433671"
      ]
     },
     "execution_count": 16,
     "metadata": {},
     "output_type": "execute_result"
    }
   ],
   "source": [
    "len(rating_user)"
   ]
  },
  {
   "cell_type": "markdown",
   "metadata": {},
   "source": [
    "Pas de perte, on retrouve tous les users."
   ]
  },
  {
   "cell_type": "code",
   "execution_count": 17,
   "metadata": {},
   "outputs": [],
   "source": [
    "df = pd.merge(rating_user, df_books, on=\"ISBN\")"
   ]
  },
  {
   "cell_type": "code",
   "execution_count": 18,
   "metadata": {},
   "outputs": [
    {
     "data": {
      "text/plain": [
       "383842"
      ]
     },
     "execution_count": 18,
     "metadata": {},
     "output_type": "execute_result"
    }
   ],
   "source": [
    "len(df)"
   ]
  },
  {
   "cell_type": "markdown",
   "metadata": {},
   "source": [
    "Il y a des livres qui ne sont pas présents dans les deux tables."
   ]
  },
  {
   "cell_type": "code",
   "execution_count": 19,
   "metadata": {},
   "outputs": [
    {
     "data": {
      "text/html": [
       "<div>\n",
       "<style scoped>\n",
       "    .dataframe tbody tr th:only-of-type {\n",
       "        vertical-align: middle;\n",
       "    }\n",
       "\n",
       "    .dataframe tbody tr th {\n",
       "        vertical-align: top;\n",
       "    }\n",
       "\n",
       "    .dataframe thead th {\n",
       "        text-align: right;\n",
       "    }\n",
       "</style>\n",
       "<table border=\"1\" class=\"dataframe\">\n",
       "  <thead>\n",
       "    <tr style=\"text-align: right;\">\n",
       "      <th></th>\n",
       "      <th>User-ID</th>\n",
       "      <th>ISBN</th>\n",
       "      <th>Book-Rating</th>\n",
       "      <th>Location</th>\n",
       "      <th>Age</th>\n",
       "      <th>Book-Title</th>\n",
       "      <th>Book-Author</th>\n",
       "      <th>Year-Of-Publication</th>\n",
       "      <th>Publisher</th>\n",
       "      <th>Image-URL-S</th>\n",
       "      <th>Image-URL-M</th>\n",
       "      <th>Image-URL-L</th>\n",
       "    </tr>\n",
       "  </thead>\n",
       "  <tbody>\n",
       "    <tr>\n",
       "      <td>0</td>\n",
       "      <td>276726</td>\n",
       "      <td>0155061224</td>\n",
       "      <td>5</td>\n",
       "      <td>seattle, washington, usa</td>\n",
       "      <td>NaN</td>\n",
       "      <td>Rites of Passage</td>\n",
       "      <td>Judith Rae</td>\n",
       "      <td>2001</td>\n",
       "      <td>Heinle</td>\n",
       "      <td>http://images.amazon.com/images/P/0155061224.0...</td>\n",
       "      <td>http://images.amazon.com/images/P/0155061224.0...</td>\n",
       "      <td>http://images.amazon.com/images/P/0155061224.0...</td>\n",
       "    </tr>\n",
       "    <tr>\n",
       "      <td>1</td>\n",
       "      <td>276729</td>\n",
       "      <td>052165615X</td>\n",
       "      <td>3</td>\n",
       "      <td>rijeka, n/a, croatia</td>\n",
       "      <td>16.0</td>\n",
       "      <td>Help!: Level 1</td>\n",
       "      <td>Philip Prowse</td>\n",
       "      <td>1999</td>\n",
       "      <td>Cambridge University Press</td>\n",
       "      <td>http://images.amazon.com/images/P/052165615X.0...</td>\n",
       "      <td>http://images.amazon.com/images/P/052165615X.0...</td>\n",
       "      <td>http://images.amazon.com/images/P/052165615X.0...</td>\n",
       "    </tr>\n",
       "    <tr>\n",
       "      <td>2</td>\n",
       "      <td>276729</td>\n",
       "      <td>0521795028</td>\n",
       "      <td>6</td>\n",
       "      <td>rijeka, n/a, croatia</td>\n",
       "      <td>16.0</td>\n",
       "      <td>The Amsterdam Connection : Level 4 (Cambridge ...</td>\n",
       "      <td>Sue Leather</td>\n",
       "      <td>2001</td>\n",
       "      <td>Cambridge University Press</td>\n",
       "      <td>http://images.amazon.com/images/P/0521795028.0...</td>\n",
       "      <td>http://images.amazon.com/images/P/0521795028.0...</td>\n",
       "      <td>http://images.amazon.com/images/P/0521795028.0...</td>\n",
       "    </tr>\n",
       "    <tr>\n",
       "      <td>3</td>\n",
       "      <td>276744</td>\n",
       "      <td>038550120X</td>\n",
       "      <td>7</td>\n",
       "      <td>torrance, california, usa</td>\n",
       "      <td>NaN</td>\n",
       "      <td>A Painted House</td>\n",
       "      <td>JOHN GRISHAM</td>\n",
       "      <td>2001</td>\n",
       "      <td>Doubleday</td>\n",
       "      <td>http://images.amazon.com/images/P/038550120X.0...</td>\n",
       "      <td>http://images.amazon.com/images/P/038550120X.0...</td>\n",
       "      <td>http://images.amazon.com/images/P/038550120X.0...</td>\n",
       "    </tr>\n",
       "    <tr>\n",
       "      <td>4</td>\n",
       "      <td>11676</td>\n",
       "      <td>038550120X</td>\n",
       "      <td>10</td>\n",
       "      <td>n/a, n/a, n/a</td>\n",
       "      <td>NaN</td>\n",
       "      <td>A Painted House</td>\n",
       "      <td>JOHN GRISHAM</td>\n",
       "      <td>2001</td>\n",
       "      <td>Doubleday</td>\n",
       "      <td>http://images.amazon.com/images/P/038550120X.0...</td>\n",
       "      <td>http://images.amazon.com/images/P/038550120X.0...</td>\n",
       "      <td>http://images.amazon.com/images/P/038550120X.0...</td>\n",
       "    </tr>\n",
       "  </tbody>\n",
       "</table>\n",
       "</div>"
      ],
      "text/plain": [
       "   User-ID        ISBN  Book-Rating                   Location   Age  \\\n",
       "0   276726  0155061224            5   seattle, washington, usa   NaN   \n",
       "1   276729  052165615X            3       rijeka, n/a, croatia  16.0   \n",
       "2   276729  0521795028            6       rijeka, n/a, croatia  16.0   \n",
       "3   276744  038550120X            7  torrance, california, usa   NaN   \n",
       "4    11676  038550120X           10              n/a, n/a, n/a   NaN   \n",
       "\n",
       "                                          Book-Title    Book-Author  \\\n",
       "0                                   Rites of Passage     Judith Rae   \n",
       "1                                     Help!: Level 1  Philip Prowse   \n",
       "2  The Amsterdam Connection : Level 4 (Cambridge ...    Sue Leather   \n",
       "3                                    A Painted House   JOHN GRISHAM   \n",
       "4                                    A Painted House   JOHN GRISHAM   \n",
       "\n",
       "  Year-Of-Publication                   Publisher  \\\n",
       "0                2001                      Heinle   \n",
       "1                1999  Cambridge University Press   \n",
       "2                2001  Cambridge University Press   \n",
       "3                2001                   Doubleday   \n",
       "4                2001                   Doubleday   \n",
       "\n",
       "                                         Image-URL-S  \\\n",
       "0  http://images.amazon.com/images/P/0155061224.0...   \n",
       "1  http://images.amazon.com/images/P/052165615X.0...   \n",
       "2  http://images.amazon.com/images/P/0521795028.0...   \n",
       "3  http://images.amazon.com/images/P/038550120X.0...   \n",
       "4  http://images.amazon.com/images/P/038550120X.0...   \n",
       "\n",
       "                                         Image-URL-M  \\\n",
       "0  http://images.amazon.com/images/P/0155061224.0...   \n",
       "1  http://images.amazon.com/images/P/052165615X.0...   \n",
       "2  http://images.amazon.com/images/P/0521795028.0...   \n",
       "3  http://images.amazon.com/images/P/038550120X.0...   \n",
       "4  http://images.amazon.com/images/P/038550120X.0...   \n",
       "\n",
       "                                         Image-URL-L  \n",
       "0  http://images.amazon.com/images/P/0155061224.0...  \n",
       "1  http://images.amazon.com/images/P/052165615X.0...  \n",
       "2  http://images.amazon.com/images/P/0521795028.0...  \n",
       "3  http://images.amazon.com/images/P/038550120X.0...  \n",
       "4  http://images.amazon.com/images/P/038550120X.0...  "
      ]
     },
     "execution_count": 19,
     "metadata": {},
     "output_type": "execute_result"
    }
   ],
   "source": [
    "df.head(5)"
   ]
  },
  {
   "cell_type": "markdown",
   "metadata": {},
   "source": [
    "On va recalculer les statistiques sur base des données présentes sur le nombre d'Users, de books, sparsite"
   ]
  },
  {
   "cell_type": "code",
   "execution_count": 20,
   "metadata": {},
   "outputs": [
    {
     "name": "stdout",
     "output_type": "stream",
     "text": [
      "# Users :  68091\n"
     ]
    }
   ],
   "source": [
    "nb_Users = len(df['User-ID'].unique())\n",
    "print(\"# Users : \", nb_Users)"
   ]
  },
  {
   "cell_type": "code",
   "execution_count": 21,
   "metadata": {},
   "outputs": [
    {
     "name": "stdout",
     "output_type": "stream",
     "text": [
      "# Books :  149836\n"
     ]
    }
   ],
   "source": [
    "nb_Books = len(df['ISBN'].unique())\n",
    "print(\"# Books : \", nb_Books)"
   ]
  },
  {
   "cell_type": "code",
   "execution_count": 22,
   "metadata": {},
   "outputs": [
    {
     "name": "stdout",
     "output_type": "stream",
     "text": [
      "# Nb Ratings :  383842\n"
     ]
    }
   ],
   "source": [
    "nb_Ratings = df.shape[0]\n",
    "print(\"# Nb Ratings : \", nb_Ratings)"
   ]
  },
  {
   "cell_type": "code",
   "execution_count": 23,
   "metadata": {},
   "outputs": [
    {
     "name": "stdout",
     "output_type": "stream",
     "text": [
      "Sparsity :  0.99996\n"
     ]
    }
   ],
   "source": [
    "sparsity = round(1.0 - nb_Ratings/(1.0*(nb_Books*nb_Users)),5)\n",
    "print(\"Sparsity : \", sparsity)"
   ]
  },
  {
   "cell_type": "code",
   "execution_count": 24,
   "metadata": {},
   "outputs": [
    {
     "data": {
      "text/plain": [
       "<seaborn.axisgrid.FacetGrid at 0x1bc8015ca88>"
      ]
     },
     "execution_count": 24,
     "metadata": {},
     "output_type": "execute_result"
    },
    {
     "data": {
      "image/png": "[encoded data removed]",
      "text/plain": [
       "<Figure size 360x360 with 1 Axes>"
      ]
     },
     "metadata": {
      "needs_background": "light"
     },
     "output_type": "display_data"
    }
   ],
   "source": [
    "count_ratings = df.groupby('Book-Rating').count()\n",
    "count_ratings['Book-Rating'] = count_ratings.index\n",
    "count_ratings['Perc_total']=round(count_ratings['User-ID']*100/count_ratings['User-ID'].sum(),1)\n",
    "sns.catplot(x= \"Book-Rating\", y=\"Perc_total\",data=count_ratings,kind='bar')"
   ]
  },
  {
   "cell_type": "markdown",
   "metadata": {},
   "source": [
    "Sans surprise, on retrouve la forme de la distribution en enlevant la notation implicite."
   ]
  },
  {
   "cell_type": "markdown",
   "metadata": {},
   "source": [
    "# Recommandations"
   ]
  },
  {
   "cell_type": "markdown",
   "metadata": {},
   "source": [
    "## Recommandations basées sur l'indicateur IMDB"
   ]
  },
  {
   "cell_type": "markdown",
   "metadata": {},
   "source": [
    "Visualisation du top 10 des livres les plus commentées avec calcul de la moyenne des scores des utilisateurs."
   ]
  },
  {
   "cell_type": "code",
   "execution_count": 25,
   "metadata": {},
   "outputs": [
    {
     "data": {
      "text/html": [
       "<div>\n",
       "<style scoped>\n",
       "    .dataframe tbody tr th:only-of-type {\n",
       "        vertical-align: middle;\n",
       "    }\n",
       "\n",
       "    .dataframe tbody tr th {\n",
       "        vertical-align: top;\n",
       "    }\n",
       "\n",
       "    .dataframe thead th {\n",
       "        text-align: right;\n",
       "    }\n",
       "</style>\n",
       "<table border=\"1\" class=\"dataframe\">\n",
       "  <thead>\n",
       "    <tr style=\"text-align: right;\">\n",
       "      <th></th>\n",
       "      <th>mean</th>\n",
       "      <th>count</th>\n",
       "    </tr>\n",
       "    <tr>\n",
       "      <th>ISBN</th>\n",
       "      <th></th>\n",
       "      <th></th>\n",
       "    </tr>\n",
       "  </thead>\n",
       "  <tbody>\n",
       "    <tr>\n",
       "      <td>0316666343</td>\n",
       "      <td>8.185290</td>\n",
       "      <td>707</td>\n",
       "    </tr>\n",
       "    <tr>\n",
       "      <td>0971880107</td>\n",
       "      <td>4.390706</td>\n",
       "      <td>581</td>\n",
       "    </tr>\n",
       "    <tr>\n",
       "      <td>0385504209</td>\n",
       "      <td>8.435318</td>\n",
       "      <td>487</td>\n",
       "    </tr>\n",
       "    <tr>\n",
       "      <td>0312195516</td>\n",
       "      <td>8.182768</td>\n",
       "      <td>383</td>\n",
       "    </tr>\n",
       "    <tr>\n",
       "      <td>0060928336</td>\n",
       "      <td>7.887500</td>\n",
       "      <td>320</td>\n",
       "    </tr>\n",
       "    <tr>\n",
       "      <td>059035342X</td>\n",
       "      <td>8.939297</td>\n",
       "      <td>313</td>\n",
       "    </tr>\n",
       "    <tr>\n",
       "      <td>0142001740</td>\n",
       "      <td>8.452769</td>\n",
       "      <td>307</td>\n",
       "    </tr>\n",
       "    <tr>\n",
       "      <td>0446672211</td>\n",
       "      <td>8.142373</td>\n",
       "      <td>295</td>\n",
       "    </tr>\n",
       "    <tr>\n",
       "      <td>044023722X</td>\n",
       "      <td>7.338078</td>\n",
       "      <td>281</td>\n",
       "    </tr>\n",
       "    <tr>\n",
       "      <td>0452282152</td>\n",
       "      <td>7.982014</td>\n",
       "      <td>278</td>\n",
       "    </tr>\n",
       "  </tbody>\n",
       "</table>\n",
       "</div>"
      ],
      "text/plain": [
       "                mean  count\n",
       "ISBN                       \n",
       "0316666343  8.185290    707\n",
       "0971880107  4.390706    581\n",
       "0385504209  8.435318    487\n",
       "0312195516  8.182768    383\n",
       "0060928336  7.887500    320\n",
       "059035342X  8.939297    313\n",
       "0142001740  8.452769    307\n",
       "0446672211  8.142373    295\n",
       "044023722X  7.338078    281\n",
       "0452282152  7.982014    278"
      ]
     },
     "execution_count": 25,
     "metadata": {},
     "output_type": "execute_result"
    }
   ],
   "source": [
    "# Finding the average rating for book and the number of ratings for each book\n",
    "avg_book_rating = pd.DataFrame(df.groupby('ISBN')['Book-Rating'].agg(['mean','count']))\n",
    "avg_book_rating.sort_values(['count'],ascending=False)[:10]"
   ]
  },
  {
   "cell_type": "code",
   "execution_count": 26,
   "metadata": {},
   "outputs": [
    {
     "name": "stdout",
     "output_type": "stream",
     "text": [
      "La moyenne des notes sur l'ensemble des livres  7.626700569505161\n"
     ]
    }
   ],
   "source": [
    "avg_rating_all = df['Book-Rating'].mean()\n",
    "print(\"La moyenne des notes sur l'ensemble des livres \", avg_rating_all)"
   ]
  },
  {
   "cell_type": "code",
   "execution_count": 27,
   "metadata": {},
   "outputs": [
    {
     "name": "stdout",
     "output_type": "stream",
     "text": [
      "Min reviews pour 70% percentile des livres  2.0\n"
     ]
    }
   ],
   "source": [
    "#calculate the percentile count. It gives the no of ratings at least 70% of the books have\n",
    "min_reviews = np.percentile(avg_book_rating['count'],70)\n",
    "print(\"Min reviews pour 70% percentile des livres \", min_reviews)"
   ]
  },
  {
   "cell_type": "markdown",
   "metadata": {},
   "source": [
    "Dans notre DataSet, il y a beaucoup de livres qui ont très peu de notations. "
   ]
  },
  {
   "cell_type": "code",
   "execution_count": 28,
   "metadata": {},
   "outputs": [],
   "source": [
    "#Pondération entre le rating du book et le rating de tous les books et je tire vers C (la moyenne des scores) si pas assez de notations et sinon vers R (la moyenne des scores des utilisateurs pour ce livre) \n",
    "def weighted_rating(x, m=min_reviews, C=avg_rating_all):\n",
    "    v = x['count']\n",
    "    R = x['mean']\n",
    "    # Calculation based on the IMDB formula\n",
    "    return (v/(v+m) * R) + (m/(m+v) * C)"
   ]
  },
  {
   "cell_type": "code",
   "execution_count": 29,
   "metadata": {},
   "outputs": [
    {
     "name": "stderr",
     "output_type": "stream",
     "text": [
      "C:\\Users\\bigdata\\Anaconda3\\lib\\site-packages\\ipykernel_launcher.py:4: SettingWithCopyWarning: \n",
      "A value is trying to be set on a copy of a slice from a DataFrame.\n",
      "Try using .loc[row_indexer,col_indexer] = value instead\n",
      "\n",
      "See the caveats in the documentation: http://pandas.pydata.org/pandas-docs/stable/user_guide/indexing.html#returning-a-view-versus-a-copy\n",
      "  after removing the cwd from sys.path.\n"
     ]
    },
    {
     "data": {
      "text/html": [
       "<div>\n",
       "<style scoped>\n",
       "    .dataframe tbody tr th:only-of-type {\n",
       "        vertical-align: middle;\n",
       "    }\n",
       "\n",
       "    .dataframe tbody tr th {\n",
       "        vertical-align: top;\n",
       "    }\n",
       "\n",
       "    .dataframe thead th {\n",
       "        text-align: right;\n",
       "    }\n",
       "</style>\n",
       "<table border=\"1\" class=\"dataframe\">\n",
       "  <thead>\n",
       "    <tr style=\"text-align: right;\">\n",
       "      <th></th>\n",
       "      <th>mean</th>\n",
       "      <th>count</th>\n",
       "      <th>Score IMDB</th>\n",
       "    </tr>\n",
       "    <tr>\n",
       "      <th>ISBN</th>\n",
       "      <th></th>\n",
       "      <th></th>\n",
       "      <th></th>\n",
       "    </tr>\n",
       "  </thead>\n",
       "  <tbody>\n",
       "    <tr>\n",
       "      <td>0002005018</td>\n",
       "      <td>7.666667</td>\n",
       "      <td>9</td>\n",
       "      <td>7.659400</td>\n",
       "    </tr>\n",
       "    <tr>\n",
       "      <td>0002116286</td>\n",
       "      <td>7.250000</td>\n",
       "      <td>4</td>\n",
       "      <td>7.375567</td>\n",
       "    </tr>\n",
       "    <tr>\n",
       "      <td>0002239183</td>\n",
       "      <td>7.333333</td>\n",
       "      <td>3</td>\n",
       "      <td>7.450680</td>\n",
       "    </tr>\n",
       "    <tr>\n",
       "      <td>0002240114</td>\n",
       "      <td>6.750000</td>\n",
       "      <td>4</td>\n",
       "      <td>7.042234</td>\n",
       "    </tr>\n",
       "    <tr>\n",
       "      <td>0002243962</td>\n",
       "      <td>5.750000</td>\n",
       "      <td>4</td>\n",
       "      <td>6.375567</td>\n",
       "    </tr>\n",
       "  </tbody>\n",
       "</table>\n",
       "</div>"
      ],
      "text/plain": [
       "                mean  count  Score IMDB\n",
       "ISBN                                   \n",
       "0002005018  7.666667      9    7.659400\n",
       "0002116286  7.250000      4    7.375567\n",
       "0002239183  7.333333      3    7.450680\n",
       "0002240114  6.750000      4    7.042234\n",
       "0002243962  5.750000      4    6.375567"
      ]
     },
     "execution_count": 29,
     "metadata": {},
     "output_type": "execute_result"
    }
   ],
   "source": [
    "#On réduit le dataset initial par rapport au nombre minimum de reviews correspondant au quantile 70 dans le cas présent\n",
    "book_score = avg_book_rating[avg_book_rating['count']>min_reviews]\n",
    "#On applique le score IMDB\n",
    "book_score['Score IMDB'] = book_score.apply(weighted_rating, axis=1) \n",
    "book_score.head()"
   ]
  },
  {
   "cell_type": "code",
   "execution_count": 30,
   "metadata": {},
   "outputs": [
    {
     "name": "stderr",
     "output_type": "stream",
     "text": [
      "C:\\Users\\bigdata\\Anaconda3\\lib\\site-packages\\ipykernel_launcher.py:2: SettingWithCopyWarning: \n",
      "A value is trying to be set on a copy of a slice from a DataFrame.\n",
      "Try using .loc[row_indexer,col_indexer] = value instead\n",
      "\n",
      "See the caveats in the documentation: http://pandas.pydata.org/pandas-docs/stable/user_guide/indexing.html#returning-a-view-versus-a-copy\n",
      "  \n"
     ]
    },
    {
     "data": {
      "text/html": [
       "<div>\n",
       "<style scoped>\n",
       "    .dataframe tbody tr th:only-of-type {\n",
       "        vertical-align: middle;\n",
       "    }\n",
       "\n",
       "    .dataframe tbody tr th {\n",
       "        vertical-align: top;\n",
       "    }\n",
       "\n",
       "    .dataframe thead th {\n",
       "        text-align: right;\n",
       "    }\n",
       "</style>\n",
       "<table border=\"1\" class=\"dataframe\">\n",
       "  <thead>\n",
       "    <tr style=\"text-align: right;\">\n",
       "      <th></th>\n",
       "      <th>mean</th>\n",
       "      <th>count</th>\n",
       "      <th>Score IMDB</th>\n",
       "      <th>ISBN</th>\n",
       "      <th>Book-Title</th>\n",
       "      <th>Year-Of-Publication</th>\n",
       "    </tr>\n",
       "  </thead>\n",
       "  <tbody>\n",
       "    <tr>\n",
       "      <td>0</td>\n",
       "      <td>7.666667</td>\n",
       "      <td>9</td>\n",
       "      <td>7.659400</td>\n",
       "      <td>0002005018</td>\n",
       "      <td>Clara Callan</td>\n",
       "      <td>2001</td>\n",
       "    </tr>\n",
       "    <tr>\n",
       "      <td>1</td>\n",
       "      <td>7.250000</td>\n",
       "      <td>4</td>\n",
       "      <td>7.375567</td>\n",
       "      <td>0002116286</td>\n",
       "      <td>There's A Seal in my Sleeping Bag</td>\n",
       "      <td>1992</td>\n",
       "    </tr>\n",
       "    <tr>\n",
       "      <td>2</td>\n",
       "      <td>7.333333</td>\n",
       "      <td>3</td>\n",
       "      <td>7.450680</td>\n",
       "      <td>0002239183</td>\n",
       "      <td>Affliction</td>\n",
       "      <td>0</td>\n",
       "    </tr>\n",
       "    <tr>\n",
       "      <td>3</td>\n",
       "      <td>6.750000</td>\n",
       "      <td>4</td>\n",
       "      <td>7.042234</td>\n",
       "      <td>0002240114</td>\n",
       "      <td>The Dixon Cornbelt League and other baseball s...</td>\n",
       "      <td>1993</td>\n",
       "    </tr>\n",
       "    <tr>\n",
       "      <td>4</td>\n",
       "      <td>5.750000</td>\n",
       "      <td>4</td>\n",
       "      <td>6.375567</td>\n",
       "      <td>0002243962</td>\n",
       "      <td>Girlfriend In a Coma</td>\n",
       "      <td>0</td>\n",
       "    </tr>\n",
       "  </tbody>\n",
       "</table>\n",
       "</div>"
      ],
      "text/plain": [
       "       mean  count  Score IMDB        ISBN  \\\n",
       "0  7.666667      9    7.659400  0002005018   \n",
       "1  7.250000      4    7.375567  0002116286   \n",
       "2  7.333333      3    7.450680  0002239183   \n",
       "3  6.750000      4    7.042234  0002240114   \n",
       "4  5.750000      4    6.375567  0002243962   \n",
       "\n",
       "                                          Book-Title Year-Of-Publication  \n",
       "0                                       Clara Callan                2001  \n",
       "1                  There's A Seal in my Sleeping Bag                1992  \n",
       "2                                         Affliction                   0  \n",
       "3  The Dixon Cornbelt League and other baseball s...                1993  \n",
       "4                               Girlfriend In a Coma                   0  "
      ]
     },
     "execution_count": 30,
     "metadata": {},
     "output_type": "execute_result"
    }
   ],
   "source": [
    "#Petite bidouille pour la jointure\n",
    "book_score[\"ISBN\"] = book_score.index\n",
    "book_score.index.name = None\n",
    "#On garde uniquement les champs qui nous intéressent\n",
    "df_books_util = df_books.drop(['Book-Author', 'Publisher', 'Image-URL-S', 'Image-URL-M', 'Image-URL-L'],axis=1)\n",
    "book_score = pd.merge(book_score,df_books_util,on='ISBN')\n",
    "book_score.head(5)"
   ]
  },
  {
   "cell_type": "code",
   "execution_count": 31,
   "metadata": {},
   "outputs": [],
   "source": [
    "# Gives the best books according to year based on weighted score which is calculated using IMDB formula\n",
    "def best_books_by_year(year,top_n):\n",
    "    return pd.DataFrame(book_score.loc[(book_score[\"Year-Of-Publication\"]==year)].sort_values(['Score IMDB'],ascending=False)[['Book-Title','count','mean','Score IMDB']][:top_n])"
   ]
  },
  {
   "cell_type": "code",
   "execution_count": 32,
   "metadata": {},
   "outputs": [
    {
     "data": {
      "text/html": [
       "<div>\n",
       "<style scoped>\n",
       "    .dataframe tbody tr th:only-of-type {\n",
       "        vertical-align: middle;\n",
       "    }\n",
       "\n",
       "    .dataframe tbody tr th {\n",
       "        vertical-align: top;\n",
       "    }\n",
       "\n",
       "    .dataframe thead th {\n",
       "        text-align: right;\n",
       "    }\n",
       "</style>\n",
       "<table border=\"1\" class=\"dataframe\">\n",
       "  <thead>\n",
       "    <tr style=\"text-align: right;\">\n",
       "      <th></th>\n",
       "      <th>Book-Title</th>\n",
       "      <th>count</th>\n",
       "      <th>mean</th>\n",
       "      <th>Score IMDB</th>\n",
       "    </tr>\n",
       "  </thead>\n",
       "  <tbody>\n",
       "    <tr>\n",
       "      <td>8746</td>\n",
       "      <td>The Annotated Alice: The Definitive Edition</td>\n",
       "      <td>4</td>\n",
       "      <td>10.000000</td>\n",
       "      <td>9.20890</td>\n",
       "    </tr>\n",
       "    <tr>\n",
       "      <td>25010</td>\n",
       "      <td>Buffy the Vampire Slayer: Remaining Sunlight</td>\n",
       "      <td>3</td>\n",
       "      <td>9.333333</td>\n",
       "      <td>8.65068</td>\n",
       "    </tr>\n",
       "    <tr>\n",
       "      <td>25842</td>\n",
       "      <td>Farmhouse Christmas</td>\n",
       "      <td>3</td>\n",
       "      <td>9.000000</td>\n",
       "      <td>8.45068</td>\n",
       "    </tr>\n",
       "    <tr>\n",
       "      <td>27259</td>\n",
       "      <td>Die 13 1/2 Leben des KÃ¤pt'n BlaubÃ¤r: Die hal...</td>\n",
       "      <td>3</td>\n",
       "      <td>8.666667</td>\n",
       "      <td>8.25068</td>\n",
       "    </tr>\n",
       "    <tr>\n",
       "      <td>20096</td>\n",
       "      <td>Mutts Sundays</td>\n",
       "      <td>3</td>\n",
       "      <td>8.666667</td>\n",
       "      <td>8.25068</td>\n",
       "    </tr>\n",
       "    <tr>\n",
       "      <td>23253</td>\n",
       "      <td>Working from Home: Everything You Need to Know...</td>\n",
       "      <td>3</td>\n",
       "      <td>8.666667</td>\n",
       "      <td>8.25068</td>\n",
       "    </tr>\n",
       "    <tr>\n",
       "      <td>18831</td>\n",
       "      <td>Running to the Mountain: A Journey of Faith an...</td>\n",
       "      <td>3</td>\n",
       "      <td>8.666667</td>\n",
       "      <td>8.25068</td>\n",
       "    </tr>\n",
       "    <tr>\n",
       "      <td>9978</td>\n",
       "      <td>Lindbergh</td>\n",
       "      <td>3</td>\n",
       "      <td>8.333333</td>\n",
       "      <td>8.05068</td>\n",
       "    </tr>\n",
       "    <tr>\n",
       "      <td>8098</td>\n",
       "      <td>A Woman Like That: Lesbian and Bisexual Writer...</td>\n",
       "      <td>3</td>\n",
       "      <td>8.000000</td>\n",
       "      <td>7.85068</td>\n",
       "    </tr>\n",
       "    <tr>\n",
       "      <td>23436</td>\n",
       "      <td>Always Believe in Yourself and Your Dreams: A ...</td>\n",
       "      <td>3</td>\n",
       "      <td>8.000000</td>\n",
       "      <td>7.85068</td>\n",
       "    </tr>\n",
       "  </tbody>\n",
       "</table>\n",
       "</div>"
      ],
      "text/plain": [
       "                                              Book-Title  count       mean  \\\n",
       "8746         The Annotated Alice: The Definitive Edition      4  10.000000   \n",
       "25010       Buffy the Vampire Slayer: Remaining Sunlight      3   9.333333   \n",
       "25842                                Farmhouse Christmas      3   9.000000   \n",
       "27259  Die 13 1/2 Leben des KÃ¤pt'n BlaubÃ¤r: Die hal...      3   8.666667   \n",
       "20096                                      Mutts Sundays      3   8.666667   \n",
       "23253  Working from Home: Everything You Need to Know...      3   8.666667   \n",
       "18831  Running to the Mountain: A Journey of Faith an...      3   8.666667   \n",
       "9978                                           Lindbergh      3   8.333333   \n",
       "8098   A Woman Like That: Lesbian and Bisexual Writer...      3   8.000000   \n",
       "23436  Always Believe in Yourself and Your Dreams: A ...      3   8.000000   \n",
       "\n",
       "       Score IMDB  \n",
       "8746      9.20890  \n",
       "25010     8.65068  \n",
       "25842     8.45068  \n",
       "27259     8.25068  \n",
       "20096     8.25068  \n",
       "23253     8.25068  \n",
       "18831     8.25068  \n",
       "9978      8.05068  \n",
       "8098      7.85068  \n",
       "23436     7.85068  "
      ]
     },
     "execution_count": 32,
     "metadata": {},
     "output_type": "execute_result"
    }
   ],
   "source": [
    "best_books_by_year(\"1999\",10)"
   ]
  },
  {
   "cell_type": "markdown",
   "metadata": {},
   "source": [
    "Dans le cas présent, il aurait été plus intéressant d'avoir les genres du livre mais nous n'avons pas beaucoup d'informations dans la description des livres. Le filtre a été établi sur la date de publication l'ouvrage qui n'est pas spécialement un élément pertinent dans un système de recommandation."
   ]
  },
  {
   "cell_type": "markdown",
   "metadata": {},
   "source": [
    "## Recommandations basées sur la similarité entre les livres"
   ]
  },
  {
   "cell_type": "markdown",
   "metadata": {},
   "source": [
    "On utilise uniquement le rating et la matrice entre les utilisateurs et les livres pour mesurer une similarité entre les livres basées sur l'algorithme des K plus proches voisins et d'une métrique Cosinus."
   ]
  },
  {
   "cell_type": "code",
   "execution_count": 33,
   "metadata": {},
   "outputs": [
    {
     "name": "stdout",
     "output_type": "stream",
     "text": [
      "Nombre de livres ayant plus de 15 ratings : 3151\n"
     ]
    }
   ],
   "source": [
    "#only include books with more than 15 ratings\n",
    "books_plus_15_ratings = avg_book_rating.loc[avg_book_rating['count']>=15]\n",
    "print(\"Nombre de livres ayant plus de 15 ratings :\", len(books_plus_15_ratings))"
   ]
  },
  {
   "cell_type": "code",
   "execution_count": 34,
   "metadata": {},
   "outputs": [
    {
     "data": {
      "text/html": [
       "<div>\n",
       "<style scoped>\n",
       "    .dataframe tbody tr th:only-of-type {\n",
       "        vertical-align: middle;\n",
       "    }\n",
       "\n",
       "    .dataframe tbody tr th {\n",
       "        vertical-align: top;\n",
       "    }\n",
       "\n",
       "    .dataframe thead th {\n",
       "        text-align: right;\n",
       "    }\n",
       "</style>\n",
       "<table border=\"1\" class=\"dataframe\">\n",
       "  <thead>\n",
       "    <tr style=\"text-align: right;\">\n",
       "      <th></th>\n",
       "      <th>mean</th>\n",
       "      <th>count</th>\n",
       "    </tr>\n",
       "    <tr>\n",
       "      <th>ISBN</th>\n",
       "      <th></th>\n",
       "      <th></th>\n",
       "    </tr>\n",
       "  </thead>\n",
       "  <tbody>\n",
       "    <tr>\n",
       "      <td>000649840X</td>\n",
       "      <td>7.756098</td>\n",
       "      <td>41</td>\n",
       "    </tr>\n",
       "    <tr>\n",
       "      <td>0006547834</td>\n",
       "      <td>8.066667</td>\n",
       "      <td>15</td>\n",
       "    </tr>\n",
       "    <tr>\n",
       "      <td>0006550576</td>\n",
       "      <td>7.266667</td>\n",
       "      <td>15</td>\n",
       "    </tr>\n",
       "    <tr>\n",
       "      <td>0007110928</td>\n",
       "      <td>7.703704</td>\n",
       "      <td>27</td>\n",
       "    </tr>\n",
       "    <tr>\n",
       "      <td>0020198817</td>\n",
       "      <td>7.933333</td>\n",
       "      <td>15</td>\n",
       "    </tr>\n",
       "  </tbody>\n",
       "</table>\n",
       "</div>"
      ],
      "text/plain": [
       "                mean  count\n",
       "ISBN                       \n",
       "000649840X  7.756098     41\n",
       "0006547834  8.066667     15\n",
       "0006550576  7.266667     15\n",
       "0007110928  7.703704     27\n",
       "0020198817  7.933333     15"
      ]
     },
     "execution_count": 34,
     "metadata": {},
     "output_type": "execute_result"
    }
   ],
   "source": [
    "books_plus_15_ratings.head(5)"
   ]
  },
  {
   "cell_type": "code",
   "execution_count": 35,
   "metadata": {},
   "outputs": [
    {
     "name": "stderr",
     "output_type": "stream",
     "text": [
      "C:\\Users\\bigdata\\Anaconda3\\lib\\site-packages\\ipykernel_launcher.py:1: SettingWithCopyWarning: \n",
      "A value is trying to be set on a copy of a slice from a DataFrame.\n",
      "Try using .loc[row_indexer,col_indexer] = value instead\n",
      "\n",
      "See the caveats in the documentation: http://pandas.pydata.org/pandas-docs/stable/user_guide/indexing.html#returning-a-view-versus-a-copy\n",
      "  \"\"\"Entry point for launching an IPython kernel.\n"
     ]
    },
    {
     "name": "stdout",
     "output_type": "stream",
     "text": [
      "Nombre d'enregistrements avec uniquement les livres ayant plus de 15 commentaires : 112631\n"
     ]
    }
   ],
   "source": [
    "books_plus_15_ratings[\"ISBN\"] = books_plus_15_ratings.index\n",
    "books_plus_15_ratings.index.name=None\n",
    "filtered_ratings = pd.merge(books_plus_15_ratings, df, on=\"ISBN\")\n",
    "print(\"Nombre d'enregistrements avec uniquement les livres ayant plus de 15 commentaires :\", len(filtered_ratings))"
   ]
  },
  {
   "cell_type": "code",
   "execution_count": 36,
   "metadata": {},
   "outputs": [
    {
     "data": {
      "text/html": [
       "<div>\n",
       "<style scoped>\n",
       "    .dataframe tbody tr th:only-of-type {\n",
       "        vertical-align: middle;\n",
       "    }\n",
       "\n",
       "    .dataframe tbody tr th {\n",
       "        vertical-align: top;\n",
       "    }\n",
       "\n",
       "    .dataframe thead th {\n",
       "        text-align: right;\n",
       "    }\n",
       "</style>\n",
       "<table border=\"1\" class=\"dataframe\">\n",
       "  <thead>\n",
       "    <tr style=\"text-align: right;\">\n",
       "      <th></th>\n",
       "      <th>mean</th>\n",
       "      <th>count</th>\n",
       "      <th>ISBN</th>\n",
       "      <th>User-ID</th>\n",
       "      <th>Book-Rating</th>\n",
       "      <th>Location</th>\n",
       "      <th>Age</th>\n",
       "      <th>Book-Title</th>\n",
       "      <th>Book-Author</th>\n",
       "      <th>Year-Of-Publication</th>\n",
       "      <th>Publisher</th>\n",
       "      <th>Image-URL-S</th>\n",
       "      <th>Image-URL-M</th>\n",
       "      <th>Image-URL-L</th>\n",
       "    </tr>\n",
       "  </thead>\n",
       "  <tbody>\n",
       "    <tr>\n",
       "      <td>0</td>\n",
       "      <td>7.756098</td>\n",
       "      <td>41</td>\n",
       "      <td>000649840X</td>\n",
       "      <td>901</td>\n",
       "      <td>9</td>\n",
       "      <td>worcester, worcestershire, united kingdom</td>\n",
       "      <td>21.0</td>\n",
       "      <td>Angelas Ashes</td>\n",
       "      <td>Frank Mccourt</td>\n",
       "      <td>0</td>\n",
       "      <td>Harpercollins Uk</td>\n",
       "      <td>http://images.amazon.com/images/P/000649840X.0...</td>\n",
       "      <td>http://images.amazon.com/images/P/000649840X.0...</td>\n",
       "      <td>http://images.amazon.com/images/P/000649840X.0...</td>\n",
       "    </tr>\n",
       "    <tr>\n",
       "      <td>1</td>\n",
       "      <td>7.756098</td>\n",
       "      <td>41</td>\n",
       "      <td>000649840X</td>\n",
       "      <td>11676</td>\n",
       "      <td>8</td>\n",
       "      <td>n/a, n/a, n/a</td>\n",
       "      <td>NaN</td>\n",
       "      <td>Angelas Ashes</td>\n",
       "      <td>Frank Mccourt</td>\n",
       "      <td>0</td>\n",
       "      <td>Harpercollins Uk</td>\n",
       "      <td>http://images.amazon.com/images/P/000649840X.0...</td>\n",
       "      <td>http://images.amazon.com/images/P/000649840X.0...</td>\n",
       "      <td>http://images.amazon.com/images/P/000649840X.0...</td>\n",
       "    </tr>\n",
       "    <tr>\n",
       "      <td>2</td>\n",
       "      <td>7.756098</td>\n",
       "      <td>41</td>\n",
       "      <td>000649840X</td>\n",
       "      <td>16383</td>\n",
       "      <td>10</td>\n",
       "      <td>sheffield, england, united kingdom</td>\n",
       "      <td>24.0</td>\n",
       "      <td>Angelas Ashes</td>\n",
       "      <td>Frank Mccourt</td>\n",
       "      <td>0</td>\n",
       "      <td>Harpercollins Uk</td>\n",
       "      <td>http://images.amazon.com/images/P/000649840X.0...</td>\n",
       "      <td>http://images.amazon.com/images/P/000649840X.0...</td>\n",
       "      <td>http://images.amazon.com/images/P/000649840X.0...</td>\n",
       "    </tr>\n",
       "    <tr>\n",
       "      <td>3</td>\n",
       "      <td>7.756098</td>\n",
       "      <td>41</td>\n",
       "      <td>000649840X</td>\n",
       "      <td>24922</td>\n",
       "      <td>9</td>\n",
       "      <td>wolverhampton, england, united kingdom</td>\n",
       "      <td>45.0</td>\n",
       "      <td>Angelas Ashes</td>\n",
       "      <td>Frank Mccourt</td>\n",
       "      <td>0</td>\n",
       "      <td>Harpercollins Uk</td>\n",
       "      <td>http://images.amazon.com/images/P/000649840X.0...</td>\n",
       "      <td>http://images.amazon.com/images/P/000649840X.0...</td>\n",
       "      <td>http://images.amazon.com/images/P/000649840X.0...</td>\n",
       "    </tr>\n",
       "    <tr>\n",
       "      <td>4</td>\n",
       "      <td>7.756098</td>\n",
       "      <td>41</td>\n",
       "      <td>000649840X</td>\n",
       "      <td>32440</td>\n",
       "      <td>8</td>\n",
       "      <td>dunedin, otago, new zealand</td>\n",
       "      <td>NaN</td>\n",
       "      <td>Angelas Ashes</td>\n",
       "      <td>Frank Mccourt</td>\n",
       "      <td>0</td>\n",
       "      <td>Harpercollins Uk</td>\n",
       "      <td>http://images.amazon.com/images/P/000649840X.0...</td>\n",
       "      <td>http://images.amazon.com/images/P/000649840X.0...</td>\n",
       "      <td>http://images.amazon.com/images/P/000649840X.0...</td>\n",
       "    </tr>\n",
       "  </tbody>\n",
       "</table>\n",
       "</div>"
      ],
      "text/plain": [
       "       mean  count        ISBN  User-ID  Book-Rating  \\\n",
       "0  7.756098     41  000649840X      901            9   \n",
       "1  7.756098     41  000649840X    11676            8   \n",
       "2  7.756098     41  000649840X    16383           10   \n",
       "3  7.756098     41  000649840X    24922            9   \n",
       "4  7.756098     41  000649840X    32440            8   \n",
       "\n",
       "                                    Location   Age     Book-Title  \\\n",
       "0  worcester, worcestershire, united kingdom  21.0  Angelas Ashes   \n",
       "1                              n/a, n/a, n/a   NaN  Angelas Ashes   \n",
       "2         sheffield, england, united kingdom  24.0  Angelas Ashes   \n",
       "3     wolverhampton, england, united kingdom  45.0  Angelas Ashes   \n",
       "4                dunedin, otago, new zealand   NaN  Angelas Ashes   \n",
       "\n",
       "     Book-Author Year-Of-Publication         Publisher  \\\n",
       "0  Frank Mccourt                   0  Harpercollins Uk   \n",
       "1  Frank Mccourt                   0  Harpercollins Uk   \n",
       "2  Frank Mccourt                   0  Harpercollins Uk   \n",
       "3  Frank Mccourt                   0  Harpercollins Uk   \n",
       "4  Frank Mccourt                   0  Harpercollins Uk   \n",
       "\n",
       "                                         Image-URL-S  \\\n",
       "0  http://images.amazon.com/images/P/000649840X.0...   \n",
       "1  http://images.amazon.com/images/P/000649840X.0...   \n",
       "2  http://images.amazon.com/images/P/000649840X.0...   \n",
       "3  http://images.amazon.com/images/P/000649840X.0...   \n",
       "4  http://images.amazon.com/images/P/000649840X.0...   \n",
       "\n",
       "                                         Image-URL-M  \\\n",
       "0  http://images.amazon.com/images/P/000649840X.0...   \n",
       "1  http://images.amazon.com/images/P/000649840X.0...   \n",
       "2  http://images.amazon.com/images/P/000649840X.0...   \n",
       "3  http://images.amazon.com/images/P/000649840X.0...   \n",
       "4  http://images.amazon.com/images/P/000649840X.0...   \n",
       "\n",
       "                                         Image-URL-L  \n",
       "0  http://images.amazon.com/images/P/000649840X.0...  \n",
       "1  http://images.amazon.com/images/P/000649840X.0...  \n",
       "2  http://images.amazon.com/images/P/000649840X.0...  \n",
       "3  http://images.amazon.com/images/P/000649840X.0...  \n",
       "4  http://images.amazon.com/images/P/000649840X.0...  "
      ]
     },
     "execution_count": 36,
     "metadata": {},
     "output_type": "execute_result"
    }
   ],
   "source": [
    "filtered_ratings.head()"
   ]
  },
  {
   "cell_type": "code",
   "execution_count": 37,
   "metadata": {},
   "outputs": [
    {
     "name": "stdout",
     "output_type": "stream",
     "text": [
      "# Users : 34573\n"
     ]
    }
   ],
   "source": [
    "print(\"# Users :\", len(filtered_ratings[\"User-ID\"].unique()))"
   ]
  },
  {
   "cell_type": "code",
   "execution_count": 38,
   "metadata": {},
   "outputs": [
    {
     "name": "stdout",
     "output_type": "stream",
     "text": [
      "# Books : 3151\n"
     ]
    }
   ],
   "source": [
    "print(\"# Books :\", len(filtered_ratings[\"ISBN\"].unique()))"
   ]
  },
  {
   "cell_type": "code",
   "execution_count": 39,
   "metadata": {},
   "outputs": [
    {
     "data": {
      "text/html": [
       "<div>\n",
       "<style scoped>\n",
       "    .dataframe tbody tr th:only-of-type {\n",
       "        vertical-align: middle;\n",
       "    }\n",
       "\n",
       "    .dataframe tbody tr th {\n",
       "        vertical-align: top;\n",
       "    }\n",
       "\n",
       "    .dataframe thead th {\n",
       "        text-align: right;\n",
       "    }\n",
       "</style>\n",
       "<table border=\"1\" class=\"dataframe\">\n",
       "  <thead>\n",
       "    <tr style=\"text-align: right;\">\n",
       "      <th>User-ID</th>\n",
       "      <th>9</th>\n",
       "      <th>16</th>\n",
       "      <th>17</th>\n",
       "      <th>26</th>\n",
       "      <th>32</th>\n",
       "      <th>39</th>\n",
       "      <th>42</th>\n",
       "      <th>44</th>\n",
       "      <th>51</th>\n",
       "      <th>56</th>\n",
       "      <th>...</th>\n",
       "      <th>278800</th>\n",
       "      <th>278807</th>\n",
       "      <th>278828</th>\n",
       "      <th>278832</th>\n",
       "      <th>278836</th>\n",
       "      <th>278843</th>\n",
       "      <th>278844</th>\n",
       "      <th>278846</th>\n",
       "      <th>278851</th>\n",
       "      <th>278854</th>\n",
       "    </tr>\n",
       "    <tr>\n",
       "      <th>ISBN</th>\n",
       "      <th></th>\n",
       "      <th></th>\n",
       "      <th></th>\n",
       "      <th></th>\n",
       "      <th></th>\n",
       "      <th></th>\n",
       "      <th></th>\n",
       "      <th></th>\n",
       "      <th></th>\n",
       "      <th></th>\n",
       "      <th></th>\n",
       "      <th></th>\n",
       "      <th></th>\n",
       "      <th></th>\n",
       "      <th></th>\n",
       "      <th></th>\n",
       "      <th></th>\n",
       "      <th></th>\n",
       "      <th></th>\n",
       "      <th></th>\n",
       "      <th></th>\n",
       "    </tr>\n",
       "  </thead>\n",
       "  <tbody>\n",
       "    <tr>\n",
       "      <td>000649840X</td>\n",
       "      <td>0.0</td>\n",
       "      <td>0.0</td>\n",
       "      <td>0.0</td>\n",
       "      <td>0.0</td>\n",
       "      <td>0.0</td>\n",
       "      <td>0.0</td>\n",
       "      <td>0.0</td>\n",
       "      <td>0.0</td>\n",
       "      <td>0.0</td>\n",
       "      <td>0.0</td>\n",
       "      <td>...</td>\n",
       "      <td>0.0</td>\n",
       "      <td>0.0</td>\n",
       "      <td>0.0</td>\n",
       "      <td>0.0</td>\n",
       "      <td>0.0</td>\n",
       "      <td>0.0</td>\n",
       "      <td>0.0</td>\n",
       "      <td>0.0</td>\n",
       "      <td>0.0</td>\n",
       "      <td>0.0</td>\n",
       "    </tr>\n",
       "    <tr>\n",
       "      <td>0006547834</td>\n",
       "      <td>0.0</td>\n",
       "      <td>0.0</td>\n",
       "      <td>0.0</td>\n",
       "      <td>0.0</td>\n",
       "      <td>0.0</td>\n",
       "      <td>0.0</td>\n",
       "      <td>0.0</td>\n",
       "      <td>0.0</td>\n",
       "      <td>0.0</td>\n",
       "      <td>0.0</td>\n",
       "      <td>...</td>\n",
       "      <td>0.0</td>\n",
       "      <td>0.0</td>\n",
       "      <td>0.0</td>\n",
       "      <td>0.0</td>\n",
       "      <td>0.0</td>\n",
       "      <td>0.0</td>\n",
       "      <td>0.0</td>\n",
       "      <td>0.0</td>\n",
       "      <td>0.0</td>\n",
       "      <td>0.0</td>\n",
       "    </tr>\n",
       "    <tr>\n",
       "      <td>0006550576</td>\n",
       "      <td>0.0</td>\n",
       "      <td>0.0</td>\n",
       "      <td>0.0</td>\n",
       "      <td>0.0</td>\n",
       "      <td>0.0</td>\n",
       "      <td>0.0</td>\n",
       "      <td>0.0</td>\n",
       "      <td>0.0</td>\n",
       "      <td>0.0</td>\n",
       "      <td>0.0</td>\n",
       "      <td>...</td>\n",
       "      <td>0.0</td>\n",
       "      <td>0.0</td>\n",
       "      <td>0.0</td>\n",
       "      <td>0.0</td>\n",
       "      <td>0.0</td>\n",
       "      <td>0.0</td>\n",
       "      <td>0.0</td>\n",
       "      <td>0.0</td>\n",
       "      <td>0.0</td>\n",
       "      <td>0.0</td>\n",
       "    </tr>\n",
       "    <tr>\n",
       "      <td>0007110928</td>\n",
       "      <td>0.0</td>\n",
       "      <td>0.0</td>\n",
       "      <td>0.0</td>\n",
       "      <td>0.0</td>\n",
       "      <td>0.0</td>\n",
       "      <td>0.0</td>\n",
       "      <td>0.0</td>\n",
       "      <td>0.0</td>\n",
       "      <td>0.0</td>\n",
       "      <td>0.0</td>\n",
       "      <td>...</td>\n",
       "      <td>0.0</td>\n",
       "      <td>0.0</td>\n",
       "      <td>0.0</td>\n",
       "      <td>0.0</td>\n",
       "      <td>0.0</td>\n",
       "      <td>0.0</td>\n",
       "      <td>0.0</td>\n",
       "      <td>0.0</td>\n",
       "      <td>0.0</td>\n",
       "      <td>0.0</td>\n",
       "    </tr>\n",
       "    <tr>\n",
       "      <td>0020198817</td>\n",
       "      <td>0.0</td>\n",
       "      <td>0.0</td>\n",
       "      <td>0.0</td>\n",
       "      <td>0.0</td>\n",
       "      <td>0.0</td>\n",
       "      <td>0.0</td>\n",
       "      <td>0.0</td>\n",
       "      <td>0.0</td>\n",
       "      <td>0.0</td>\n",
       "      <td>0.0</td>\n",
       "      <td>...</td>\n",
       "      <td>0.0</td>\n",
       "      <td>0.0</td>\n",
       "      <td>0.0</td>\n",
       "      <td>0.0</td>\n",
       "      <td>0.0</td>\n",
       "      <td>0.0</td>\n",
       "      <td>0.0</td>\n",
       "      <td>0.0</td>\n",
       "      <td>0.0</td>\n",
       "      <td>0.0</td>\n",
       "    </tr>\n",
       "  </tbody>\n",
       "</table>\n",
       "<p>5 rows × 34573 columns</p>\n",
       "</div>"
      ],
      "text/plain": [
       "User-ID     9       16      17      26      32      39      42      44      \\\n",
       "ISBN                                                                         \n",
       "000649840X     0.0     0.0     0.0     0.0     0.0     0.0     0.0     0.0   \n",
       "0006547834     0.0     0.0     0.0     0.0     0.0     0.0     0.0     0.0   \n",
       "0006550576     0.0     0.0     0.0     0.0     0.0     0.0     0.0     0.0   \n",
       "0007110928     0.0     0.0     0.0     0.0     0.0     0.0     0.0     0.0   \n",
       "0020198817     0.0     0.0     0.0     0.0     0.0     0.0     0.0     0.0   \n",
       "\n",
       "User-ID     51      56      ...  278800  278807  278828  278832  278836  \\\n",
       "ISBN                        ...                                           \n",
       "000649840X     0.0     0.0  ...     0.0     0.0     0.0     0.0     0.0   \n",
       "0006547834     0.0     0.0  ...     0.0     0.0     0.0     0.0     0.0   \n",
       "0006550576     0.0     0.0  ...     0.0     0.0     0.0     0.0     0.0   \n",
       "0007110928     0.0     0.0  ...     0.0     0.0     0.0     0.0     0.0   \n",
       "0020198817     0.0     0.0  ...     0.0     0.0     0.0     0.0     0.0   \n",
       "\n",
       "User-ID     278843  278844  278846  278851  278854  \n",
       "ISBN                                                \n",
       "000649840X     0.0     0.0     0.0     0.0     0.0  \n",
       "0006547834     0.0     0.0     0.0     0.0     0.0  \n",
       "0006550576     0.0     0.0     0.0     0.0     0.0  \n",
       "0007110928     0.0     0.0     0.0     0.0     0.0  \n",
       "0020198817     0.0     0.0     0.0     0.0     0.0  \n",
       "\n",
       "[5 rows x 34573 columns]"
      ]
     },
     "execution_count": 39,
     "metadata": {},
     "output_type": "execute_result"
    }
   ],
   "source": [
    "#create a matrix table with ISBN on the rows and User-ID in the columns.\n",
    "#replace NAN values with 0\n",
    "matrix_books_user = filtered_ratings.pivot(index = 'ISBN', columns = 'User-ID', values = 'Book-Rating').fillna(0)\n",
    "matrix_books_user.head()"
   ]
  },
  {
   "cell_type": "markdown",
   "metadata": {},
   "source": [
    "On va utiliser les K plus proches voisins avec la similarité cosinus comme mesure de ressemblance entre deux livres."
   ]
  },
  {
   "cell_type": "code",
   "execution_count": 40,
   "metadata": {},
   "outputs": [
    {
     "data": {
      "text/plain": [
       "NearestNeighbors(algorithm='brute', leaf_size=30, metric='cosine',\n",
       "                 metric_params=None, n_jobs=None, n_neighbors=5, p=2,\n",
       "                 radius=1.0)"
      ]
     },
     "execution_count": 40,
     "metadata": {},
     "output_type": "execute_result"
    }
   ],
   "source": [
    "from sklearn.neighbors import NearestNeighbors\n",
    "#specify model parameters\n",
    "model_knn = NearestNeighbors(metric='cosine',algorithm='brute')\n",
    "#fit model to the data set\n",
    "model_knn.fit(matrix_books_user)"
   ]
  },
  {
   "cell_type": "code",
   "execution_count": 41,
   "metadata": {},
   "outputs": [],
   "source": [
    "#Gets the top 10 nearest neighbours got the book\n",
    "def print_similar_books(query_index) :\n",
    "    #get the list of user ratings for a specific userId\n",
    "    query_index_books_ratings = matrix_books_user.loc[query_index,:].values.reshape(1,-1)\n",
    "    #get the closest 10 books and their distances from the book specified\n",
    "    distances,indices = model_knn.kneighbors(query_index_books_ratings,n_neighbors = 11) \n",
    "    #write a lopp that prints the similar books for a specified book.\n",
    "    for i in range(0,len(distances.flatten())):\n",
    "        #get the title of the random book that was chosen\n",
    "        get_book = df_books.loc[df_books['ISBN']==query_index]['Book-Title']\n",
    "        #for the first movie in the list i.e closest print the title\n",
    "        if i==0:\n",
    "            print('Recommendations for {0}:\\n'.format(get_book))\n",
    "        else :\n",
    "            #get the indiciees for the closest movies\n",
    "            indices_flat = indices.flatten()[i]\n",
    "            #get the title of the movie\n",
    "            get_book = df_books.loc[df_books['ISBN']==matrix_books_user.iloc[indices_flat,:].name]['Book-Title']\n",
    "            #print the movie\n",
    "            print('{0}: {1}, with distance of {2}:'.format(i,get_book,distances.flatten()[i]))"
   ]
  },
  {
   "cell_type": "markdown",
   "metadata": {},
   "source": [
    "On va chercher les livres similaires par rapport au livre le plus noté dans le dataset qui correspond au numéro ISBN 0316666343"
   ]
  },
  {
   "cell_type": "code",
   "execution_count": 42,
   "metadata": {},
   "outputs": [
    {
     "name": "stdout",
     "output_type": "stream",
     "text": [
      "Recommendations for 408    The Lovely Bones: A Novel\n",
      "Name: Book-Title, dtype: object:\n",
      "\n",
      "1: 3939    Lucky : A Memoir\n",
      "Name: Book-Title, dtype: object, with distance of 0.8907765344442606:\n",
      "2: 706    Where the Heart Is (Oprah's Book Club (Paperba...\n",
      "Name: Book-Title, dtype: object, with distance of 0.9095981950904724:\n",
      "3: 748    The Da Vinci Code\n",
      "Name: Book-Title, dtype: object, with distance of 0.9170468045457768:\n",
      "4: 3511    Lucky\n",
      "Name: Book-Title, dtype: object, with distance of 0.9185733092426993:\n",
      "5: 776    Nights in Rodanthe\n",
      "Name: Book-Title, dtype: object, with distance of 0.922072755930089:\n",
      "6: 1496    Good in Bed\n",
      "Name: Book-Title, dtype: object, with distance of 0.9227391845889488:\n",
      "7: 12920    The Pact: A Love Story\n",
      "Name: Book-Title, dtype: object, with distance of 0.9244091289737372:\n",
      "8: 6038    The Lake House\n",
      "Name: Book-Title, dtype: object, with distance of 0.9253117176778205:\n",
      "9: 2536    The Book of Ruth (Oprah's Book Club (Paperback))\n",
      "Name: Book-Title, dtype: object, with distance of 0.9286916905396203:\n",
      "10: 4824    The Pilot's Wife : A Novel\n",
      "Name: Book-Title, dtype: object, with distance of 0.9323735033791939:\n"
     ]
    }
   ],
   "source": [
    "print_similar_books(\"0316666343\")"
   ]
  },
  {
   "cell_type": "markdown",
   "metadata": {},
   "source": [
    "A noter que cette méthode n'a pas pu être mise en oeuvre sur le dataset df liée à l'impossibilité de construire la matrice books_user. La réduction en prenant uniquement des livres notés a minima 15 fois a permis de réduire la dimension du nombre d'utilisateurs et de livres permettant son initialisation."
   ]
  },
  {
   "cell_type": "markdown",
   "metadata": {},
   "source": [
    "## Recommandations collababoratives basées sur la factorisation de matrices"
   ]
  },
  {
   "cell_type": "markdown",
   "metadata": {},
   "source": [
    "Un système de recommadation populaire est basé sur la factorisation de matrice. Elle est basée sur le principe de représentation dans une moindre dimension des livres et des utilisateurs (embedding). Etant donné une matrice (A [M X N]) avec M le nombre d'utilisateurs et N le nombre de livres, nous souhaitons estimer en moindre dimension (W [M X k] et H [M X k]), tel que: A≈W.H<sup>T</sub>"
   ]
  },
  {
   "cell_type": "markdown",
   "metadata": {},
   "source": [
    "### SVD et sparsité de la matrice"
   ]
  },
  {
   "cell_type": "markdown",
   "metadata": {},
   "source": [
    "Pour des problèmes de mémoire, on va aussi travailler avec le dataset où les livres sont notés a minima 15 fois."
   ]
  },
  {
   "cell_type": "code",
   "execution_count": 43,
   "metadata": {},
   "outputs": [],
   "source": [
    "df_red = filtered_ratings.drop(['mean', 'count','Location', 'Age', 'Book-Title',\n",
    "       'Book-Author', 'Year-Of-Publication', 'Publisher', 'Image-URL-S',\n",
    "       'Image-URL-M', 'Image-URL-L'], axis=1)"
   ]
  },
  {
   "cell_type": "code",
   "execution_count": 44,
   "metadata": {},
   "outputs": [
    {
     "data": {
      "text/html": [
       "<div>\n",
       "<style scoped>\n",
       "    .dataframe tbody tr th:only-of-type {\n",
       "        vertical-align: middle;\n",
       "    }\n",
       "\n",
       "    .dataframe tbody tr th {\n",
       "        vertical-align: top;\n",
       "    }\n",
       "\n",
       "    .dataframe thead th {\n",
       "        text-align: right;\n",
       "    }\n",
       "</style>\n",
       "<table border=\"1\" class=\"dataframe\">\n",
       "  <thead>\n",
       "    <tr style=\"text-align: right;\">\n",
       "      <th></th>\n",
       "      <th>ISBN</th>\n",
       "      <th>User-ID</th>\n",
       "      <th>Book-Rating</th>\n",
       "    </tr>\n",
       "  </thead>\n",
       "  <tbody>\n",
       "    <tr>\n",
       "      <td>0</td>\n",
       "      <td>000649840X</td>\n",
       "      <td>901</td>\n",
       "      <td>9</td>\n",
       "    </tr>\n",
       "    <tr>\n",
       "      <td>1</td>\n",
       "      <td>000649840X</td>\n",
       "      <td>11676</td>\n",
       "      <td>8</td>\n",
       "    </tr>\n",
       "    <tr>\n",
       "      <td>2</td>\n",
       "      <td>000649840X</td>\n",
       "      <td>16383</td>\n",
       "      <td>10</td>\n",
       "    </tr>\n",
       "    <tr>\n",
       "      <td>3</td>\n",
       "      <td>000649840X</td>\n",
       "      <td>24922</td>\n",
       "      <td>9</td>\n",
       "    </tr>\n",
       "    <tr>\n",
       "      <td>4</td>\n",
       "      <td>000649840X</td>\n",
       "      <td>32440</td>\n",
       "      <td>8</td>\n",
       "    </tr>\n",
       "  </tbody>\n",
       "</table>\n",
       "</div>"
      ],
      "text/plain": [
       "         ISBN  User-ID  Book-Rating\n",
       "0  000649840X      901            9\n",
       "1  000649840X    11676            8\n",
       "2  000649840X    16383           10\n",
       "3  000649840X    24922            9\n",
       "4  000649840X    32440            8"
      ]
     },
     "execution_count": 44,
     "metadata": {},
     "output_type": "execute_result"
    }
   ],
   "source": [
    "df_red.head(5)"
   ]
  },
  {
   "cell_type": "markdown",
   "metadata": {},
   "source": [
    "On va créer des index en lieu et place des User-ID et ISBN"
   ]
  },
  {
   "cell_type": "code",
   "execution_count": 45,
   "metadata": {},
   "outputs": [
    {
     "data": {
      "text/html": [
       "<div>\n",
       "<style scoped>\n",
       "    .dataframe tbody tr th:only-of-type {\n",
       "        vertical-align: middle;\n",
       "    }\n",
       "\n",
       "    .dataframe tbody tr th {\n",
       "        vertical-align: top;\n",
       "    }\n",
       "\n",
       "    .dataframe thead th {\n",
       "        text-align: right;\n",
       "    }\n",
       "</style>\n",
       "<table border=\"1\" class=\"dataframe\">\n",
       "  <thead>\n",
       "    <tr style=\"text-align: right;\">\n",
       "      <th></th>\n",
       "      <th>User-ID</th>\n",
       "      <th>User_index</th>\n",
       "    </tr>\n",
       "  </thead>\n",
       "  <tbody>\n",
       "    <tr>\n",
       "      <td>0</td>\n",
       "      <td>9</td>\n",
       "      <td>0</td>\n",
       "    </tr>\n",
       "    <tr>\n",
       "      <td>1</td>\n",
       "      <td>16</td>\n",
       "      <td>1</td>\n",
       "    </tr>\n",
       "    <tr>\n",
       "      <td>2</td>\n",
       "      <td>17</td>\n",
       "      <td>2</td>\n",
       "    </tr>\n",
       "    <tr>\n",
       "      <td>3</td>\n",
       "      <td>26</td>\n",
       "      <td>3</td>\n",
       "    </tr>\n",
       "    <tr>\n",
       "      <td>4</td>\n",
       "      <td>32</td>\n",
       "      <td>4</td>\n",
       "    </tr>\n",
       "  </tbody>\n",
       "</table>\n",
       "</div>"
      ],
      "text/plain": [
       "   User-ID  User_index\n",
       "0        9           0\n",
       "1       16           1\n",
       "2       17           2\n",
       "3       26           3\n",
       "4       32           4"
      ]
     },
     "execution_count": 45,
     "metadata": {},
     "output_type": "execute_result"
    }
   ],
   "source": [
    "#get ordered list of userIds\n",
    "user_indices = pd.DataFrame(sorted(list(set(df_red['User-ID']))),columns=['User-ID'])\n",
    "#add in data frame index value to data frame\n",
    "user_indices['User_index']=user_indices.index\n",
    "#inspect data frame\n",
    "user_indices.head()"
   ]
  },
  {
   "cell_type": "code",
   "execution_count": 46,
   "metadata": {},
   "outputs": [
    {
     "data": {
      "text/html": [
       "<div>\n",
       "<style scoped>\n",
       "    .dataframe tbody tr th:only-of-type {\n",
       "        vertical-align: middle;\n",
       "    }\n",
       "\n",
       "    .dataframe tbody tr th {\n",
       "        vertical-align: top;\n",
       "    }\n",
       "\n",
       "    .dataframe thead th {\n",
       "        text-align: right;\n",
       "    }\n",
       "</style>\n",
       "<table border=\"1\" class=\"dataframe\">\n",
       "  <thead>\n",
       "    <tr style=\"text-align: right;\">\n",
       "      <th></th>\n",
       "      <th>ISBN</th>\n",
       "      <th>ISBN_index</th>\n",
       "    </tr>\n",
       "  </thead>\n",
       "  <tbody>\n",
       "    <tr>\n",
       "      <td>0</td>\n",
       "      <td>000649840X</td>\n",
       "      <td>0</td>\n",
       "    </tr>\n",
       "    <tr>\n",
       "      <td>1</td>\n",
       "      <td>0006547834</td>\n",
       "      <td>1</td>\n",
       "    </tr>\n",
       "    <tr>\n",
       "      <td>2</td>\n",
       "      <td>0006550576</td>\n",
       "      <td>2</td>\n",
       "    </tr>\n",
       "    <tr>\n",
       "      <td>3</td>\n",
       "      <td>0007110928</td>\n",
       "      <td>3</td>\n",
       "    </tr>\n",
       "    <tr>\n",
       "      <td>4</td>\n",
       "      <td>0020198817</td>\n",
       "      <td>4</td>\n",
       "    </tr>\n",
       "  </tbody>\n",
       "</table>\n",
       "</div>"
      ],
      "text/plain": [
       "         ISBN  ISBN_index\n",
       "0  000649840X           0\n",
       "1  0006547834           1\n",
       "2  0006550576           2\n",
       "3  0007110928           3\n",
       "4  0020198817           4"
      ]
     },
     "execution_count": 46,
     "metadata": {},
     "output_type": "execute_result"
    }
   ],
   "source": [
    "#get ordered list of ISBN\n",
    "isbn_indices = pd.DataFrame(sorted(list(set(df_red['ISBN']))),columns=['ISBN'])\n",
    "#add in data frame index value to data frame\n",
    "isbn_indices['ISBN_index']=isbn_indices.index\n",
    "#inspect data frame\n",
    "isbn_indices.head()"
   ]
  },
  {
   "cell_type": "code",
   "execution_count": 47,
   "metadata": {},
   "outputs": [
    {
     "data": {
      "text/html": [
       "<div>\n",
       "<style scoped>\n",
       "    .dataframe tbody tr th:only-of-type {\n",
       "        vertical-align: middle;\n",
       "    }\n",
       "\n",
       "    .dataframe tbody tr th {\n",
       "        vertical-align: top;\n",
       "    }\n",
       "\n",
       "    .dataframe thead th {\n",
       "        text-align: right;\n",
       "    }\n",
       "</style>\n",
       "<table border=\"1\" class=\"dataframe\">\n",
       "  <thead>\n",
       "    <tr style=\"text-align: right;\">\n",
       "      <th></th>\n",
       "      <th>ISBN</th>\n",
       "      <th>User-ID</th>\n",
       "      <th>Book-Rating</th>\n",
       "      <th>ISBN_index</th>\n",
       "      <th>User_index</th>\n",
       "    </tr>\n",
       "  </thead>\n",
       "  <tbody>\n",
       "    <tr>\n",
       "      <td>0</td>\n",
       "      <td>000649840X</td>\n",
       "      <td>901</td>\n",
       "      <td>9</td>\n",
       "      <td>0</td>\n",
       "      <td>108</td>\n",
       "    </tr>\n",
       "    <tr>\n",
       "      <td>1</td>\n",
       "      <td>0099771519</td>\n",
       "      <td>901</td>\n",
       "      <td>9</td>\n",
       "      <td>242</td>\n",
       "      <td>108</td>\n",
       "    </tr>\n",
       "    <tr>\n",
       "      <td>2</td>\n",
       "      <td>000649840X</td>\n",
       "      <td>11676</td>\n",
       "      <td>8</td>\n",
       "      <td>0</td>\n",
       "      <td>1362</td>\n",
       "    </tr>\n",
       "    <tr>\n",
       "      <td>3</td>\n",
       "      <td>0006547834</td>\n",
       "      <td>11676</td>\n",
       "      <td>5</td>\n",
       "      <td>1</td>\n",
       "      <td>1362</td>\n",
       "    </tr>\n",
       "    <tr>\n",
       "      <td>4</td>\n",
       "      <td>0007110928</td>\n",
       "      <td>11676</td>\n",
       "      <td>7</td>\n",
       "      <td>3</td>\n",
       "      <td>1362</td>\n",
       "    </tr>\n",
       "  </tbody>\n",
       "</table>\n",
       "</div>"
      ],
      "text/plain": [
       "         ISBN  User-ID  Book-Rating  ISBN_index  User_index\n",
       "0  000649840X      901            9           0         108\n",
       "1  0099771519      901            9         242         108\n",
       "2  000649840X    11676            8           0        1362\n",
       "3  0006547834    11676            5           1        1362\n",
       "4  0007110928    11676            7           3        1362"
      ]
     },
     "execution_count": 47,
     "metadata": {},
     "output_type": "execute_result"
    }
   ],
   "source": [
    "#join the ISBN indices\n",
    "df_with_index = pd.merge(df_red,isbn_indices,on='ISBN')\n",
    "#join the user indices\n",
    "df_with_index=pd.merge(df_with_index,user_indices,on='User-ID')\n",
    "#inspec the data frame\n",
    "df_with_index.head()"
   ]
  },
  {
   "cell_type": "markdown",
   "metadata": {},
   "source": [
    "Pour le modèle, on va séparer notre dataset avec 80% pour fitter le modèle et 20% pour tester"
   ]
  },
  {
   "cell_type": "code",
   "execution_count": 48,
   "metadata": {},
   "outputs": [
    {
     "name": "stdout",
     "output_type": "stream",
     "text": [
      "90104\n",
      "22527\n"
     ]
    }
   ],
   "source": [
    "#import train_test_split module\n",
    "from sklearn.model_selection import train_test_split\n",
    "#take 80% as the training set and 20% as the test set\n",
    "df_train, df_test= train_test_split(df_with_index,test_size=0.2)\n",
    "print(len(df_train))\n",
    "print(len(df_test))"
   ]
  },
  {
   "cell_type": "code",
   "execution_count": 49,
   "metadata": {},
   "outputs": [
    {
     "name": "stdout",
     "output_type": "stream",
     "text": [
      "# users : 34573\n",
      "# books : 3151\n"
     ]
    }
   ],
   "source": [
    "n_users = len(df_with_index[\"User-ID\"].unique())\n",
    "print(\"# users :\", n_users)\n",
    "n_books = len(df_with_index[\"ISBN\"].unique())\n",
    "print(\"# books :\", n_books)"
   ]
  },
  {
   "cell_type": "code",
   "execution_count": 50,
   "metadata": {},
   "outputs": [
    {
     "data": {
      "text/html": [
       "<div>\n",
       "<style scoped>\n",
       "    .dataframe tbody tr th:only-of-type {\n",
       "        vertical-align: middle;\n",
       "    }\n",
       "\n",
       "    .dataframe tbody tr th {\n",
       "        vertical-align: top;\n",
       "    }\n",
       "\n",
       "    .dataframe thead th {\n",
       "        text-align: right;\n",
       "    }\n",
       "</style>\n",
       "<table border=\"1\" class=\"dataframe\">\n",
       "  <thead>\n",
       "    <tr style=\"text-align: right;\">\n",
       "      <th></th>\n",
       "      <th>ISBN</th>\n",
       "      <th>User-ID</th>\n",
       "      <th>Book-Rating</th>\n",
       "      <th>ISBN_index</th>\n",
       "      <th>User_index</th>\n",
       "    </tr>\n",
       "  </thead>\n",
       "  <tbody>\n",
       "    <tr>\n",
       "      <td>4072</td>\n",
       "      <td>0452269571</td>\n",
       "      <td>202963</td>\n",
       "      <td>8</td>\n",
       "      <td>1856</td>\n",
       "      <td>25029</td>\n",
       "    </tr>\n",
       "    <tr>\n",
       "      <td>79117</td>\n",
       "      <td>0380792745</td>\n",
       "      <td>65183</td>\n",
       "      <td>8</td>\n",
       "      <td>897</td>\n",
       "      <td>8245</td>\n",
       "    </tr>\n",
       "    <tr>\n",
       "      <td>95367</td>\n",
       "      <td>0553572377</td>\n",
       "      <td>262271</td>\n",
       "      <td>10</td>\n",
       "      <td>2184</td>\n",
       "      <td>32575</td>\n",
       "    </tr>\n",
       "    <tr>\n",
       "      <td>58291</td>\n",
       "      <td>0142001740</td>\n",
       "      <td>136234</td>\n",
       "      <td>10</td>\n",
       "      <td>329</td>\n",
       "      <td>17031</td>\n",
       "    </tr>\n",
       "    <tr>\n",
       "      <td>55180</td>\n",
       "      <td>0446670251</td>\n",
       "      <td>64429</td>\n",
       "      <td>7</td>\n",
       "      <td>1649</td>\n",
       "      <td>8144</td>\n",
       "    </tr>\n",
       "  </tbody>\n",
       "</table>\n",
       "</div>"
      ],
      "text/plain": [
       "             ISBN  User-ID  Book-Rating  ISBN_index  User_index\n",
       "4072   0452269571   202963            8        1856       25029\n",
       "79117  0380792745    65183            8         897        8245\n",
       "95367  0553572377   262271           10        2184       32575\n",
       "58291  0142001740   136234           10         329       17031\n",
       "55180  0446670251    64429            7        1649        8144"
      ]
     },
     "execution_count": 50,
     "metadata": {},
     "output_type": "execute_result"
    }
   ],
   "source": [
    "df_train.head(5)"
   ]
  },
  {
   "cell_type": "markdown",
   "metadata": {},
   "source": [
    "On crée la matrice d'entrainement et de tests n_user par n_books basés sur les index avec comme valeur le rating"
   ]
  },
  {
   "cell_type": "code",
   "execution_count": 51,
   "metadata": {},
   "outputs": [
    {
     "data": {
      "text/plain": [
       "(34573, 3151)"
      ]
     },
     "execution_count": 51,
     "metadata": {},
     "output_type": "execute_result"
    }
   ],
   "source": [
    "#Create one user-book matrices for training \n",
    "train_data_matrix = np.zeros((n_users, n_books))\n",
    "    #for every line in the data\n",
    "for line in df_train.itertuples():\n",
    "    #set the value in the column and row to \n",
    "    #line[1] is User-Id, line[2] is ISBN and line[3] is Book-Rating, line[4] is ISBN_index and line[5] is User_index\n",
    "    train_data_matrix[line[5], line[4]] = line[3]\n",
    "train_data_matrix.shape"
   ]
  },
  {
   "cell_type": "code",
   "execution_count": 52,
   "metadata": {},
   "outputs": [
    {
     "data": {
      "text/plain": [
       "(34573, 3151)"
      ]
     },
     "execution_count": 52,
     "metadata": {},
     "output_type": "execute_result"
    }
   ],
   "source": [
    "#Create one user-book matrices for testing \n",
    "test_data_matrix = np.zeros((n_users, n_books))\n",
    "    #for every line in the data\n",
    "for line in df_test[:1].itertuples():\n",
    "    #set the value in the column and row to \n",
    "    #line[1] is User-Id, line[2] is ISBN and line[3] is Book-Rating, line[4] is ISBN_index and line[5] is User_index\n",
    "    test_data_matrix[line[5], line[4]] = line[3]\n",
    "test_data_matrix.shape"
   ]
  },
  {
   "cell_type": "markdown",
   "metadata": {},
   "source": [
    "La métrique utilisée sera la Mean Squared Error entre la prédiction et la vraie valeur"
   ]
  },
  {
   "cell_type": "code",
   "execution_count": 53,
   "metadata": {},
   "outputs": [],
   "source": [
    "from sklearn.metrics import mean_squared_error\n",
    "from math import sqrt\n",
    "def rmse(prediction, ground_truth):\n",
    "    #select prediction values that are non-zero and flatten into 1 array\n",
    "    prediction = prediction[ground_truth.nonzero()]\n",
    "    #select test values that are non-zero and flatten into 1 array\n",
    "    ground_truth = ground_truth[ground_truth.nonzero()]\n",
    "    #return RMSE between values\n",
    "    return sqrt(mean_squared_error(prediction, ground_truth))"
   ]
  },
  {
   "cell_type": "markdown",
   "metadata": {},
   "source": [
    "On réalise une décomposition de la matrice suivant k valeurs singulières en fittant sur le train et en mesurant l'erreur sur le test. Cette décomposition utilise une méthode se basant sur le caractère très sparse des matrices.\n"
   ]
  },
  {
   "cell_type": "code",
   "execution_count": 54,
   "metadata": {},
   "outputs": [
    {
     "name": "stdout",
     "output_type": "stream",
     "text": [
      "Matrix Factorisation with 1 latent features has a RMSE of 8.99950139596305\n",
      "Matrix Factorisation with 2 latent features has a RMSE of 8.99933081960599\n",
      "Matrix Factorisation with 5 latent features has a RMSE of 8.998673822240121\n",
      "Matrix Factorisation with 20 latent features has a RMSE of 8.99542708130528\n",
      "Matrix Factorisation with 40 latent features has a RMSE of 8.994186340373284\n",
      "Matrix Factorisation with 60 latent features has a RMSE of 8.991454106696285\n",
      "Matrix Factorisation with 100 latent features has a RMSE of 8.982204948143098\n"
     ]
    }
   ],
   "source": [
    "from scipy.sparse.linalg import svds\n",
    "#Calculate the rmse sscore of SVD using different values of k (latent features)\n",
    "rmse_list = []\n",
    "for i in [1,2,5,20,40,60,100]:\n",
    "    #apply svd to the test data\n",
    "    u,s,vt = svds(train_data_matrix,k=i)\n",
    "    #get diagonal matrix\n",
    "    s_diag_matrix=np.diag(s)\n",
    "    #predict x with dot product of u s_diag and vt\n",
    "    X_pred = np.dot(np.dot(u,s_diag_matrix),vt)\n",
    "    #calculate rmse score of matrix factorisation predictions\n",
    "    rmse_score = rmse(X_pred,test_data_matrix)\n",
    "    rmse_list.append(rmse_score)\n",
    "    print(\"Matrix Factorisation with \" + str(i) +\" latent features has a RMSE of \" + str(rmse_score))"
   ]
  },
  {
   "cell_type": "code",
   "execution_count": 55,
   "metadata": {},
   "outputs": [
    {
     "data": {
      "text/html": [
       "<div>\n",
       "<style scoped>\n",
       "    .dataframe tbody tr th:only-of-type {\n",
       "        vertical-align: middle;\n",
       "    }\n",
       "\n",
       "    .dataframe tbody tr th {\n",
       "        vertical-align: top;\n",
       "    }\n",
       "\n",
       "    .dataframe thead th {\n",
       "        text-align: right;\n",
       "    }\n",
       "</style>\n",
       "<table border=\"1\" class=\"dataframe\">\n",
       "  <thead>\n",
       "    <tr style=\"text-align: right;\">\n",
       "      <th></th>\n",
       "      <th>0</th>\n",
       "      <th>1</th>\n",
       "      <th>2</th>\n",
       "      <th>3</th>\n",
       "      <th>4</th>\n",
       "      <th>5</th>\n",
       "      <th>6</th>\n",
       "      <th>7</th>\n",
       "      <th>8</th>\n",
       "      <th>9</th>\n",
       "      <th>...</th>\n",
       "      <th>3141</th>\n",
       "      <th>3142</th>\n",
       "      <th>3143</th>\n",
       "      <th>3144</th>\n",
       "      <th>3145</th>\n",
       "      <th>3146</th>\n",
       "      <th>3147</th>\n",
       "      <th>3148</th>\n",
       "      <th>3149</th>\n",
       "      <th>3150</th>\n",
       "    </tr>\n",
       "  </thead>\n",
       "  <tbody>\n",
       "    <tr>\n",
       "      <td>0</td>\n",
       "      <td>0.000000</td>\n",
       "      <td>0.000000</td>\n",
       "      <td>0.000000</td>\n",
       "      <td>0.000000</td>\n",
       "      <td>0.000000</td>\n",
       "      <td>0.000000</td>\n",
       "      <td>0.000000</td>\n",
       "      <td>0.000000</td>\n",
       "      <td>0.000000</td>\n",
       "      <td>0.000000</td>\n",
       "      <td>...</td>\n",
       "      <td>0.000000</td>\n",
       "      <td>0.000000</td>\n",
       "      <td>0.000000</td>\n",
       "      <td>0.000000</td>\n",
       "      <td>0.000000</td>\n",
       "      <td>0.000000</td>\n",
       "      <td>0.000000</td>\n",
       "      <td>0.000000</td>\n",
       "      <td>0.000000</td>\n",
       "      <td>0.000000e+00</td>\n",
       "    </tr>\n",
       "    <tr>\n",
       "      <td>1</td>\n",
       "      <td>-0.000665</td>\n",
       "      <td>-0.002979</td>\n",
       "      <td>-0.000914</td>\n",
       "      <td>-0.001585</td>\n",
       "      <td>-0.002521</td>\n",
       "      <td>-0.000441</td>\n",
       "      <td>0.024705</td>\n",
       "      <td>0.011418</td>\n",
       "      <td>0.028709</td>\n",
       "      <td>-0.019144</td>\n",
       "      <td>...</td>\n",
       "      <td>-0.000384</td>\n",
       "      <td>-0.000612</td>\n",
       "      <td>-0.001324</td>\n",
       "      <td>-0.000641</td>\n",
       "      <td>-0.000505</td>\n",
       "      <td>-0.000448</td>\n",
       "      <td>0.000005</td>\n",
       "      <td>-0.000157</td>\n",
       "      <td>-0.000198</td>\n",
       "      <td>5.752579e-18</td>\n",
       "    </tr>\n",
       "    <tr>\n",
       "      <td>2</td>\n",
       "      <td>-0.001473</td>\n",
       "      <td>-0.000294</td>\n",
       "      <td>0.000097</td>\n",
       "      <td>-0.005037</td>\n",
       "      <td>-0.000678</td>\n",
       "      <td>0.004825</td>\n",
       "      <td>0.008514</td>\n",
       "      <td>-0.005740</td>\n",
       "      <td>0.011503</td>\n",
       "      <td>0.004819</td>\n",
       "      <td>...</td>\n",
       "      <td>-0.001043</td>\n",
       "      <td>-0.000263</td>\n",
       "      <td>-0.000944</td>\n",
       "      <td>-0.000110</td>\n",
       "      <td>-0.001610</td>\n",
       "      <td>-0.001433</td>\n",
       "      <td>-0.000003</td>\n",
       "      <td>-0.000140</td>\n",
       "      <td>0.000021</td>\n",
       "      <td>-1.742706e-18</td>\n",
       "    </tr>\n",
       "    <tr>\n",
       "      <td>3</td>\n",
       "      <td>-0.004279</td>\n",
       "      <td>-0.001372</td>\n",
       "      <td>0.003622</td>\n",
       "      <td>0.063260</td>\n",
       "      <td>0.108750</td>\n",
       "      <td>-0.037414</td>\n",
       "      <td>0.010315</td>\n",
       "      <td>-0.032633</td>\n",
       "      <td>0.009358</td>\n",
       "      <td>-0.108584</td>\n",
       "      <td>...</td>\n",
       "      <td>-0.003453</td>\n",
       "      <td>-0.002397</td>\n",
       "      <td>-0.010451</td>\n",
       "      <td>-0.003640</td>\n",
       "      <td>-0.005333</td>\n",
       "      <td>-0.004772</td>\n",
       "      <td>-0.000009</td>\n",
       "      <td>0.000010</td>\n",
       "      <td>-0.001209</td>\n",
       "      <td>2.721052e-16</td>\n",
       "    </tr>\n",
       "    <tr>\n",
       "      <td>4</td>\n",
       "      <td>0.001148</td>\n",
       "      <td>-0.000421</td>\n",
       "      <td>-0.000266</td>\n",
       "      <td>-0.002045</td>\n",
       "      <td>-0.000751</td>\n",
       "      <td>0.001440</td>\n",
       "      <td>0.004110</td>\n",
       "      <td>0.001547</td>\n",
       "      <td>0.006475</td>\n",
       "      <td>0.002359</td>\n",
       "      <td>...</td>\n",
       "      <td>-0.000487</td>\n",
       "      <td>0.000326</td>\n",
       "      <td>-0.000262</td>\n",
       "      <td>0.000115</td>\n",
       "      <td>-0.000752</td>\n",
       "      <td>-0.000669</td>\n",
       "      <td>-0.000002</td>\n",
       "      <td>-0.000143</td>\n",
       "      <td>0.000025</td>\n",
       "      <td>-1.851055e-18</td>\n",
       "    </tr>\n",
       "  </tbody>\n",
       "</table>\n",
       "<p>5 rows × 3151 columns</p>\n",
       "</div>"
      ],
      "text/plain": [
       "       0         1         2         3         4         5         6     \\\n",
       "0  0.000000  0.000000  0.000000  0.000000  0.000000  0.000000  0.000000   \n",
       "1 -0.000665 -0.002979 -0.000914 -0.001585 -0.002521 -0.000441  0.024705   \n",
       "2 -0.001473 -0.000294  0.000097 -0.005037 -0.000678  0.004825  0.008514   \n",
       "3 -0.004279 -0.001372  0.003622  0.063260  0.108750 -0.037414  0.010315   \n",
       "4  0.001148 -0.000421 -0.000266 -0.002045 -0.000751  0.001440  0.004110   \n",
       "\n",
       "       7         8         9     ...      3141      3142      3143      3144  \\\n",
       "0  0.000000  0.000000  0.000000  ...  0.000000  0.000000  0.000000  0.000000   \n",
       "1  0.011418  0.028709 -0.019144  ... -0.000384 -0.000612 -0.001324 -0.000641   \n",
       "2 -0.005740  0.011503  0.004819  ... -0.001043 -0.000263 -0.000944 -0.000110   \n",
       "3 -0.032633  0.009358 -0.108584  ... -0.003453 -0.002397 -0.010451 -0.003640   \n",
       "4  0.001547  0.006475  0.002359  ... -0.000487  0.000326 -0.000262  0.000115   \n",
       "\n",
       "       3145      3146      3147      3148      3149          3150  \n",
       "0  0.000000  0.000000  0.000000  0.000000  0.000000  0.000000e+00  \n",
       "1 -0.000505 -0.000448  0.000005 -0.000157 -0.000198  5.752579e-18  \n",
       "2 -0.001610 -0.001433 -0.000003 -0.000140  0.000021 -1.742706e-18  \n",
       "3 -0.005333 -0.004772 -0.000009  0.000010 -0.001209  2.721052e-16  \n",
       "4 -0.000752 -0.000669 -0.000002 -0.000143  0.000025 -1.851055e-18  \n",
       "\n",
       "[5 rows x 3151 columns]"
      ]
     },
     "execution_count": 55,
     "metadata": {},
     "output_type": "execute_result"
    }
   ],
   "source": [
    "#Convert predictions to a DataFrame\n",
    "mf_pred = pd.DataFrame(X_pred)\n",
    "mf_pred.head()"
   ]
  },
  {
   "cell_type": "code",
   "execution_count": 56,
   "metadata": {},
   "outputs": [
    {
     "name": "stdout",
     "output_type": "stream",
     "text": [
      "Top 10 predictions for User 32440\n"
     ]
    },
    {
     "data": {
      "text/html": [
       "<div>\n",
       "<style scoped>\n",
       "    .dataframe tbody tr th:only-of-type {\n",
       "        vertical-align: middle;\n",
       "    }\n",
       "\n",
       "    .dataframe tbody tr th {\n",
       "        vertical-align: top;\n",
       "    }\n",
       "\n",
       "    .dataframe thead th {\n",
       "        text-align: right;\n",
       "    }\n",
       "</style>\n",
       "<table border=\"1\" class=\"dataframe\">\n",
       "  <thead>\n",
       "    <tr style=\"text-align: right;\">\n",
       "      <th></th>\n",
       "      <th>Book-Title</th>\n",
       "      <th>Book-Author</th>\n",
       "      <th>Book-Rating</th>\n",
       "    </tr>\n",
       "  </thead>\n",
       "  <tbody>\n",
       "    <tr>\n",
       "      <td>0</td>\n",
       "      <td>Life of Pi</td>\n",
       "      <td>Yann Martel</td>\n",
       "      <td>10.196463</td>\n",
       "    </tr>\n",
       "    <tr>\n",
       "      <td>1</td>\n",
       "      <td>The Secret Life of Bees</td>\n",
       "      <td>Sue Monk Kidd</td>\n",
       "      <td>9.331762</td>\n",
       "    </tr>\n",
       "    <tr>\n",
       "      <td>2</td>\n",
       "      <td>Girl with a Pearl Earring</td>\n",
       "      <td>Tracy Chevalier</td>\n",
       "      <td>8.919113</td>\n",
       "    </tr>\n",
       "    <tr>\n",
       "      <td>3</td>\n",
       "      <td>ANGELA'S ASHES</td>\n",
       "      <td>Frank McCourt</td>\n",
       "      <td>7.642815</td>\n",
       "    </tr>\n",
       "    <tr>\n",
       "      <td>4</td>\n",
       "      <td>A Walk in the Woods: Rediscovering America on ...</td>\n",
       "      <td>Bill Bryson</td>\n",
       "      <td>1.775618</td>\n",
       "    </tr>\n",
       "    <tr>\n",
       "      <td>5</td>\n",
       "      <td>Message in a Bottle</td>\n",
       "      <td>Nicholas Sparks</td>\n",
       "      <td>1.748854</td>\n",
       "    </tr>\n",
       "    <tr>\n",
       "      <td>6</td>\n",
       "      <td>STONES FROM THE RIVER</td>\n",
       "      <td>Ursula Hegi</td>\n",
       "      <td>1.528020</td>\n",
       "    </tr>\n",
       "    <tr>\n",
       "      <td>7</td>\n",
       "      <td>The Chamber</td>\n",
       "      <td>John Grisham</td>\n",
       "      <td>1.159126</td>\n",
       "    </tr>\n",
       "    <tr>\n",
       "      <td>8</td>\n",
       "      <td>The Handmaid's Tale : A Novel</td>\n",
       "      <td>Margaret Atwood</td>\n",
       "      <td>1.094987</td>\n",
       "    </tr>\n",
       "    <tr>\n",
       "      <td>9</td>\n",
       "      <td>The Poisonwood Bible</td>\n",
       "      <td>Barbara Kingsolver</td>\n",
       "      <td>1.047042</td>\n",
       "    </tr>\n",
       "  </tbody>\n",
       "</table>\n",
       "</div>"
      ],
      "text/plain": [
       "                                          Book-Title         Book-Author  \\\n",
       "0                                         Life of Pi         Yann Martel   \n",
       "1                            The Secret Life of Bees       Sue Monk Kidd   \n",
       "2                          Girl with a Pearl Earring     Tracy Chevalier   \n",
       "3                                     ANGELA'S ASHES       Frank McCourt   \n",
       "4  A Walk in the Woods: Rediscovering America on ...         Bill Bryson   \n",
       "5                                Message in a Bottle     Nicholas Sparks   \n",
       "6                              STONES FROM THE RIVER         Ursula Hegi   \n",
       "7                                        The Chamber        John Grisham   \n",
       "8                      The Handmaid's Tale : A Novel     Margaret Atwood   \n",
       "9                               The Poisonwood Bible  Barbara Kingsolver   \n",
       "\n",
       "   Book-Rating  \n",
       "0    10.196463  \n",
       "1     9.331762  \n",
       "2     8.919113  \n",
       "3     7.642815  \n",
       "4     1.775618  \n",
       "5     1.748854  \n",
       "6     1.528020  \n",
       "7     1.159126  \n",
       "8     1.094987  \n",
       "9     1.047042  "
      ]
     },
     "execution_count": 56,
     "metadata": {},
     "output_type": "execute_result"
    }
   ],
   "source": [
    "user_id = 32440\n",
    "user_index = user_indices.loc[user_indices[\"User-ID\"]==user_id]['User_index'][:1].values[0]\n",
    "#get book ratings predicted for this user and sort by highest rating prediction\n",
    "sorted_user_predictions = pd.DataFrame(mf_pred.iloc[user_index].sort_values(ascending=False))\n",
    "#rename the columns\n",
    "sorted_user_predictions.columns=['Book-Rating']\n",
    "#save the index values as ISBN\n",
    "sorted_user_predictions['ISBN_index']=sorted_user_predictions.index\n",
    "print(\"Top 10 predictions for User \" + str(user_id))\n",
    "#display the top 10 predictions for this user\n",
    "top_10 = pd.merge(sorted_user_predictions,isbn_indices, on = 'ISBN_index')[:10]\n",
    "pd.merge(top_10, df_books, on = 'ISBN')[[\"Book-Title\", \"Book-Author\", \"Book-Rating\"]]\n",
    "\n"
   ]
  },
  {
   "cell_type": "markdown",
   "metadata": {},
   "source": [
    "Aux vues des résultats, il y a certainement un problème de méthodologie aux vues des Book-rating retournés"
   ]
  },
  {
   "cell_type": "markdown",
   "metadata": {},
   "source": [
    "### Deep Learning avec contrainte de non-négativité"
   ]
  },
  {
   "cell_type": "code",
   "execution_count": 57,
   "metadata": {},
   "outputs": [
    {
     "name": "stderr",
     "output_type": "stream",
     "text": [
      "Using TensorFlow backend.\n"
     ]
    }
   ],
   "source": [
    "import keras\n",
    "from keras.layers import Embedding, Reshape  #Merge\n",
    "from keras.models import Sequential\n",
    "from keras.optimizers import Adam\n",
    "from keras.callbacks import EarlyStopping, ModelCheckpoint\n",
    "from keras.constraints import non_neg"
   ]
  },
  {
   "cell_type": "code",
   "execution_count": 58,
   "metadata": {},
   "outputs": [],
   "source": [
    "# Returns a neural network model which performs matrix factorisation with additional constraint on embeddings(that they can't be negative)\n",
    "def matrix_factorisation_model_with_n_latent_factors_and_non_negative_embedding(n_latent_factors) :\n",
    "    book_input = keras.layers.Input(shape=[1],name='Book')\n",
    "    book_embedding = keras.layers.Embedding(n_books + 1, n_latent_factors, name='Non-Negative-Book-Embedding',embeddings_constraint=non_neg())(book_input)\n",
    "    book_vec = keras.layers.Flatten(name='FlattenBooks')(book_embedding)\n",
    "\n",
    "    user_input = keras.layers.Input(shape=[1],name='User')\n",
    "    user_embedding = keras.layers.Embedding(n_users + 1, n_latent_factors,name='Non-Negative-User-Embedding',embeddings_constraint=non_neg())(user_input)\n",
    "    user_vec = keras.layers.Flatten(name='FlattenUsers')(user_embedding)\n",
    "    \n",
    "    prod = keras.layers.dot([book_vec, user_vec],axes=1) \n",
    "    \n",
    "    \n",
    "    model = keras.Model([user_input, book_input], prod)\n",
    "    model.compile('adam', 'mean_squared_error')\n",
    "    \n",
    "    return model"
   ]
  },
  {
   "cell_type": "code",
   "execution_count": 59,
   "metadata": {},
   "outputs": [
    {
     "name": "stdout",
     "output_type": "stream",
     "text": [
      "WARNING:tensorflow:From C:\\Users\\bigdata\\Anaconda3\\lib\\site-packages\\keras\\backend\\tensorflow_backend.py:517: The name tf.placeholder is deprecated. Please use tf.compat.v1.placeholder instead.\n",
      "\n",
      "WARNING:tensorflow:From C:\\Users\\bigdata\\Anaconda3\\lib\\site-packages\\keras\\backend\\tensorflow_backend.py:4138: The name tf.random_uniform is deprecated. Please use tf.random.uniform instead.\n",
      "\n",
      "WARNING:tensorflow:From C:\\Users\\bigdata\\Anaconda3\\lib\\site-packages\\keras\\backend\\tensorflow_backend.py:74: The name tf.get_default_graph is deprecated. Please use tf.compat.v1.get_default_graph instead.\n",
      "\n",
      "WARNING:tensorflow:From C:\\Users\\bigdata\\Anaconda3\\lib\\site-packages\\keras\\optimizers.py:790: The name tf.train.Optimizer is deprecated. Please use tf.compat.v1.train.Optimizer instead.\n",
      "\n"
     ]
    }
   ],
   "source": [
    "model = matrix_factorisation_model_with_n_latent_factors_and_non_negative_embedding(5)"
   ]
  },
  {
   "cell_type": "code",
   "execution_count": 60,
   "metadata": {},
   "outputs": [
    {
     "name": "stdout",
     "output_type": "stream",
     "text": [
      "__________________________________________________________________________________________________\n",
      "Layer (type)                    Output Shape         Param #     Connected to                     \n",
      "==================================================================================================\n",
      "Book (InputLayer)               (None, 1)            0                                            \n",
      "__________________________________________________________________________________________________\n",
      "User (InputLayer)               (None, 1)            0                                            \n",
      "__________________________________________________________________________________________________\n",
      "Non-Negative-Book-Embedding (Em (None, 1, 5)         15760       Book[0][0]                       \n",
      "__________________________________________________________________________________________________\n",
      "Non-Negative-User-Embedding (Em (None, 1, 5)         172870      User[0][0]                       \n",
      "__________________________________________________________________________________________________\n",
      "FlattenBooks (Flatten)          (None, 5)            0           Non-Negative-Book-Embedding[0][0]\n",
      "__________________________________________________________________________________________________\n",
      "FlattenUsers (Flatten)          (None, 5)            0           Non-Negative-User-Embedding[0][0]\n",
      "__________________________________________________________________________________________________\n",
      "dot_1 (Dot)                     (None, 1)            0           FlattenBooks[0][0]               \n",
      "                                                                 FlattenUsers[0][0]               \n",
      "==================================================================================================\n",
      "Total params: 188,630\n",
      "Trainable params: 188,630\n",
      "Non-trainable params: 0\n",
      "__________________________________________________________________________________________________\n"
     ]
    }
   ],
   "source": [
    "model.summary()"
   ]
  },
  {
   "cell_type": "code",
   "execution_count": 61,
   "metadata": {},
   "outputs": [
    {
     "name": "stdout",
     "output_type": "stream",
     "text": [
      "WARNING:tensorflow:From C:\\Users\\bigdata\\Anaconda3\\lib\\site-packages\\keras\\backend\\tensorflow_backend.py:986: The name tf.assign_add is deprecated. Please use tf.compat.v1.assign_add instead.\n",
      "\n",
      "WARNING:tensorflow:From C:\\Users\\bigdata\\Anaconda3\\lib\\site-packages\\keras\\backend\\tensorflow_backend.py:973: The name tf.assign is deprecated. Please use tf.compat.v1.assign instead.\n",
      "\n",
      "WARNING:tensorflow:From C:\\Users\\bigdata\\Anaconda3\\lib\\site-packages\\keras\\backend\\tensorflow_backend.py:2741: The name tf.Session is deprecated. Please use tf.compat.v1.Session instead.\n",
      "\n",
      "Epoch 1/100\n",
      "WARNING:tensorflow:From C:\\Users\\bigdata\\Anaconda3\\lib\\site-packages\\keras\\backend\\tensorflow_backend.py:174: The name tf.get_default_session is deprecated. Please use tf.compat.v1.get_default_session instead.\n",
      "\n",
      "WARNING:tensorflow:From C:\\Users\\bigdata\\Anaconda3\\lib\\site-packages\\keras\\backend\\tensorflow_backend.py:181: The name tf.ConfigProto is deprecated. Please use tf.compat.v1.ConfigProto instead.\n",
      "\n",
      "WARNING:tensorflow:From C:\\Users\\bigdata\\Anaconda3\\lib\\site-packages\\keras\\backend\\tensorflow_backend.py:190: The name tf.global_variables is deprecated. Please use tf.compat.v1.global_variables instead.\n",
      "\n",
      "WARNING:tensorflow:From C:\\Users\\bigdata\\Anaconda3\\lib\\site-packages\\keras\\backend\\tensorflow_backend.py:199: The name tf.is_variable_initialized is deprecated. Please use tf.compat.v1.is_variable_initialized instead.\n",
      "\n",
      "WARNING:tensorflow:From C:\\Users\\bigdata\\Anaconda3\\lib\\site-packages\\keras\\backend\\tensorflow_backend.py:206: The name tf.variables_initializer is deprecated. Please use tf.compat.v1.variables_initializer instead.\n",
      "\n",
      "90104/90104 [==============================] - 7s 81us/step - loss: 62.0140\n",
      "Epoch 2/100\n",
      "90104/90104 [==============================] - 8s 84us/step - loss: 54.3369\n",
      "Epoch 3/100\n",
      "90104/90104 [==============================] - 8s 87us/step - loss: 43.9714\n",
      "Epoch 4/100\n",
      "90104/90104 [==============================] - 8s 92us/step - loss: 34.6128\n",
      "Epoch 5/100\n",
      "90104/90104 [==============================] - 9s 95us/step - loss: 27.3761\n",
      "Epoch 6/100\n",
      "90104/90104 [==============================] - 8s 86us/step - loss: 21.9239\n",
      "Epoch 7/100\n",
      "90104/90104 [==============================] - 7s 81us/step - loss: 17.7625\n",
      "Epoch 8/100\n",
      "90104/90104 [==============================] - 7s 80us/step - loss: 14.5462\n",
      "Epoch 9/100\n",
      "90104/90104 [==============================] - 7s 80us/step - loss: 12.0314\n",
      "Epoch 10/100\n",
      "90104/90104 [==============================] - 8s 88us/step - loss: 10.0348\n",
      "Epoch 11/100\n",
      "90104/90104 [==============================] - 8s 86us/step - loss: 8.4274\n",
      "Epoch 12/100\n",
      "90104/90104 [==============================] - 6s 67us/step - loss: 7.1186\n",
      "Epoch 13/100\n",
      "90104/90104 [==============================] - 6s 69us/step - loss: 6.0446\n",
      "Epoch 14/100\n",
      "90104/90104 [==============================] - 6s 68us/step - loss: 5.1587\n",
      "Epoch 15/100\n",
      "90104/90104 [==============================] - 6s 70us/step - loss: 4.4243\n",
      "Epoch 16/100\n",
      "90104/90104 [==============================] - 7s 81us/step - loss: 3.8200\n",
      "Epoch 17/100\n",
      "90104/90104 [==============================] - 7s 79us/step - loss: 3.3164\n",
      "Epoch 18/100\n",
      "90104/90104 [==============================] - 7s 78us/step - loss: 2.8995\n",
      "Epoch 19/100\n",
      "90104/90104 [==============================] - 7s 78us/step - loss: 2.5572\n",
      "Epoch 20/100\n",
      "90104/90104 [==============================] - 7s 78us/step - loss: 2.2823\n",
      "Epoch 21/100\n",
      "90104/90104 [==============================] - 7s 79us/step - loss: 2.0657\n",
      "Epoch 22/100\n",
      "90104/90104 [==============================] - 7s 79us/step - loss: 1.9024\n",
      "Epoch 23/100\n",
      "90104/90104 [==============================] - 7s 79us/step - loss: 1.7843\n",
      "Epoch 24/100\n",
      "90104/90104 [==============================] - 7s 79us/step - loss: 1.7001\n",
      "Epoch 25/100\n",
      "90104/90104 [==============================] - 7s 79us/step - loss: 1.6422\n",
      "Epoch 26/100\n",
      "90104/90104 [==============================] - 7s 83us/step - loss: 1.6034\n",
      "Epoch 27/100\n",
      "90104/90104 [==============================] - 8s 91us/step - loss: 1.5786\n",
      "Epoch 28/100\n",
      "90104/90104 [==============================] - 8s 88us/step - loss: 1.5635\n",
      "Epoch 29/100\n",
      "90104/90104 [==============================] - 8s 87us/step - loss: 1.5540\n",
      "Epoch 30/100\n",
      "90104/90104 [==============================] - 8s 91us/step - loss: 1.5497\n",
      "Epoch 31/100\n",
      "90104/90104 [==============================] - 8s 90us/step - loss: 1.5458\n",
      "Epoch 32/100\n",
      "90104/90104 [==============================] - 9s 104us/step - loss: 1.5437\n",
      "Epoch 33/100\n",
      "90104/90104 [==============================] - 9s 95us/step - loss: 1.5427\n",
      "Epoch 34/100\n",
      "90104/90104 [==============================] - 8s 84us/step - loss: 1.5409\n",
      "Epoch 35/100\n",
      "90104/90104 [==============================] - 8s 84us/step - loss: 1.5401\n",
      "Epoch 36/100\n",
      "90104/90104 [==============================] - 8s 84us/step - loss: 1.5391\n",
      "Epoch 37/100\n",
      "90104/90104 [==============================] - 7s 82us/step - loss: 1.5386\n",
      "Epoch 38/100\n",
      "90104/90104 [==============================] - 8s 84us/step - loss: 1.5372\n",
      "Epoch 39/100\n",
      "90104/90104 [==============================] - 7s 82us/step - loss: 1.5366\n",
      "Epoch 40/100\n",
      "90104/90104 [==============================] - 7s 81us/step - loss: 1.5358\n",
      "Epoch 41/100\n",
      "90104/90104 [==============================] - 7s 81us/step - loss: 1.5351\n",
      "Epoch 42/100\n",
      "90104/90104 [==============================] - 7s 80us/step - loss: 1.5352\n",
      "Epoch 43/100\n",
      "90104/90104 [==============================] - 7s 79us/step - loss: 1.5313\n",
      "Epoch 44/100\n",
      "90104/90104 [==============================] - 7s 79us/step - loss: 1.5314\n",
      "Epoch 45/100\n",
      "90104/90104 [==============================] - 8s 87us/step - loss: 1.5302\n",
      "Epoch 46/100\n",
      "90104/90104 [==============================] - 9s 102us/step - loss: 1.5289\n",
      "Epoch 47/100\n",
      "90104/90104 [==============================] - 8s 85us/step - loss: 1.5282\n",
      "Epoch 48/100\n",
      "90104/90104 [==============================] - 6s 72us/step - loss: 1.5261\n",
      "Epoch 49/100\n",
      "90104/90104 [==============================] - 7s 75us/step - loss: 1.5238\n",
      "Epoch 50/100\n",
      "90104/90104 [==============================] - 6s 70us/step - loss: 1.5223\n",
      "Epoch 51/100\n",
      "90104/90104 [==============================] - 6s 64us/step - loss: 1.5201\n",
      "Epoch 52/100\n",
      "90104/90104 [==============================] - 6s 65us/step - loss: 1.5174\n",
      "Epoch 53/100\n",
      "90104/90104 [==============================] - 6s 65us/step - loss: 1.5152\n",
      "Epoch 54/100\n",
      "90104/90104 [==============================] - 6s 69us/step - loss: 1.5119\n",
      "Epoch 55/100\n",
      "90104/90104 [==============================] - 6s 65us/step - loss: 1.5088\n",
      "Epoch 56/100\n",
      "90104/90104 [==============================] - 6s 66us/step - loss: 1.5050\n",
      "Epoch 57/100\n",
      "90104/90104 [==============================] - 6s 65us/step - loss: 1.5015\n",
      "Epoch 58/100\n",
      "90104/90104 [==============================] - 6s 64us/step - loss: 1.4961\n",
      "Epoch 59/100\n",
      "90104/90104 [==============================] - 6s 65us/step - loss: 1.4921\n",
      "Epoch 60/100\n",
      "90104/90104 [==============================] - 6s 66us/step - loss: 1.4861\n",
      "Epoch 61/100\n",
      "90104/90104 [==============================] - 7s 75us/step - loss: 1.4779\n",
      "Epoch 62/100\n",
      "90104/90104 [==============================] - 6s 71us/step - loss: 1.4725\n",
      "Epoch 63/100\n",
      "90104/90104 [==============================] - 6s 69us/step - loss: 1.4635\n",
      "Epoch 64/100\n",
      "90104/90104 [==============================] - 6s 69us/step - loss: 1.4574\n",
      "Epoch 65/100\n",
      "90104/90104 [==============================] - 6s 69us/step - loss: 1.4474\n",
      "Epoch 66/100\n",
      "90104/90104 [==============================] - 6s 69us/step - loss: 1.4401\n",
      "Epoch 67/100\n",
      "90104/90104 [==============================] - 6s 71us/step - loss: 1.4305\n",
      "Epoch 68/100\n",
      "90104/90104 [==============================] - 8s 87us/step - loss: 1.4199\n",
      "Epoch 69/100\n",
      "90104/90104 [==============================] - 8s 90us/step - loss: 1.4103\n",
      "Epoch 70/100\n",
      "90104/90104 [==============================] - 8s 85us/step - loss: 1.3991\n",
      "Epoch 71/100\n",
      "90104/90104 [==============================] - 8s 88us/step - loss: 1.3892\n",
      "Epoch 72/100\n",
      "90104/90104 [==============================] - 7s 75us/step - loss: 1.3765\n",
      "Epoch 73/100\n",
      "90104/90104 [==============================] - 7s 78us/step - loss: 1.3640\n",
      "Epoch 74/100\n",
      "90104/90104 [==============================] - 7s 75us/step - loss: 1.3508\n",
      "Epoch 75/100\n"
     ]
    },
    {
     "name": "stdout",
     "output_type": "stream",
     "text": [
      "90104/90104 [==============================] - 6s 63us/step - loss: 1.3389\n",
      "Epoch 76/100\n",
      "90104/90104 [==============================] - 6s 63us/step - loss: 1.3250\n",
      "Epoch 77/100\n",
      "90104/90104 [==============================] - 6s 64us/step - loss: 1.3111\n",
      "Epoch 78/100\n",
      "90104/90104 [==============================] - 6s 64us/step - loss: 1.2973\n",
      "Epoch 79/100\n",
      "90104/90104 [==============================] - 6s 63us/step - loss: 1.2817\n",
      "Epoch 80/100\n",
      "90104/90104 [==============================] - 6s 63us/step - loss: 1.2675\n",
      "Epoch 81/100\n",
      "90104/90104 [==============================] - 6s 63us/step - loss: 1.2519\n",
      "Epoch 82/100\n",
      "90104/90104 [==============================] - 6s 70us/step - loss: 1.2363\n",
      "Epoch 83/100\n",
      "90104/90104 [==============================] - 6s 65us/step - loss: 1.2215\n",
      "Epoch 84/100\n",
      "90104/90104 [==============================] - 6s 66us/step - loss: 1.2045\n",
      "Epoch 85/100\n",
      "90104/90104 [==============================] - 7s 72us/step - loss: 1.1899\n",
      "Epoch 86/100\n",
      "90104/90104 [==============================] - 7s 83us/step - loss: 1.1735\n",
      "Epoch 87/100\n",
      "90104/90104 [==============================] - 8s 94us/step - loss: 1.1584\n",
      "Epoch 88/100\n",
      "90104/90104 [==============================] - 7s 77us/step - loss: 1.1421\n",
      "Epoch 89/100\n",
      "90104/90104 [==============================] - 7s 78us/step - loss: 1.1263\n",
      "Epoch 90/100\n",
      "90104/90104 [==============================] - 7s 79us/step - loss: 1.1112\n",
      "Epoch 91/100\n",
      "90104/90104 [==============================] - 7s 73us/step - loss: 1.0948\n",
      "Epoch 92/100\n",
      "90104/90104 [==============================] - 7s 78us/step - loss: 1.0788\n",
      "Epoch 93/100\n",
      "90104/90104 [==============================] - 10s 111us/step - loss: 1.0639\n",
      "Epoch 94/100\n",
      "90104/90104 [==============================] - 8s 89us/step - loss: 1.0484\n",
      "Epoch 95/100\n",
      "90104/90104 [==============================] - 7s 80us/step - loss: 1.0338\n",
      "Epoch 96/100\n",
      "90104/90104 [==============================] - 7s 75us/step - loss: 1.0186\n",
      "Epoch 97/100\n",
      "90104/90104 [==============================] - 8s 85us/step - loss: 1.0040\n",
      "Epoch 98/100\n",
      "90104/90104 [==============================] - 6s 70us/step - loss: 0.9889\n",
      "Epoch 99/100\n",
      "90104/90104 [==============================] - 7s 75us/step - loss: 0.9746\n",
      "Epoch 100/100\n",
      "90104/90104 [==============================] - 8s 90us/step - loss: 0.9603\n"
     ]
    }
   ],
   "source": [
    "history_nonneg = model.fit([df_train[\"User_index\"], df_train[\"ISBN_index\"]], df_train[\"Book-Rating\"], epochs=100, verbose=1)"
   ]
  },
  {
   "cell_type": "code",
   "execution_count": 62,
   "metadata": {},
   "outputs": [
    {
     "data": {
      "text/html": [
       "<div>\n",
       "<style scoped>\n",
       "    .dataframe tbody tr th:only-of-type {\n",
       "        vertical-align: middle;\n",
       "    }\n",
       "\n",
       "    .dataframe tbody tr th {\n",
       "        vertical-align: top;\n",
       "    }\n",
       "\n",
       "    .dataframe thead th {\n",
       "        text-align: right;\n",
       "    }\n",
       "</style>\n",
       "<table border=\"1\" class=\"dataframe\">\n",
       "  <thead>\n",
       "    <tr style=\"text-align: right;\">\n",
       "      <th></th>\n",
       "      <th>0</th>\n",
       "      <th>1</th>\n",
       "      <th>2</th>\n",
       "      <th>3</th>\n",
       "      <th>4</th>\n",
       "    </tr>\n",
       "  </thead>\n",
       "  <tbody>\n",
       "    <tr>\n",
       "      <td>count</td>\n",
       "      <td>3152.000000</td>\n",
       "      <td>3152.000000</td>\n",
       "      <td>3152.000000</td>\n",
       "      <td>3152.000000</td>\n",
       "      <td>3152.000000</td>\n",
       "    </tr>\n",
       "    <tr>\n",
       "      <td>mean</td>\n",
       "      <td>2.170481</td>\n",
       "      <td>2.187744</td>\n",
       "      <td>2.195058</td>\n",
       "      <td>2.183846</td>\n",
       "      <td>2.182026</td>\n",
       "    </tr>\n",
       "    <tr>\n",
       "      <td>std</td>\n",
       "      <td>0.618222</td>\n",
       "      <td>0.598144</td>\n",
       "      <td>0.622132</td>\n",
       "      <td>0.603437</td>\n",
       "      <td>0.606997</td>\n",
       "    </tr>\n",
       "    <tr>\n",
       "      <td>min</td>\n",
       "      <td>0.001234</td>\n",
       "      <td>-0.000000</td>\n",
       "      <td>-0.000000</td>\n",
       "      <td>-0.000000</td>\n",
       "      <td>-0.000000</td>\n",
       "    </tr>\n",
       "    <tr>\n",
       "      <td>25%</td>\n",
       "      <td>1.782540</td>\n",
       "      <td>1.816230</td>\n",
       "      <td>1.825028</td>\n",
       "      <td>1.816823</td>\n",
       "      <td>1.818164</td>\n",
       "    </tr>\n",
       "    <tr>\n",
       "      <td>50%</td>\n",
       "      <td>2.176932</td>\n",
       "      <td>2.211349</td>\n",
       "      <td>2.208902</td>\n",
       "      <td>2.182009</td>\n",
       "      <td>2.201387</td>\n",
       "    </tr>\n",
       "    <tr>\n",
       "      <td>75%</td>\n",
       "      <td>2.564777</td>\n",
       "      <td>2.552419</td>\n",
       "      <td>2.580720</td>\n",
       "      <td>2.546772</td>\n",
       "      <td>2.569596</td>\n",
       "    </tr>\n",
       "    <tr>\n",
       "      <td>max</td>\n",
       "      <td>5.508662</td>\n",
       "      <td>5.021390</td>\n",
       "      <td>4.844610</td>\n",
       "      <td>5.321653</td>\n",
       "      <td>4.839131</td>\n",
       "    </tr>\n",
       "  </tbody>\n",
       "</table>\n",
       "</div>"
      ],
      "text/plain": [
       "                 0            1            2            3            4\n",
       "count  3152.000000  3152.000000  3152.000000  3152.000000  3152.000000\n",
       "mean      2.170481     2.187744     2.195058     2.183846     2.182026\n",
       "std       0.618222     0.598144     0.622132     0.603437     0.606997\n",
       "min       0.001234    -0.000000    -0.000000    -0.000000    -0.000000\n",
       "25%       1.782540     1.816230     1.825028     1.816823     1.818164\n",
       "50%       2.176932     2.211349     2.208902     2.182009     2.201387\n",
       "75%       2.564777     2.552419     2.580720     2.546772     2.569596\n",
       "max       5.508662     5.021390     4.844610     5.321653     4.839131"
      ]
     },
     "execution_count": 62,
     "metadata": {},
     "output_type": "execute_result"
    }
   ],
   "source": [
    "book_embedding_learnt = model.get_layer(name='Non-Negative-Book-Embedding').get_weights()[0]\n",
    "pd.DataFrame(book_embedding_learnt).describe()"
   ]
  },
  {
   "cell_type": "code",
   "execution_count": 63,
   "metadata": {},
   "outputs": [
    {
     "data": {
      "text/html": [
       "<div>\n",
       "<style scoped>\n",
       "    .dataframe tbody tr th:only-of-type {\n",
       "        vertical-align: middle;\n",
       "    }\n",
       "\n",
       "    .dataframe tbody tr th {\n",
       "        vertical-align: top;\n",
       "    }\n",
       "\n",
       "    .dataframe thead th {\n",
       "        text-align: right;\n",
       "    }\n",
       "</style>\n",
       "<table border=\"1\" class=\"dataframe\">\n",
       "  <thead>\n",
       "    <tr style=\"text-align: right;\">\n",
       "      <th></th>\n",
       "      <th>0</th>\n",
       "      <th>1</th>\n",
       "      <th>2</th>\n",
       "      <th>3</th>\n",
       "      <th>4</th>\n",
       "    </tr>\n",
       "  </thead>\n",
       "  <tbody>\n",
       "    <tr>\n",
       "      <td>count</td>\n",
       "      <td>34574.000000</td>\n",
       "      <td>34574.000000</td>\n",
       "      <td>34574.000000</td>\n",
       "      <td>34574.000000</td>\n",
       "      <td>34574.000000</td>\n",
       "    </tr>\n",
       "    <tr>\n",
       "      <td>mean</td>\n",
       "      <td>0.610343</td>\n",
       "      <td>0.610357</td>\n",
       "      <td>0.611139</td>\n",
       "      <td>0.609801</td>\n",
       "      <td>0.610174</td>\n",
       "    </tr>\n",
       "    <tr>\n",
       "      <td>std</td>\n",
       "      <td>0.291488</td>\n",
       "      <td>0.292264</td>\n",
       "      <td>0.294033</td>\n",
       "      <td>0.291579</td>\n",
       "      <td>0.289319</td>\n",
       "    </tr>\n",
       "    <tr>\n",
       "      <td>min</td>\n",
       "      <td>-0.000000</td>\n",
       "      <td>-0.000000</td>\n",
       "      <td>-0.000000</td>\n",
       "      <td>-0.000000</td>\n",
       "      <td>-0.000000</td>\n",
       "    </tr>\n",
       "    <tr>\n",
       "      <td>25%</td>\n",
       "      <td>0.497563</td>\n",
       "      <td>0.498050</td>\n",
       "      <td>0.497417</td>\n",
       "      <td>0.496602</td>\n",
       "      <td>0.500090</td>\n",
       "    </tr>\n",
       "    <tr>\n",
       "      <td>50%</td>\n",
       "      <td>0.680115</td>\n",
       "      <td>0.679097</td>\n",
       "      <td>0.679868</td>\n",
       "      <td>0.680402</td>\n",
       "      <td>0.679900</td>\n",
       "    </tr>\n",
       "    <tr>\n",
       "      <td>75%</td>\n",
       "      <td>0.798750</td>\n",
       "      <td>0.799705</td>\n",
       "      <td>0.800458</td>\n",
       "      <td>0.798680</td>\n",
       "      <td>0.798616</td>\n",
       "    </tr>\n",
       "    <tr>\n",
       "      <td>max</td>\n",
       "      <td>2.440540</td>\n",
       "      <td>2.510997</td>\n",
       "      <td>2.089963</td>\n",
       "      <td>2.239646</td>\n",
       "      <td>2.464717</td>\n",
       "    </tr>\n",
       "  </tbody>\n",
       "</table>\n",
       "</div>"
      ],
      "text/plain": [
       "                  0             1             2             3             4\n",
       "count  34574.000000  34574.000000  34574.000000  34574.000000  34574.000000\n",
       "mean       0.610343      0.610357      0.611139      0.609801      0.610174\n",
       "std        0.291488      0.292264      0.294033      0.291579      0.289319\n",
       "min       -0.000000     -0.000000     -0.000000     -0.000000     -0.000000\n",
       "25%        0.497563      0.498050      0.497417      0.496602      0.500090\n",
       "50%        0.680115      0.679097      0.679868      0.680402      0.679900\n",
       "75%        0.798750      0.799705      0.800458      0.798680      0.798616\n",
       "max        2.440540      2.510997      2.089963      2.239646      2.464717"
      ]
     },
     "execution_count": 63,
     "metadata": {},
     "output_type": "execute_result"
    }
   ],
   "source": [
    "user_embedding_learnt = model.get_layer(name='Non-Negative-User-Embedding').get_weights()[0]\n",
    "pd.DataFrame(user_embedding_learnt).describe()"
   ]
  },
  {
   "cell_type": "code",
   "execution_count": 64,
   "metadata": {},
   "outputs": [],
   "source": [
    "y_hat = np.round(model.predict([df_test[\"User_index\"], df_test[\"ISBN_index\"]]),0)\n",
    "y_true = df_test[\"Book-Rating\"]"
   ]
  },
  {
   "cell_type": "code",
   "execution_count": 65,
   "metadata": {},
   "outputs": [
    {
     "data": {
      "text/plain": [
       "2.6270253473609446"
      ]
     },
     "execution_count": 65,
     "metadata": {},
     "output_type": "execute_result"
    }
   ],
   "source": [
    "from sklearn.metrics import mean_absolute_error\n",
    "mean_absolute_error(y_true, y_hat)"
   ]
  },
  {
   "cell_type": "markdown",
   "metadata": {},
   "source": [
    "L'erreur moyenne absolue est conséquente et les résultats sont décevants."
   ]
  },
  {
   "cell_type": "markdown",
   "metadata": {},
   "source": [
    "# Conclusion"
   ]
  },
  {
   "cell_type": "markdown",
   "metadata": {},
   "source": [
    "Différentes approches ont été mises en oeuvre :\n",
    "* Approche basée sur l'indicateur IMDB qui est relativement simple,\n",
    "* Approche basée sur la similarité des livres en utilisant les K plus proches voisins et la métrique cosinus\n",
    "* 2 approches collaboratives basées sur la factorisation de matrice en utilisant SVD et deep learning.\n",
    "\n",
    "Deux sentiments :\n",
    "* Certaines méthodes ne peuvent pas passer à l'échelle ou peut-être faut-il utiliser des structures de données adéquates pour gérer le caractère sparse des matrices\n",
    "* Il n'a pas été possible de développer des approches prenant en compte des informations sur le contenu, faute de données dans le dataset permettant d'avoir par exemple le genre du livre. Plus on a de données et plus le système de recommandation pourra être efficace ce qui apparait assez limitant dans le cas présent."
   ]
  }
 ],
 "metadata": {
  "kernelspec": {
   "display_name": "Python 3.7.4 64-bit ('base': conda)",
   "language": "python",
   "name": "python37464bitbasecondab33b3c11f7f94797a74086d609a4ed06"
  },
  "language_info": {
   "codemirror_mode": {
    "name": "ipython",
    "version": 3
   },
   "file_extension": ".py",
   "mimetype": "text/x-python",
   "name": "python",
   "nbconvert_exporter": "python",
   "pygments_lexer": "ipython3",
   "version": "3.7.4"
  }
 },
 "nbformat": 4,
 "nbformat_minor": 2
}
